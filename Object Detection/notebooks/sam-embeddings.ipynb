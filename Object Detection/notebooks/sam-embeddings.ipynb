{
 "cells": [
  {
   "cell_type": "code",
   "execution_count": 1,
   "id": "3b0d3a5a",
   "metadata": {},
   "outputs": [
    {
     "name": "stderr",
     "output_type": "stream",
     "text": [
      "c:\\Users\\Andrew Deur\\miniconda3\\envs\\capstone\\Lib\\site-packages\\tqdm\\auto.py:21: TqdmWarning: IProgress not found. Please update jupyter and ipywidgets. See https://ipywidgets.readthedocs.io/en/stable/user_install.html\n",
      "  from .autonotebook import tqdm as notebook_tqdm\n"
     ]
    }
   ],
   "source": [
    "import glob\n",
    "import torch\n",
    "import numpy as np\n",
    "import cv2\n",
    "import json\n",
    "\n",
    "from pathlib import Path\n",
    "from PIL import Image\n",
    "from torch.nn.functional import cosine_similarity\n",
    "from transformers import SamModel, SamImageProcessor"
   ]
  },
  {
   "cell_type": "code",
   "execution_count": 7,
   "id": "9c5100a0",
   "metadata": {},
   "outputs": [],
   "source": [
    "def load_image(path: Path) -> Image.Image:\n",
    "    img = cv2.imread(str(path))\n",
    "    if img is None:\n",
    "        raise ValueError(f\"Failed to load image: {path}\")\n",
    "    return Image.fromarray(cv2.cvtColor(img, cv2.COLOR_BGR2RGB))\n",
    "\n",
    "def compute_sam_embedding(image_path: Path, flatten=True, normalize=True) -> torch.Tensor:\n",
    "    image = load_image(image_path)\n",
    "    inputs = processor(images=image, return_tensors=\"pt\").to(device)\n",
    "\n",
    "    with torch.no_grad():\n",
    "        output = model.vision_encoder(pixel_values=inputs[\"pixel_values\"])\n",
    "        embedding = output.last_hidden_state.squeeze(0)  # shape: [256, H/16, W/16]\n",
    "\n",
    "        if flatten:\n",
    "            embedding = embedding.flatten(start_dim=1).mean(dim=1)  # mean pool to [256]\n",
    "\n",
    "        if normalize:\n",
    "            embedding = torch.nn.functional.normalize(embedding, dim=0)\n",
    "\n",
    "    return embedding.cpu()\n"
   ]
  },
  {
   "cell_type": "code",
   "execution_count": 3,
   "id": "1d0d4a43",
   "metadata": {},
   "outputs": [],
   "source": [
    "def compare_embeddings(emb1: torch.Tensor, emb2: torch.Tensor) -> float:\n",
    "    return cosine_similarity(emb1, emb2, dim=0).item()"
   ]
  },
  {
   "cell_type": "code",
   "execution_count": 4,
   "id": "a5383829",
   "metadata": {},
   "outputs": [
    {
     "data": {
      "text/plain": [
       "SamModel(\n",
       "  (shared_image_embedding): SamPositionalEmbedding()\n",
       "  (vision_encoder): SamVisionEncoder(\n",
       "    (patch_embed): SamPatchEmbeddings(\n",
       "      (projection): Conv2d(3, 1280, kernel_size=(16, 16), stride=(16, 16))\n",
       "    )\n",
       "    (layers): ModuleList(\n",
       "      (0-31): 32 x SamVisionLayer(\n",
       "        (layer_norm1): LayerNorm((1280,), eps=1e-06, elementwise_affine=True)\n",
       "        (attn): SamVisionAttention(\n",
       "          (qkv): Linear(in_features=1280, out_features=3840, bias=True)\n",
       "          (proj): Linear(in_features=1280, out_features=1280, bias=True)\n",
       "        )\n",
       "        (layer_norm2): LayerNorm((1280,), eps=1e-06, elementwise_affine=True)\n",
       "        (mlp): SamMLPBlock(\n",
       "          (lin1): Linear(in_features=1280, out_features=5120, bias=True)\n",
       "          (lin2): Linear(in_features=5120, out_features=1280, bias=True)\n",
       "          (act): GELUActivation()\n",
       "        )\n",
       "      )\n",
       "    )\n",
       "    (neck): SamVisionNeck(\n",
       "      (conv1): Conv2d(1280, 256, kernel_size=(1, 1), stride=(1, 1), bias=False)\n",
       "      (layer_norm1): SamLayerNorm()\n",
       "      (conv2): Conv2d(256, 256, kernel_size=(3, 3), stride=(1, 1), padding=(1, 1), bias=False)\n",
       "      (layer_norm2): SamLayerNorm()\n",
       "    )\n",
       "  )\n",
       "  (prompt_encoder): SamPromptEncoder(\n",
       "    (shared_embedding): SamPositionalEmbedding()\n",
       "    (mask_embed): SamMaskEmbedding(\n",
       "      (activation): GELUActivation()\n",
       "      (conv1): Conv2d(1, 4, kernel_size=(2, 2), stride=(2, 2))\n",
       "      (conv2): Conv2d(4, 16, kernel_size=(2, 2), stride=(2, 2))\n",
       "      (conv3): Conv2d(16, 256, kernel_size=(1, 1), stride=(1, 1))\n",
       "      (layer_norm1): SamLayerNorm()\n",
       "      (layer_norm2): SamLayerNorm()\n",
       "    )\n",
       "    (no_mask_embed): Embedding(1, 256)\n",
       "    (point_embed): ModuleList(\n",
       "      (0-3): 4 x Embedding(1, 256)\n",
       "    )\n",
       "    (not_a_point_embed): Embedding(1, 256)\n",
       "  )\n",
       "  (mask_decoder): SamMaskDecoder(\n",
       "    (iou_token): Embedding(1, 256)\n",
       "    (mask_tokens): Embedding(4, 256)\n",
       "    (transformer): SamTwoWayTransformer(\n",
       "      (layers): ModuleList(\n",
       "        (0-1): 2 x SamTwoWayAttentionBlock(\n",
       "          (self_attn): SamAttention(\n",
       "            (q_proj): Linear(in_features=256, out_features=256, bias=True)\n",
       "            (k_proj): Linear(in_features=256, out_features=256, bias=True)\n",
       "            (v_proj): Linear(in_features=256, out_features=256, bias=True)\n",
       "            (out_proj): Linear(in_features=256, out_features=256, bias=True)\n",
       "          )\n",
       "          (layer_norm1): LayerNorm((256,), eps=1e-06, elementwise_affine=True)\n",
       "          (cross_attn_token_to_image): SamAttention(\n",
       "            (q_proj): Linear(in_features=256, out_features=128, bias=True)\n",
       "            (k_proj): Linear(in_features=256, out_features=128, bias=True)\n",
       "            (v_proj): Linear(in_features=256, out_features=128, bias=True)\n",
       "            (out_proj): Linear(in_features=128, out_features=256, bias=True)\n",
       "          )\n",
       "          (layer_norm2): LayerNorm((256,), eps=1e-06, elementwise_affine=True)\n",
       "          (mlp): SamMLPBlock(\n",
       "            (lin1): Linear(in_features=256, out_features=2048, bias=True)\n",
       "            (lin2): Linear(in_features=2048, out_features=256, bias=True)\n",
       "            (act): ReLU()\n",
       "          )\n",
       "          (layer_norm3): LayerNorm((256,), eps=1e-06, elementwise_affine=True)\n",
       "          (layer_norm4): LayerNorm((256,), eps=1e-06, elementwise_affine=True)\n",
       "          (cross_attn_image_to_token): SamAttention(\n",
       "            (q_proj): Linear(in_features=256, out_features=128, bias=True)\n",
       "            (k_proj): Linear(in_features=256, out_features=128, bias=True)\n",
       "            (v_proj): Linear(in_features=256, out_features=128, bias=True)\n",
       "            (out_proj): Linear(in_features=128, out_features=256, bias=True)\n",
       "          )\n",
       "        )\n",
       "      )\n",
       "      (final_attn_token_to_image): SamAttention(\n",
       "        (q_proj): Linear(in_features=256, out_features=128, bias=True)\n",
       "        (k_proj): Linear(in_features=256, out_features=128, bias=True)\n",
       "        (v_proj): Linear(in_features=256, out_features=128, bias=True)\n",
       "        (out_proj): Linear(in_features=128, out_features=256, bias=True)\n",
       "      )\n",
       "      (layer_norm_final_attn): LayerNorm((256,), eps=1e-05, elementwise_affine=True)\n",
       "    )\n",
       "    (upscale_conv1): ConvTranspose2d(256, 64, kernel_size=(2, 2), stride=(2, 2))\n",
       "    (upscale_conv2): ConvTranspose2d(64, 32, kernel_size=(2, 2), stride=(2, 2))\n",
       "    (upscale_layer_norm): SamLayerNorm()\n",
       "    (activation): GELU(approximate='none')\n",
       "    (output_hypernetworks_mlps): ModuleList(\n",
       "      (0-3): 4 x SamFeedForward(\n",
       "        (activation): ReLU()\n",
       "        (proj_in): Linear(in_features=256, out_features=256, bias=True)\n",
       "        (proj_out): Linear(in_features=256, out_features=32, bias=True)\n",
       "        (layers): ModuleList(\n",
       "          (0): Linear(in_features=256, out_features=256, bias=True)\n",
       "        )\n",
       "      )\n",
       "    )\n",
       "    (iou_prediction_head): SamFeedForward(\n",
       "      (activation): ReLU()\n",
       "      (proj_in): Linear(in_features=256, out_features=256, bias=True)\n",
       "      (proj_out): Linear(in_features=256, out_features=4, bias=True)\n",
       "      (layers): ModuleList(\n",
       "        (0): Linear(in_features=256, out_features=256, bias=True)\n",
       "      )\n",
       "    )\n",
       "  )\n",
       ")"
      ]
     },
     "execution_count": 4,
     "metadata": {},
     "output_type": "execute_result"
    }
   ],
   "source": [
    "model_name = \"facebook/sam-vit-huge\"\n",
    "device = torch.device(\"cuda\" if torch.cuda.is_available() else \"cpu\")\n",
    "model = SamModel.from_pretrained(model_name).to(device)\n",
    "processor = SamImageProcessor.from_pretrained(model_name)\n",
    "model.eval()"
   ]
  },
  {
   "cell_type": "code",
   "execution_count": 5,
   "id": "e40e9f0e",
   "metadata": {},
   "outputs": [],
   "source": [
    "image_dir = Path(r\"C:\\Users\\Andrew Deur\\Documents\\NYU\\DS-GA 1006 Capstone\\Data\\SimCLR\")"
   ]
  },
  {
   "cell_type": "code",
   "execution_count": 6,
   "id": "131c1f0e",
   "metadata": {},
   "outputs": [
    {
     "data": {
      "image/jpeg": "[encoded data removed]",
      "image/png": "[encoded data removed]",
      "text/plain": [
       "<PIL.PngImagePlugin.PngImageFile image mode=RGB size=60x75>"
      ]
     },
     "execution_count": 6,
     "metadata": {},
     "output_type": "execute_result"
    }
   ],
   "source": [
    "img = image_dir / 'class_1.png'\n",
    "Image.open(img)"
   ]
  },
  {
   "cell_type": "code",
   "execution_count": 7,
   "id": "40104ca6",
   "metadata": {},
   "outputs": [
    {
     "data": {
      "image/jpeg": "[encoded data removed]",
      "image/png": "[encoded data removed]",
      "text/plain": [
       "<PIL.PngImagePlugin.PngImageFile image mode=RGB size=98x61>"
      ]
     },
     "execution_count": 7,
     "metadata": {},
     "output_type": "execute_result"
    }
   ],
   "source": [
    "img2 = image_dir / 'class_2.png'\n",
    "Image.open(img2)"
   ]
  },
  {
   "cell_type": "code",
   "execution_count": 8,
   "id": "6a29bf0d",
   "metadata": {},
   "outputs": [
    {
     "name": "stdout",
     "output_type": "stream",
     "text": [
      "Cosine similarity between class_1.png and class_2.png: 0.9252\n"
     ]
    }
   ],
   "source": [
    "emb1 = compute_sam_embedding(img)\n",
    "emb2 = compute_sam_embedding(img2)\n",
    "\n",
    "similarity = compare_embeddings(emb1, emb2)\n",
    "print(f\"Cosine similarity between {img.name} and {img2.name}: {similarity:.4f}\")"
   ]
  },
  {
   "cell_type": "code",
   "execution_count": 9,
   "id": "45e7c47f",
   "metadata": {},
   "outputs": [
    {
     "name": "stdout",
     "output_type": "stream",
     "text": [
      "Cosine similarity between class_1.png and class_2.png: 1.0000\n"
     ]
    }
   ],
   "source": [
    "emb1 = compute_sam_embedding(img)\n",
    "emb2 = compute_sam_embedding(img)\n",
    "\n",
    "similarity = compare_embeddings(emb1, emb2)\n",
    "print(f\"Cosine similarity between {img.name} and {img2.name}: {similarity:.4f}\")"
   ]
  },
  {
   "cell_type": "code",
   "execution_count": 10,
   "id": "3037c6c5",
   "metadata": {},
   "outputs": [
    {
     "data": {
      "image/jpeg": "[encoded data removed]",
      "image/png": "[encoded data removed]",
      "text/plain": [
       "<PIL.PngImagePlugin.PngImageFile image mode=RGB size=60x75>"
      ]
     },
     "execution_count": 10,
     "metadata": {},
     "output_type": "execute_result"
    }
   ],
   "source": [
    "img = image_dir / 'class_1.png'\n",
    "img2 = image_dir / 'class_19_a.png'\n",
    "\n",
    "Image.open(img)"
   ]
  },
  {
   "cell_type": "code",
   "execution_count": 11,
   "id": "1935969a",
   "metadata": {},
   "outputs": [
    {
     "data": {
      "image/png": "[encoded data removed]",
      "text/plain": [
       "<PIL.PngImagePlugin.PngImageFile image mode=RGBA size=47x133>"
      ]
     },
     "execution_count": 11,
     "metadata": {},
     "output_type": "execute_result"
    }
   ],
   "source": [
    "Image.open(img2)"
   ]
  },
  {
   "cell_type": "code",
   "execution_count": 12,
   "id": "f6d873e6",
   "metadata": {},
   "outputs": [
    {
     "name": "stdout",
     "output_type": "stream",
     "text": [
      "Cosine similarity between class_1.png and class_19_a.png: 0.7677\n"
     ]
    }
   ],
   "source": [
    "emb1 = compute_sam_embedding(img)\n",
    "emb2 = compute_sam_embedding(img2)\n",
    "\n",
    "similarity = compare_embeddings(emb1, emb2)\n",
    "print(f\"Cosine similarity between {img.name} and {img2.name}: {similarity:.4f}\")"
   ]
  },
  {
   "cell_type": "markdown",
   "id": "8ab9f953",
   "metadata": {},
   "source": [
    "## Ground Truth Embeddings"
   ]
  },
  {
   "cell_type": "code",
   "execution_count": 2,
   "id": "7039132f",
   "metadata": {},
   "outputs": [],
   "source": [
    "root = Path().resolve().parents[1]\n",
    "model_folder = 'train8'"
   ]
  },
  {
   "cell_type": "code",
   "execution_count": 69,
   "id": "8cf936cd",
   "metadata": {},
   "outputs": [],
   "source": [
    "# GT Class Images\n",
    "gt_imgs_path = root / 'Data' / 'test' / 'fw_system' / 'labels' / '*.png'\n",
    "gt_imgs = glob.glob(str(gt_imgs_path))\n",
    "\n",
    "# Detection Images\n",
    "imgs_path = root / 'Data' / 'test' / 'fw_system' / 'predictions' / model_folder / '*.png'\n",
    "prediction_imgs = glob.glob(str(imgs_path))\n",
    "\n",
    "# Class ID to Labels\n",
    "class_labels = root / 'Data' / 'test' / 'fw_system' / 'labels' / 'notes.json'\n",
    "with open(class_labels) as json_data:\n",
    "    d = json.load(json_data)\n",
    "\n",
    "# Translate Class ID to labels\n",
    "gt_indices = [0, 1, 3, 6, 7, 9, 11, 12, 15, 16, 18, 21, 23, 24, 25, 27, 28, 30, 31, 32, 39]\n",
    "labels = [d['categories'][i] for i in gt_indices]"
   ]
  },
  {
   "cell_type": "code",
   "execution_count": 70,
   "id": "3a26bc0b",
   "metadata": {},
   "outputs": [],
   "source": [
    "from PIDObjectLookupTable import ObjectLookupTableSAM\n",
    "\n",
    "pid_lookup_table = ObjectLookupTableSAM(labels, gt_imgs)\n",
    "max_sim, match_class = pid_lookup_table.classify(prediction_imgs)"
   ]
  },
  {
   "cell_type": "code",
   "execution_count": 71,
   "id": "6657e0f2",
   "metadata": {},
   "outputs": [],
   "source": [
    "import re\n",
    "\n",
    "regex = re.compile(\"_([0-9]+)\\.png\")\n",
    "paths = pid_lookup_table.gt_image_paths\n",
    "gt_class_labels = [regex.search(x).group(1) for x in paths]"
   ]
  },
  {
   "cell_type": "code",
   "execution_count": 72,
   "id": "1bfa43ce",
   "metadata": {},
   "outputs": [],
   "source": [
    "match_class_converted = [gt_class_labels[x] for x in match_class]"
   ]
  },
  {
   "cell_type": "code",
   "execution_count": 73,
   "id": "86ed8e4d",
   "metadata": {},
   "outputs": [],
   "source": [
    "id_to_name = {item['id']: item['name'] for item in pid_lookup_table.class_labels}\n",
    "class_name = [id_to_name[int(x)] for x in match_class_converted]"
   ]
  },
  {
   "cell_type": "code",
   "execution_count": 75,
   "id": "d5c44d17",
   "metadata": {},
   "outputs": [],
   "source": [
    "from collections import Counter\n",
    "\n",
    "counts = Counter(class_name)"
   ]
  },
  {
   "cell_type": "code",
   "execution_count": 76,
   "id": "5179120d",
   "metadata": {},
   "outputs": [
    {
     "name": "stdout",
     "output_type": "stream",
     "text": [
      "Control Measurement Point: 21\n",
      "Inline Flow Meter: 37\n",
      "Centrifugal Pump: 1\n",
      "Reducer: 4\n",
      "Swinging Disk Check Valve: 1\n",
      "Flow Arrow: 2\n",
      "Flange: 5\n",
      "Inline Indicator: 2\n",
      "Gate Valve N.O. #1: 2\n",
      "Gate Valve N.O. #2: 13\n",
      "PLC: 1\n",
      "Coupling: 1\n",
      "Globe Valve N.O.: 1\n",
      "Needle Valve: 4\n",
      "Gate Valve Pneumatic: 1\n",
      "Hose Bib: 4\n",
      "Pressure Vessel: 1\n",
      "Ball Valve N.C.: 3\n",
      "Motor: 1\n"
     ]
    }
   ],
   "source": [
    "for item, count in counts.items():\n",
    "    print(f\"{item}: {count}\")"
   ]
  }
 ],
 "metadata": {
  "kernelspec": {
   "display_name": "capstone",
   "language": "python",
   "name": "python3"
  },
  "language_info": {
   "codemirror_mode": {
    "name": "ipython",
    "version": 3
   },
   "file_extension": ".py",
   "mimetype": "text/x-python",
   "name": "python",
   "nbconvert_exporter": "python",
   "pygments_lexer": "ipython3",
   "version": "3.11.11"
  }
 },
 "nbformat": 4,
 "nbformat_minor": 5
}
