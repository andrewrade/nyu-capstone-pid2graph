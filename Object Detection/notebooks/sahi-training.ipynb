{
 "cells": [
  {
   "cell_type": "code",
   "execution_count": 2,
   "metadata": {},
   "outputs": [],
   "source": [
    "from pathlib import Path\n",
    "from ultralytics import YOLO"
   ]
  },
  {
   "cell_type": "markdown",
   "metadata": {},
   "source": [
    "## 1. P&ID Pre-Processing\n",
    "    - 7,168 W x 4,561 H Un-Cropped\n",
    "    - 5,668 W x 4,311 H Cropped (Removed Title Block & Border)"
   ]
  },
  {
   "cell_type": "code",
   "execution_count": 2,
   "metadata": {},
   "outputs": [],
   "source": [
    "from PIDObjectDetector import PIDPreprocessor"
   ]
  },
  {
   "cell_type": "markdown",
   "metadata": {},
   "source": [
    "### 1. Crop Image & Adjust Annotations"
   ]
  },
  {
   "cell_type": "code",
   "execution_count": 3,
   "metadata": {},
   "outputs": [],
   "source": [
    "root = Path().resolve().parents[1] # Data folder is 1 dir up"
   ]
  },
  {
   "cell_type": "code",
   "execution_count": 4,
   "metadata": {},
   "outputs": [
    {
     "ename": "TypeError",
     "evalue": "PIDPreprocessor.yolo_pre_processing() missing 1 required positional argument: 'folder'",
     "output_type": "error",
     "traceback": [
      "\u001b[1;31m---------------------------------------------------------------------------\u001b[0m",
      "\u001b[1;31mTypeError\u001b[0m                                 Traceback (most recent call last)",
      "Cell \u001b[1;32mIn[4], line 21\u001b[0m\n\u001b[0;32m     10\u001b[0m pids \u001b[38;5;241m=\u001b[39m PIDPreprocessor(\n\u001b[0;32m     11\u001b[0m         root,\n\u001b[0;32m     12\u001b[0m         WIDTH,\n\u001b[1;32m   (...)\u001b[0m\n\u001b[0;32m     17\u001b[0m         crop_coords\u001b[38;5;241m=\u001b[39m (X1_CROP, Y1_CROP, X2_CROP, Y2_CROP)\n\u001b[0;32m     18\u001b[0m )\n\u001b[0;32m     20\u001b[0m \u001b[38;5;66;03m# Crop Images & Adjust Annotations \u001b[39;00m\n\u001b[1;32m---> 21\u001b[0m pids\u001b[38;5;241m.\u001b[39myolo_pre_processing()\n",
      "\u001b[1;31mTypeError\u001b[0m: PIDPreprocessor.yolo_pre_processing() missing 1 required positional argument: 'folder'"
     ]
    }
   ],
   "source": [
    "WIDTH = 7168 # pixels\n",
    "HEIGHT = 4561 # pixels\n",
    "\n",
    "# New Boundaries after Crop\n",
    "X1_CROP = 400\n",
    "Y1_CROP = 300\n",
    "X2_CROP = 5668 \n",
    "Y2_CROP = 4311\n",
    "\n",
    "pids = PIDPreprocessor(\n",
    "        root,\n",
    "        WIDTH,\n",
    "        HEIGHT,\n",
    "        475,\n",
    "        400,\n",
    "        general_classes=False,\n",
    "        crop_coords= (X1_CROP, Y1_CROP, X2_CROP, Y2_CROP)\n",
    ")\n",
    "\n",
    "# Crop Images & Adjust Annotations \n",
    "pids.yolo_pre_processing() "
   ]
  },
  {
   "cell_type": "markdown",
   "metadata": {},
   "source": [
    "### 2. Segment Cropped Images\n",
    "\n",
    "#### - Segment training/val data to different tile sizes so that the aspect ratio of the symbol to the tile is varied in the training data. Modify overlap ratios so that the stride length is same between tiles (same number of training images for each tile size)\n",
    "\n",
    "1. 320 px tile\n",
    "    - 320 pixel stride\n",
    "        - 0% overlap ratio\n",
    "2. 480 px tile\n",
    "    - 480 pixel stride\n",
    "        - 33% overlap ratio\n",
    "2. 640 px tile\n",
    "    - 480 pixel stride\n",
    "        - 50% overlap ratio \n",
    "3. 800 px tile\n",
    "    - 480 pixel stride \n",
    "        - 67% overlap ratio"
   ]
  },
  {
   "cell_type": "code",
   "execution_count": 13,
   "metadata": {},
   "outputs": [],
   "source": [
    "# New Dimensions of Cropped Image\n",
    "WIDTH = 5268\n",
    "HEIGHT = 4011\n",
    "\n",
    "cropped_pids = PIDPreprocessor(\n",
    "        root,\n",
    "        WIDTH,\n",
    "        HEIGHT,\n",
    "        475,\n",
    "        400,\n",
    "        general_classes=False,\n",
    ")"
   ]
  },
  {
   "cell_type": "code",
   "execution_count": 15,
   "metadata": {},
   "outputs": [],
   "source": [
    "cropped_pids.segment_training_imgs('synthetic_1_cropped', tile_size=320, overlap_ratio=0)"
   ]
  },
  {
   "cell_type": "code",
   "execution_count": 7,
   "metadata": {},
   "outputs": [],
   "source": [
    "cropped_pids.segment_training_imgs('synthetic_1_cropped', tile_size=480, overlap_ratio=0.33)"
   ]
  },
  {
   "cell_type": "code",
   "execution_count": 8,
   "metadata": {},
   "outputs": [],
   "source": [
    "cropped_pids.segment_training_imgs('synthetic_1_cropped', tile_size=640, overlap_ratio=0.5)"
   ]
  },
  {
   "cell_type": "code",
   "execution_count": 9,
   "metadata": {},
   "outputs": [],
   "source": [
    "cropped_pids.segment_training_imgs('synthetic_1_cropped', tile_size=800, overlap_ratio=0.67)"
   ]
  },
  {
   "cell_type": "markdown",
   "metadata": {},
   "source": [
    "## 2. YOLO Training"
   ]
  },
  {
   "cell_type": "markdown",
   "metadata": {},
   "source": [
    "### YOLO Finetuned on P&ID Images. \n",
    "\n",
    "#### Classes:\n",
    "    1 'Gate Valve, N.C',\n",
    "    2 'Ball Valve', \n",
    "    3 'Globe Valve, N.O.', \n",
    "    4 'Gate Valve, N.O.', \n",
    "    5 'Ball Valve', \n",
    "    6 'Butterfly Valve', \n",
    "    7 'Gate Valve, Manually Actuated', \n",
    "    8 'Check Valve', \n",
    "    9 'Diaphragm Valve', \n",
    "    10 'Needle Valve', \n",
    "    11 'Gate Valve, P.C.', \n",
    "    12 'Gate Valve, N.C.', \n",
    "    13 'Globe Valve, N.C',\n",
    "    14 'Gate Valve, Pneumatic', \n",
    "    15 'Rotary Valve, N.O.', \n",
    "    16 'Rotary Valve, N.C.', \n",
    "    17 'Open Spacer', \n",
    "    18 'Spectacle Blind, N.C.', \n",
    "    19 'Spectacle Blind, N.O.', \n",
    "    20 'Reducer', \n",
    "    21 'Flange', \n",
    "    22 'Heat Exchanger',\n",
    "    23 'Insulation', \n",
    "    24 'Flow Arrow', \n",
    "    25 'Circle Valve',\n",
    "    26 'Inline Indicator', \n",
    "    27 'Inline Flow Meter',\n",
    "    28 'Shared Display, Local',\n",
    "    29 'Shared Display, Remote',\n",
    "    30 'Control Panel',\n",
    "    31 'Non-Inline Flow Meter',\n",
    "    32 'Control Measurement Point',\n",
    "    33 'Gauge',\n",
    "    34 'PLC',\n",
    "    35 'Swinging Disk Check Valve',\n",
    "    36 'Hose Bib',\n",
    "    37 'Pressure Vessel',\n",
    "    38 'Centrifugal Pump',\n",
    "    39 'Motor',\n",
    "    40 'Coupling',\n",
    "    41 'Continuation Arrow'"
   ]
  },
  {
   "cell_type": "code",
   "execution_count": null,
   "metadata": {},
   "outputs": [
    {
     "name": "stdout",
     "output_type": "stream",
     "text": [
      "New https://pypi.org/project/ultralytics/8.3.29 available  Update with 'pip install -U ultralytics'\n",
      "Ultralytics 8.3.6  Python-3.11.10 torch-2.4.1+cu121 CUDA:0 (NVIDIA GeForce RTX 3080, 10240MiB)\n",
      "\u001b[34m\u001b[1mengine\\trainer: \u001b[0mtask=detect, mode=train, model=yolo11n.pt, data=YAML/data_cropped_segmented.yaml, epochs=100, time=None, patience=10, batch=32, imgsz=640, save=True, save_period=-1, cache=False, device=0, workers=8, project=None, name=Single Class 100E (MR Slices), exist_ok=False, pretrained=True, optimizer=auto, verbose=True, seed=510, deterministic=True, single_cls=True, rect=False, cos_lr=True, close_mosaic=10, resume=False, amp=True, fraction=0.3, profile=False, freeze=None, multi_scale=False, overlap_mask=True, mask_ratio=4, dropout=0.5, val=True, split=val, save_json=False, save_hybrid=False, conf=None, iou=0.7, max_det=300, half=False, dnn=False, plots=True, source=None, vid_stride=1, stream_buffer=False, visualize=False, augment=False, agnostic_nms=False, classes=None, retina_masks=False, embed=None, show=False, save_frames=False, save_txt=False, save_conf=False, save_crop=False, show_labels=True, show_conf=True, show_boxes=True, line_width=None, format=torchscript, keras=False, optimize=False, int8=False, dynamic=False, simplify=True, opset=None, workspace=4, nms=False, lr0=0.01, lrf=0.01, momentum=0.937, weight_decay=0.0005, warmup_epochs=3.0, warmup_momentum=0.8, warmup_bias_lr=0.1, box=7.5, cls=0.5, dfl=1.5, pose=12.0, kobj=1.0, label_smoothing=0.0, nbs=64, hsv_h=0, hsv_s=0, hsv_v=0.3, degrees=10, translate=0.1, scale=0.1, shear=10, perspective=0.0, flipud=0.5, fliplr=0.5, bgr=0.0, mosaic=0, mixup=0.1, copy_paste=0.0, copy_paste_mode=flip, auto_augment=randaugment, erasing=0.3, crop_fraction=1.0, cfg=None, tracker=botsort.yaml, save_dir=runs\\detect\\Single Class 100E (MR Slices)\n",
      "Overriding model.yaml nc=80 with nc=40\n",
      "\n",
      "                   from  n    params  module                                       arguments                     \n",
      "  0                  -1  1       464  ultralytics.nn.modules.conv.Conv             [3, 16, 3, 2]                 \n",
      "  1                  -1  1      4672  ultralytics.nn.modules.conv.Conv             [16, 32, 3, 2]                \n",
      "  2                  -1  1      6640  ultralytics.nn.modules.block.C3k2            [32, 64, 1, False, 0.25]      \n",
      "  3                  -1  1     36992  ultralytics.nn.modules.conv.Conv             [64, 64, 3, 2]                \n",
      "  4                  -1  1     26080  ultralytics.nn.modules.block.C3k2            [64, 128, 1, False, 0.25]     \n",
      "  5                  -1  1    147712  ultralytics.nn.modules.conv.Conv             [128, 128, 3, 2]              \n",
      "  6                  -1  1     87040  ultralytics.nn.modules.block.C3k2            [128, 128, 1, True]           \n",
      "  7                  -1  1    295424  ultralytics.nn.modules.conv.Conv             [128, 256, 3, 2]              \n",
      "  8                  -1  1    346112  ultralytics.nn.modules.block.C3k2            [256, 256, 1, True]           \n",
      "  9                  -1  1    164608  ultralytics.nn.modules.block.SPPF            [256, 256, 5]                 \n",
      " 10                  -1  1    249728  ultralytics.nn.modules.block.C2PSA           [256, 256, 1]                 \n",
      " 11                  -1  1         0  torch.nn.modules.upsampling.Upsample         [None, 2, 'nearest']          \n",
      " 12             [-1, 6]  1         0  ultralytics.nn.modules.conv.Concat           [1]                           \n",
      " 13                  -1  1    111296  ultralytics.nn.modules.block.C3k2            [384, 128, 1, False]          \n",
      " 14                  -1  1         0  torch.nn.modules.upsampling.Upsample         [None, 2, 'nearest']          \n",
      " 15             [-1, 4]  1         0  ultralytics.nn.modules.conv.Concat           [1]                           \n",
      " 16                  -1  1     32096  ultralytics.nn.modules.block.C3k2            [256, 64, 1, False]           \n",
      " 17                  -1  1     36992  ultralytics.nn.modules.conv.Conv             [64, 64, 3, 2]                \n",
      " 18            [-1, 13]  1         0  ultralytics.nn.modules.conv.Concat           [1]                           \n",
      " 19                  -1  1     86720  ultralytics.nn.modules.block.C3k2            [192, 128, 1, False]          \n",
      " 20                  -1  1    147712  ultralytics.nn.modules.conv.Conv             [128, 128, 3, 2]              \n",
      " 21            [-1, 10]  1         0  ultralytics.nn.modules.conv.Concat           [1]                           \n",
      " 22                  -1  1    378880  ultralytics.nn.modules.block.C3k2            [384, 256, 1, True]           \n",
      " 23        [16, 19, 22]  1    438472  ultralytics.nn.modules.head.Detect           [40, [64, 128, 256]]          \n",
      "YOLO11n summary: 319 layers, 2,597,640 parameters, 2,597,624 gradients, 6.5 GFLOPs\n",
      "\n",
      "Transferred 448/499 items from pretrained weights\n",
      "Freezing layer 'model.23.dfl.conv.weight'\n",
      "\u001b[34m\u001b[1mAMP: \u001b[0mrunning Automatic Mixed Precision (AMP) checks with YOLO11n...\n",
      "\u001b[34m\u001b[1mAMP: \u001b[0mchecks passed \n"
     ]
    },
    {
     "name": "stderr",
     "output_type": "stream",
     "text": [
      "\u001b[34m\u001b[1mtrain: \u001b[0mScanning C:\\Users\\Andrew Deur\\Documents\\NYU\\DS-GA 1006 Capstone\\Data\\synthetic_1_cropped_segmented_multi_resolution\\labels\\train... 78992 images, 24328 backgrounds, 0 corrupt: 100%|██████████| 103320/103320 [03:07<00:00, 551.42it/s] \n"
     ]
    },
    {
     "name": "stdout",
     "output_type": "stream",
     "text": [
      "\u001b[34m\u001b[1mtrain: \u001b[0mNew cache created: C:\\Users\\Andrew Deur\\Documents\\NYU\\DS-GA 1006 Capstone\\Data\\synthetic_1_cropped_segmented_multi_resolution\\labels\\train.cache\n"
     ]
    },
    {
     "name": "stderr",
     "output_type": "stream",
     "text": [
      "\u001b[34m\u001b[1mval: \u001b[0mScanning C:\\Users\\Andrew Deur\\Documents\\NYU\\DS-GA 1006 Capstone\\Data\\synthetic_1_cropped_segmented_multi_resolution\\labels\\val... 48132 images, 16443 backgrounds, 0 corrupt: 100%|██████████| 64575/64575 [00:40<00:00, 1579.59it/s]\n"
     ]
    },
    {
     "name": "stdout",
     "output_type": "stream",
     "text": [
      "\u001b[34m\u001b[1mval: \u001b[0mNew cache created: C:\\Users\\Andrew Deur\\Documents\\NYU\\DS-GA 1006 Capstone\\Data\\synthetic_1_cropped_segmented_multi_resolution\\labels\\val.cache\n",
      "Plotting labels to runs\\detect\\Single Class 100E (MR Slices)\\labels.jpg... \n",
      "\u001b[34m\u001b[1moptimizer:\u001b[0m 'optimizer=auto' found, ignoring 'lr0=0.01' and 'momentum=0.937' and determining best 'optimizer', 'lr0' and 'momentum' automatically... \n",
      "\u001b[34m\u001b[1moptimizer:\u001b[0m SGD(lr=0.01, momentum=0.9) with parameter groups 81 weight(decay=0.0), 88 weight(decay=0.0005), 87 bias(decay=0.0)\n",
      "Image sizes 640 train, 640 val\n",
      "Using 8 dataloader workers\n",
      "Logging results to \u001b[1mruns\\detect\\Single Class 100E (MR Slices)\u001b[0m\n",
      "Starting training for 100 epochs...\n",
      "\n",
      "      Epoch    GPU_mem   box_loss   cls_loss   dfl_loss  Instances       Size\n"
     ]
    },
    {
     "name": "stderr",
     "output_type": "stream",
     "text": [
      "      1/100      9.27G     0.7646      1.264     0.9379         67        640: 100%|██████████| 3229/3229 [44:07<00:00,  1.22it/s]\n",
      "                 Class     Images  Instances      Box(P          R      mAP50  mAP50-95): 100%|██████████| 1009/1009 [14:49<00:00,  1.13it/s]\n"
     ]
    },
    {
     "name": "stdout",
     "output_type": "stream",
     "text": [
      "                   all      64575     138978      0.973      0.956      0.987      0.849\n",
      "\n",
      "      Epoch    GPU_mem   box_loss   cls_loss   dfl_loss  Instances       Size\n"
     ]
    },
    {
     "name": "stderr",
     "output_type": "stream",
     "text": [
      "      2/100      4.93G     0.6298     0.5319     0.8902         61        640: 100%|██████████| 3229/3229 [09:20<00:00,  5.76it/s]\n",
      "                 Class     Images  Instances      Box(P          R      mAP50  mAP50-95): 100%|██████████| 1009/1009 [04:17<00:00,  3.92it/s]\n"
     ]
    },
    {
     "name": "stdout",
     "output_type": "stream",
     "text": [
      "                   all      64575     138978      0.978      0.978      0.992      0.891\n",
      "\n",
      "      Epoch    GPU_mem   box_loss   cls_loss   dfl_loss  Instances       Size\n"
     ]
    },
    {
     "name": "stderr",
     "output_type": "stream",
     "text": [
      "      3/100       4.9G     0.6182     0.3908     0.8906         57        640: 100%|██████████| 3229/3229 [08:32<00:00,  6.30it/s]\n",
      "                 Class     Images  Instances      Box(P          R      mAP50  mAP50-95): 100%|██████████| 1009/1009 [04:15<00:00,  3.95it/s]\n"
     ]
    },
    {
     "name": "stdout",
     "output_type": "stream",
     "text": [
      "                   all      64575     138978      0.979      0.979      0.993      0.911\n",
      "\n",
      "      Epoch    GPU_mem   box_loss   cls_loss   dfl_loss  Instances       Size\n"
     ]
    },
    {
     "name": "stderr",
     "output_type": "stream",
     "text": [
      "      4/100      4.89G     0.5795     0.3457     0.8827         52        640: 100%|██████████| 3229/3229 [08:36<00:00,  6.26it/s]\n",
      "                 Class     Images  Instances      Box(P          R      mAP50  mAP50-95): 100%|██████████| 1009/1009 [04:13<00:00,  3.98it/s]\n"
     ]
    },
    {
     "name": "stdout",
     "output_type": "stream",
     "text": [
      "                   all      64575     138978      0.982      0.983      0.994      0.939\n",
      "\n",
      "      Epoch    GPU_mem   box_loss   cls_loss   dfl_loss  Instances       Size\n"
     ]
    },
    {
     "name": "stderr",
     "output_type": "stream",
     "text": [
      "      5/100      4.86G     0.5182      0.308     0.8664         66        640: 100%|██████████| 3229/3229 [08:38<00:00,  6.23it/s]\n",
      "                 Class     Images  Instances      Box(P          R      mAP50  mAP50-95): 100%|██████████| 1009/1009 [04:14<00:00,  3.97it/s]\n"
     ]
    },
    {
     "name": "stdout",
     "output_type": "stream",
     "text": [
      "                   all      64575     138978      0.983      0.984      0.994      0.951\n",
      "\n",
      "      Epoch    GPU_mem   box_loss   cls_loss   dfl_loss  Instances       Size\n"
     ]
    },
    {
     "name": "stderr",
     "output_type": "stream",
     "text": [
      "      6/100      4.88G     0.4876     0.2896     0.8577         85        640: 100%|██████████| 3229/3229 [08:25<00:00,  6.38it/s]\n",
      "                 Class     Images  Instances      Box(P          R      mAP50  mAP50-95): 100%|██████████| 1009/1009 [04:09<00:00,  4.05it/s]\n"
     ]
    },
    {
     "name": "stdout",
     "output_type": "stream",
     "text": [
      "                   all      64575     138978      0.985      0.984      0.994      0.958\n",
      "\n",
      "      Epoch    GPU_mem   box_loss   cls_loss   dfl_loss  Instances       Size\n"
     ]
    },
    {
     "name": "stderr",
     "output_type": "stream",
     "text": [
      "      7/100      4.87G     0.4679     0.2785     0.8529         51        640: 100%|██████████| 3229/3229 [08:28<00:00,  6.35it/s]\n",
      "                 Class     Images  Instances      Box(P          R      mAP50  mAP50-95): 100%|██████████| 1009/1009 [04:13<00:00,  3.98it/s]\n"
     ]
    },
    {
     "name": "stdout",
     "output_type": "stream",
     "text": [
      "                   all      64575     138978      0.986      0.986      0.994       0.96\n",
      "\n",
      "      Epoch    GPU_mem   box_loss   cls_loss   dfl_loss  Instances       Size\n"
     ]
    },
    {
     "name": "stderr",
     "output_type": "stream",
     "text": [
      "      8/100      4.87G     0.4565     0.2706     0.8501         61        640: 100%|██████████| 3229/3229 [08:27<00:00,  6.36it/s]\n",
      "                 Class     Images  Instances      Box(P          R      mAP50  mAP50-95): 100%|██████████| 1009/1009 [04:13<00:00,  3.97it/s]\n"
     ]
    },
    {
     "name": "stdout",
     "output_type": "stream",
     "text": [
      "                   all      64575     138978      0.987      0.985      0.994      0.963\n",
      "\n",
      "      Epoch    GPU_mem   box_loss   cls_loss   dfl_loss  Instances       Size\n"
     ]
    },
    {
     "name": "stderr",
     "output_type": "stream",
     "text": [
      "      9/100      4.86G     0.4457     0.2645     0.8469         49        640: 100%|██████████| 3229/3229 [08:34<00:00,  6.27it/s]\n",
      "                 Class     Images  Instances      Box(P          R      mAP50  mAP50-95): 100%|██████████| 1009/1009 [04:17<00:00,  3.92it/s]\n"
     ]
    },
    {
     "name": "stdout",
     "output_type": "stream",
     "text": [
      "                   all      64575     138978      0.987      0.986      0.994      0.965\n",
      "\n",
      "      Epoch    GPU_mem   box_loss   cls_loss   dfl_loss  Instances       Size\n"
     ]
    },
    {
     "name": "stderr",
     "output_type": "stream",
     "text": [
      "     10/100      4.91G     0.4365     0.2603      0.845         51        640: 100%|██████████| 3229/3229 [08:32<00:00,  6.30it/s]\n",
      "                 Class     Images  Instances      Box(P          R      mAP50  mAP50-95): 100%|██████████| 1009/1009 [04:09<00:00,  4.05it/s]\n"
     ]
    },
    {
     "name": "stdout",
     "output_type": "stream",
     "text": [
      "                   all      64575     138978      0.987      0.986      0.994      0.966\n",
      "\n",
      "      Epoch    GPU_mem   box_loss   cls_loss   dfl_loss  Instances       Size\n"
     ]
    },
    {
     "name": "stderr",
     "output_type": "stream",
     "text": [
      "     11/100      4.87G     0.4297     0.2549     0.8426         63        640: 100%|██████████| 3229/3229 [08:28<00:00,  6.35it/s]\n",
      "                 Class     Images  Instances      Box(P          R      mAP50  mAP50-95): 100%|██████████| 1009/1009 [04:08<00:00,  4.06it/s]\n"
     ]
    },
    {
     "name": "stdout",
     "output_type": "stream",
     "text": [
      "                   all      64575     138978      0.987      0.987      0.994      0.967\n",
      "\n",
      "      Epoch    GPU_mem   box_loss   cls_loss   dfl_loss  Instances       Size\n"
     ]
    },
    {
     "name": "stderr",
     "output_type": "stream",
     "text": [
      "     12/100      4.88G     0.4241     0.2527     0.8417         57        640: 100%|██████████| 3229/3229 [08:24<00:00,  6.39it/s]\n",
      "                 Class     Images  Instances      Box(P          R      mAP50  mAP50-95): 100%|██████████| 1009/1009 [04:08<00:00,  4.06it/s]\n"
     ]
    },
    {
     "name": "stdout",
     "output_type": "stream",
     "text": [
      "                   all      64575     138978      0.987      0.987      0.994      0.968\n",
      "\n",
      "      Epoch    GPU_mem   box_loss   cls_loss   dfl_loss  Instances       Size\n"
     ]
    },
    {
     "name": "stderr",
     "output_type": "stream",
     "text": [
      "     13/100      4.86G     0.4197     0.2488     0.8408         63        640: 100%|██████████| 3229/3229 [08:27<00:00,  6.37it/s]\n",
      "                 Class     Images  Instances      Box(P          R      mAP50  mAP50-95): 100%|██████████| 1009/1009 [04:10<00:00,  4.02it/s]\n"
     ]
    },
    {
     "name": "stdout",
     "output_type": "stream",
     "text": [
      "                   all      64575     138978      0.987      0.987      0.994      0.969\n",
      "\n",
      "      Epoch    GPU_mem   box_loss   cls_loss   dfl_loss  Instances       Size\n"
     ]
    },
    {
     "name": "stderr",
     "output_type": "stream",
     "text": [
      "     14/100      4.85G     0.4161     0.2476     0.8393         57        640: 100%|██████████| 3229/3229 [08:30<00:00,  6.33it/s]\n",
      "                 Class     Images  Instances      Box(P          R      mAP50  mAP50-95): 100%|██████████| 1009/1009 [04:09<00:00,  4.05it/s]\n"
     ]
    },
    {
     "name": "stdout",
     "output_type": "stream",
     "text": [
      "                   all      64575     138978      0.987      0.987      0.994      0.969\n",
      "\n",
      "      Epoch    GPU_mem   box_loss   cls_loss   dfl_loss  Instances       Size\n"
     ]
    },
    {
     "name": "stderr",
     "output_type": "stream",
     "text": [
      "     15/100      4.85G     0.4113     0.2445     0.8383         65        640: 100%|██████████| 3229/3229 [08:25<00:00,  6.39it/s]\n",
      "                 Class     Images  Instances      Box(P          R      mAP50  mAP50-95): 100%|██████████| 1009/1009 [04:09<00:00,  4.05it/s]\n"
     ]
    },
    {
     "name": "stdout",
     "output_type": "stream",
     "text": [
      "                   all      64575     138978      0.988      0.987      0.994      0.969\n",
      "\n",
      "      Epoch    GPU_mem   box_loss   cls_loss   dfl_loss  Instances       Size\n"
     ]
    },
    {
     "name": "stderr",
     "output_type": "stream",
     "text": [
      "     16/100      4.85G     0.4089     0.2434     0.8374         57        640: 100%|██████████| 3229/3229 [08:26<00:00,  6.37it/s]\n",
      "                 Class     Images  Instances      Box(P          R      mAP50  mAP50-95): 100%|██████████| 1009/1009 [04:08<00:00,  4.07it/s]\n"
     ]
    },
    {
     "name": "stdout",
     "output_type": "stream",
     "text": [
      "                   all      64575     138978      0.988      0.987      0.994      0.969\n",
      "\n",
      "      Epoch    GPU_mem   box_loss   cls_loss   dfl_loss  Instances       Size\n"
     ]
    },
    {
     "name": "stderr",
     "output_type": "stream",
     "text": [
      "     17/100      4.85G     0.4048     0.2405     0.8366         47        640: 100%|██████████| 3229/3229 [08:25<00:00,  6.38it/s]\n",
      "                 Class     Images  Instances      Box(P          R      mAP50  mAP50-95): 100%|██████████| 1009/1009 [04:10<00:00,  4.03it/s]\n"
     ]
    },
    {
     "name": "stdout",
     "output_type": "stream",
     "text": [
      "                   all      64575     138978      0.988      0.987      0.994      0.969\n",
      "\n",
      "      Epoch    GPU_mem   box_loss   cls_loss   dfl_loss  Instances       Size\n"
     ]
    },
    {
     "name": "stderr",
     "output_type": "stream",
     "text": [
      "     18/100      4.85G     0.4036     0.2401     0.8363         71        640: 100%|██████████| 3229/3229 [08:31<00:00,  6.31it/s]\n",
      "                 Class     Images  Instances      Box(P          R      mAP50  mAP50-95): 100%|██████████| 1009/1009 [04:06<00:00,  4.09it/s]\n"
     ]
    },
    {
     "name": "stdout",
     "output_type": "stream",
     "text": [
      "                   all      64575     138978      0.988      0.987      0.994      0.969\n",
      "\n",
      "      Epoch    GPU_mem   box_loss   cls_loss   dfl_loss  Instances       Size\n"
     ]
    },
    {
     "name": "stderr",
     "output_type": "stream",
     "text": [
      "     19/100      4.88G     0.3999     0.2381     0.8353         63        640: 100%|██████████| 3229/3229 [08:30<00:00,  6.33it/s]\n",
      "                 Class     Images  Instances      Box(P          R      mAP50  mAP50-95): 100%|██████████| 1009/1009 [04:07<00:00,  4.07it/s]\n"
     ]
    },
    {
     "name": "stdout",
     "output_type": "stream",
     "text": [
      "                   all      64575     138978      0.989      0.987      0.994       0.97\n",
      "\n",
      "      Epoch    GPU_mem   box_loss   cls_loss   dfl_loss  Instances       Size\n"
     ]
    },
    {
     "name": "stderr",
     "output_type": "stream",
     "text": [
      "     20/100      4.86G     0.3976     0.2361     0.8346         46        640: 100%|██████████| 3229/3229 [08:30<00:00,  6.32it/s]\n",
      "                 Class     Images  Instances      Box(P          R      mAP50  mAP50-95): 100%|██████████| 1009/1009 [04:11<00:00,  4.01it/s]\n"
     ]
    },
    {
     "name": "stdout",
     "output_type": "stream",
     "text": [
      "                   all      64575     138978      0.989      0.987      0.994       0.97\n",
      "\n",
      "      Epoch    GPU_mem   box_loss   cls_loss   dfl_loss  Instances       Size\n"
     ]
    },
    {
     "name": "stderr",
     "output_type": "stream",
     "text": [
      "     21/100      4.87G     0.3949     0.2351      0.834         74        640: 100%|██████████| 3229/3229 [08:24<00:00,  6.40it/s]\n",
      "                 Class     Images  Instances      Box(P          R      mAP50  mAP50-95): 100%|██████████| 1009/1009 [04:09<00:00,  4.05it/s]\n"
     ]
    },
    {
     "name": "stdout",
     "output_type": "stream",
     "text": [
      "                   all      64575     138978      0.988      0.988      0.994       0.97\n",
      "\n",
      "      Epoch    GPU_mem   box_loss   cls_loss   dfl_loss  Instances       Size\n"
     ]
    },
    {
     "name": "stderr",
     "output_type": "stream",
     "text": [
      "     22/100       4.9G     0.3931     0.2338      0.834         93        640: 100%|██████████| 3229/3229 [08:29<00:00,  6.34it/s]\n",
      "                 Class     Images  Instances      Box(P          R      mAP50  mAP50-95): 100%|██████████| 1009/1009 [04:12<00:00,  3.99it/s]\n"
     ]
    },
    {
     "name": "stdout",
     "output_type": "stream",
     "text": [
      "                   all      64575     138978      0.988      0.988      0.994      0.971\n",
      "\n",
      "      Epoch    GPU_mem   box_loss   cls_loss   dfl_loss  Instances       Size\n"
     ]
    },
    {
     "name": "stderr",
     "output_type": "stream",
     "text": [
      "     23/100      4.91G     0.3897     0.2325     0.8324         62        640: 100%|██████████| 3229/3229 [08:29<00:00,  6.34it/s]\n",
      "                 Class     Images  Instances      Box(P          R      mAP50  mAP50-95): 100%|██████████| 1009/1009 [04:15<00:00,  3.95it/s]\n"
     ]
    },
    {
     "name": "stdout",
     "output_type": "stream",
     "text": [
      "                   all      64575     138978      0.988      0.988      0.994      0.972\n",
      "\n",
      "      Epoch    GPU_mem   box_loss   cls_loss   dfl_loss  Instances       Size\n"
     ]
    },
    {
     "name": "stderr",
     "output_type": "stream",
     "text": [
      "     24/100      4.85G     0.3889     0.2316     0.8328         72        640: 100%|██████████| 3229/3229 [08:28<00:00,  6.35it/s]\n",
      "                 Class     Images  Instances      Box(P          R      mAP50  mAP50-95): 100%|██████████| 1009/1009 [04:15<00:00,  3.95it/s]\n"
     ]
    },
    {
     "name": "stdout",
     "output_type": "stream",
     "text": [
      "                   all      64575     138978      0.989      0.988      0.994      0.972\n",
      "\n",
      "      Epoch    GPU_mem   box_loss   cls_loss   dfl_loss  Instances       Size\n"
     ]
    },
    {
     "name": "stderr",
     "output_type": "stream",
     "text": [
      "     25/100      4.89G     0.3876     0.2304     0.8326         75        640: 100%|██████████| 3229/3229 [08:26<00:00,  6.38it/s]\n",
      "                 Class     Images  Instances      Box(P          R      mAP50  mAP50-95): 100%|██████████| 1009/1009 [04:07<00:00,  4.07it/s]\n"
     ]
    },
    {
     "name": "stdout",
     "output_type": "stream",
     "text": [
      "                   all      64575     138978      0.989      0.988      0.994      0.973\n",
      "\n",
      "      Epoch    GPU_mem   box_loss   cls_loss   dfl_loss  Instances       Size\n"
     ]
    },
    {
     "name": "stderr",
     "output_type": "stream",
     "text": [
      "     26/100      4.89G     0.3847     0.2291      0.831         59        640: 100%|██████████| 3229/3229 [08:26<00:00,  6.38it/s]\n",
      "                 Class     Images  Instances      Box(P          R      mAP50  mAP50-95): 100%|██████████| 1009/1009 [04:09<00:00,  4.04it/s]\n"
     ]
    },
    {
     "name": "stdout",
     "output_type": "stream",
     "text": [
      "                   all      64575     138978      0.989      0.989      0.994      0.974\n",
      "\n",
      "      Epoch    GPU_mem   box_loss   cls_loss   dfl_loss  Instances       Size\n"
     ]
    },
    {
     "name": "stderr",
     "output_type": "stream",
     "text": [
      "     27/100      4.89G      0.382     0.2274     0.8309         71        640: 100%|██████████| 3229/3229 [08:19<00:00,  6.47it/s]\n",
      "                 Class     Images  Instances      Box(P          R      mAP50  mAP50-95): 100%|██████████| 1009/1009 [04:04<00:00,  4.12it/s]\n"
     ]
    },
    {
     "name": "stdout",
     "output_type": "stream",
     "text": [
      "                   all      64575     138978      0.989      0.989      0.994      0.974\n",
      "\n",
      "      Epoch    GPU_mem   box_loss   cls_loss   dfl_loss  Instances       Size\n"
     ]
    },
    {
     "name": "stderr",
     "output_type": "stream",
     "text": [
      "     28/100      4.87G     0.3803     0.2256     0.8305         56        640: 100%|██████████| 3229/3229 [08:22<00:00,  6.42it/s]\n",
      "                 Class     Images  Instances      Box(P          R      mAP50  mAP50-95): 100%|██████████| 1009/1009 [04:07<00:00,  4.08it/s]\n"
     ]
    },
    {
     "name": "stdout",
     "output_type": "stream",
     "text": [
      "                   all      64575     138978      0.988      0.989      0.994      0.975\n",
      "\n",
      "      Epoch    GPU_mem   box_loss   cls_loss   dfl_loss  Instances       Size\n"
     ]
    },
    {
     "name": "stderr",
     "output_type": "stream",
     "text": [
      "     29/100      4.87G     0.3795     0.2256     0.8306         61        640: 100%|██████████| 3229/3229 [08:22<00:00,  6.42it/s]\n",
      "                 Class     Images  Instances      Box(P          R      mAP50  mAP50-95): 100%|██████████| 1009/1009 [04:10<00:00,  4.03it/s]\n"
     ]
    },
    {
     "name": "stdout",
     "output_type": "stream",
     "text": [
      "                   all      64575     138978      0.988      0.989      0.994      0.975\n",
      "\n",
      "      Epoch    GPU_mem   box_loss   cls_loss   dfl_loss  Instances       Size\n"
     ]
    },
    {
     "name": "stderr",
     "output_type": "stream",
     "text": [
      "     30/100      4.87G     0.3783     0.2251     0.8298         60        640: 100%|██████████| 3229/3229 [08:18<00:00,  6.48it/s]\n",
      "                 Class     Images  Instances      Box(P          R      mAP50  mAP50-95): 100%|██████████| 1009/1009 [04:04<00:00,  4.13it/s]\n"
     ]
    },
    {
     "name": "stdout",
     "output_type": "stream",
     "text": [
      "                   all      64575     138978      0.989      0.989      0.994      0.976\n",
      "\n",
      "      Epoch    GPU_mem   box_loss   cls_loss   dfl_loss  Instances       Size\n"
     ]
    },
    {
     "name": "stderr",
     "output_type": "stream",
     "text": [
      "     31/100      4.87G     0.3764     0.2232     0.8292         58        640: 100%|██████████| 3229/3229 [08:14<00:00,  6.52it/s]\n",
      "                 Class     Images  Instances      Box(P          R      mAP50  mAP50-95): 100%|██████████| 1009/1009 [04:03<00:00,  4.15it/s]\n"
     ]
    },
    {
     "name": "stdout",
     "output_type": "stream",
     "text": [
      "                   all      64575     138978      0.989      0.989      0.994      0.976\n",
      "\n",
      "      Epoch    GPU_mem   box_loss   cls_loss   dfl_loss  Instances       Size\n"
     ]
    },
    {
     "name": "stderr",
     "output_type": "stream",
     "text": [
      "     32/100      4.88G     0.3732     0.2224     0.8289         96        640: 100%|██████████| 3229/3229 [08:13<00:00,  6.54it/s]\n",
      "                 Class     Images  Instances      Box(P          R      mAP50  mAP50-95): 100%|██████████| 1009/1009 [04:07<00:00,  4.07it/s]\n"
     ]
    },
    {
     "name": "stdout",
     "output_type": "stream",
     "text": [
      "                   all      64575     138978      0.989      0.989      0.994      0.976\n",
      "\n",
      "      Epoch    GPU_mem   box_loss   cls_loss   dfl_loss  Instances       Size\n"
     ]
    },
    {
     "name": "stderr",
     "output_type": "stream",
     "text": [
      "     33/100      4.87G     0.3722     0.2221      0.829         74        640: 100%|██████████| 3229/3229 [08:31<00:00,  6.31it/s]\n",
      "                 Class     Images  Instances      Box(P          R      mAP50  mAP50-95): 100%|██████████| 1009/1009 [04:16<00:00,  3.94it/s]\n"
     ]
    },
    {
     "name": "stdout",
     "output_type": "stream",
     "text": [
      "                   all      64575     138978      0.988       0.99      0.994      0.976\n",
      "\n",
      "      Epoch    GPU_mem   box_loss   cls_loss   dfl_loss  Instances       Size\n"
     ]
    },
    {
     "name": "stderr",
     "output_type": "stream",
     "text": [
      "     34/100      4.91G     0.3714     0.2204     0.8281         66        640: 100%|██████████| 3229/3229 [08:30<00:00,  6.33it/s]\n",
      "                 Class     Images  Instances      Box(P          R      mAP50  mAP50-95): 100%|██████████| 1009/1009 [04:16<00:00,  3.93it/s]\n"
     ]
    },
    {
     "name": "stdout",
     "output_type": "stream",
     "text": [
      "                   all      64575     138978      0.988       0.99      0.994      0.977\n",
      "\n",
      "      Epoch    GPU_mem   box_loss   cls_loss   dfl_loss  Instances       Size\n"
     ]
    },
    {
     "name": "stderr",
     "output_type": "stream",
     "text": [
      "     35/100      4.83G     0.3675      0.219     0.8272         54        640: 100%|██████████| 3229/3229 [08:29<00:00,  6.33it/s]\n",
      "                 Class     Images  Instances      Box(P          R      mAP50  mAP50-95): 100%|██████████| 1009/1009 [04:11<00:00,  4.02it/s]\n"
     ]
    },
    {
     "name": "stdout",
     "output_type": "stream",
     "text": [
      "                   all      64575     138978      0.989       0.99      0.994      0.977\n",
      "\n",
      "      Epoch    GPU_mem   box_loss   cls_loss   dfl_loss  Instances       Size\n"
     ]
    },
    {
     "name": "stderr",
     "output_type": "stream",
     "text": [
      "     36/100      4.89G     0.3669     0.2184     0.8267         57        640: 100%|██████████| 3229/3229 [08:30<00:00,  6.32it/s]\n",
      "                 Class     Images  Instances      Box(P          R      mAP50  mAP50-95): 100%|██████████| 1009/1009 [04:17<00:00,  3.92it/s]\n"
     ]
    },
    {
     "name": "stdout",
     "output_type": "stream",
     "text": [
      "                   all      64575     138978      0.989       0.99      0.994      0.977\n",
      "\n",
      "      Epoch    GPU_mem   box_loss   cls_loss   dfl_loss  Instances       Size\n"
     ]
    },
    {
     "name": "stderr",
     "output_type": "stream",
     "text": [
      "     37/100      4.89G     0.3639     0.2169     0.8261         57        640: 100%|██████████| 3229/3229 [08:31<00:00,  6.32it/s]\n",
      "                 Class     Images  Instances      Box(P          R      mAP50  mAP50-95): 100%|██████████| 1009/1009 [04:22<00:00,  3.84it/s]\n"
     ]
    },
    {
     "name": "stdout",
     "output_type": "stream",
     "text": [
      "                   all      64575     138978      0.989      0.989      0.994      0.978\n",
      "\n",
      "      Epoch    GPU_mem   box_loss   cls_loss   dfl_loss  Instances       Size\n"
     ]
    },
    {
     "name": "stderr",
     "output_type": "stream",
     "text": [
      "     38/100      4.85G     0.3636     0.2171     0.8252         60        640: 100%|██████████| 3229/3229 [08:33<00:00,  6.28it/s]\n",
      "                 Class     Images  Instances      Box(P          R      mAP50  mAP50-95): 100%|██████████| 1009/1009 [04:13<00:00,  3.99it/s]\n"
     ]
    },
    {
     "name": "stdout",
     "output_type": "stream",
     "text": [
      "                   all      64575     138978       0.99      0.989      0.994      0.978\n",
      "\n",
      "      Epoch    GPU_mem   box_loss   cls_loss   dfl_loss  Instances       Size\n"
     ]
    },
    {
     "name": "stderr",
     "output_type": "stream",
     "text": [
      "     39/100      4.91G     0.3617     0.2156     0.8254         44        640: 100%|██████████| 3229/3229 [08:27<00:00,  6.37it/s]\n",
      "                 Class     Images  Instances      Box(P          R      mAP50  mAP50-95): 100%|██████████| 1009/1009 [04:15<00:00,  3.95it/s]\n"
     ]
    },
    {
     "name": "stdout",
     "output_type": "stream",
     "text": [
      "                   all      64575     138978      0.989       0.99      0.994      0.978\n",
      "\n",
      "      Epoch    GPU_mem   box_loss   cls_loss   dfl_loss  Instances       Size\n"
     ]
    },
    {
     "name": "stderr",
     "output_type": "stream",
     "text": [
      "     40/100      4.85G     0.3585     0.2145     0.8254         60        640: 100%|██████████| 3229/3229 [08:26<00:00,  6.38it/s]\n",
      "                 Class     Images  Instances      Box(P          R      mAP50  mAP50-95): 100%|██████████| 1009/1009 [04:11<00:00,  4.02it/s]\n"
     ]
    },
    {
     "name": "stdout",
     "output_type": "stream",
     "text": [
      "                   all      64575     138978      0.989       0.99      0.994      0.978\n",
      "\n",
      "      Epoch    GPU_mem   box_loss   cls_loss   dfl_loss  Instances       Size\n"
     ]
    },
    {
     "name": "stderr",
     "output_type": "stream",
     "text": [
      "     41/100      4.91G     0.3578     0.2133     0.8246         69        640: 100%|██████████| 3229/3229 [08:28<00:00,  6.35it/s]\n",
      "                 Class     Images  Instances      Box(P          R      mAP50  mAP50-95): 100%|██████████| 1009/1009 [04:24<00:00,  3.81it/s]\n"
     ]
    },
    {
     "name": "stdout",
     "output_type": "stream",
     "text": [
      "                   all      64575     138978       0.99       0.99      0.994      0.978\n",
      "\n",
      "      Epoch    GPU_mem   box_loss   cls_loss   dfl_loss  Instances       Size\n"
     ]
    },
    {
     "name": "stderr",
     "output_type": "stream",
     "text": [
      "     42/100      4.88G     0.3569     0.2122     0.8237         54        640: 100%|██████████| 3229/3229 [09:08<00:00,  5.89it/s]\n",
      "                 Class     Images  Instances      Box(P          R      mAP50  mAP50-95): 100%|██████████| 1009/1009 [04:32<00:00,  3.70it/s]\n"
     ]
    },
    {
     "name": "stdout",
     "output_type": "stream",
     "text": [
      "                   all      64575     138978       0.99       0.99      0.995      0.978\n",
      "\n",
      "      Epoch    GPU_mem   box_loss   cls_loss   dfl_loss  Instances       Size\n"
     ]
    },
    {
     "name": "stderr",
     "output_type": "stream",
     "text": [
      "     43/100      4.86G      0.353     0.2107     0.8241         60        640: 100%|██████████| 3229/3229 [09:04<00:00,  5.93it/s]\n",
      "                 Class     Images  Instances      Box(P          R      mAP50  mAP50-95): 100%|██████████| 1009/1009 [04:20<00:00,  3.87it/s]\n"
     ]
    },
    {
     "name": "stdout",
     "output_type": "stream",
     "text": [
      "                   all      64575     138978       0.99       0.99      0.995      0.978\n",
      "\n",
      "      Epoch    GPU_mem   box_loss   cls_loss   dfl_loss  Instances       Size\n"
     ]
    },
    {
     "name": "stderr",
     "output_type": "stream",
     "text": [
      "     44/100      4.88G     0.3519     0.2101     0.8233         68        640: 100%|██████████| 3229/3229 [08:41<00:00,  6.20it/s]\n",
      "                 Class     Images  Instances      Box(P          R      mAP50  mAP50-95): 100%|██████████| 1009/1009 [04:09<00:00,  4.04it/s]\n"
     ]
    },
    {
     "name": "stdout",
     "output_type": "stream",
     "text": [
      "                   all      64575     138978       0.99       0.99      0.995      0.979\n",
      "\n",
      "      Epoch    GPU_mem   box_loss   cls_loss   dfl_loss  Instances       Size\n"
     ]
    },
    {
     "name": "stderr",
     "output_type": "stream",
     "text": [
      "     45/100      4.88G     0.3511     0.2097     0.8232         85        640: 100%|██████████| 3229/3229 [08:25<00:00,  6.38it/s]\n",
      "                 Class     Images  Instances      Box(P          R      mAP50  mAP50-95): 100%|██████████| 1009/1009 [04:06<00:00,  4.09it/s]\n"
     ]
    },
    {
     "name": "stdout",
     "output_type": "stream",
     "text": [
      "                   all      64575     138978      0.989       0.99      0.995      0.979\n",
      "\n",
      "      Epoch    GPU_mem   box_loss   cls_loss   dfl_loss  Instances       Size\n"
     ]
    },
    {
     "name": "stderr",
     "output_type": "stream",
     "text": [
      "     46/100      4.89G     0.3491     0.2092     0.8227         52        640: 100%|██████████| 3229/3229 [08:25<00:00,  6.39it/s]\n",
      "                 Class     Images  Instances      Box(P          R      mAP50  mAP50-95): 100%|██████████| 1009/1009 [04:16<00:00,  3.94it/s]\n"
     ]
    },
    {
     "name": "stdout",
     "output_type": "stream",
     "text": [
      "                   all      64575     138978      0.989      0.991      0.995      0.979\n",
      "\n",
      "      Epoch    GPU_mem   box_loss   cls_loss   dfl_loss  Instances       Size\n"
     ]
    },
    {
     "name": "stderr",
     "output_type": "stream",
     "text": [
      "     47/100      4.86G     0.3471     0.2072     0.8224         74        640: 100%|██████████| 3229/3229 [08:26<00:00,  6.37it/s]\n",
      "                 Class     Images  Instances      Box(P          R      mAP50  mAP50-95): 100%|██████████| 1009/1009 [04:10<00:00,  4.02it/s]\n"
     ]
    },
    {
     "name": "stdout",
     "output_type": "stream",
     "text": [
      "                   all      64575     138978      0.989      0.991      0.995      0.979\n",
      "\n",
      "      Epoch    GPU_mem   box_loss   cls_loss   dfl_loss  Instances       Size\n"
     ]
    },
    {
     "name": "stderr",
     "output_type": "stream",
     "text": [
      "     48/100      4.84G     0.3431     0.2052     0.8208         51        640: 100%|██████████| 3229/3229 [08:24<00:00,  6.40it/s]\n",
      "                 Class     Images  Instances      Box(P          R      mAP50  mAP50-95): 100%|██████████| 1009/1009 [04:08<00:00,  4.06it/s]\n"
     ]
    },
    {
     "name": "stdout",
     "output_type": "stream",
     "text": [
      "                   all      64575     138978       0.99      0.991      0.995      0.979\n",
      "\n",
      "      Epoch    GPU_mem   box_loss   cls_loss   dfl_loss  Instances       Size\n"
     ]
    },
    {
     "name": "stderr",
     "output_type": "stream",
     "text": [
      "     49/100      4.91G      0.342     0.2045     0.8213         87        640: 100%|██████████| 3229/3229 [08:26<00:00,  6.38it/s]\n",
      "                 Class     Images  Instances      Box(P          R      mAP50  mAP50-95): 100%|██████████| 1009/1009 [04:07<00:00,  4.08it/s]\n"
     ]
    },
    {
     "name": "stdout",
     "output_type": "stream",
     "text": [
      "                   all      64575     138978       0.99      0.991      0.995      0.979\n",
      "\n",
      "      Epoch    GPU_mem   box_loss   cls_loss   dfl_loss  Instances       Size\n"
     ]
    },
    {
     "name": "stderr",
     "output_type": "stream",
     "text": [
      "     50/100      4.84G     0.3396     0.2029     0.8201         62        640: 100%|██████████| 3229/3229 [08:27<00:00,  6.36it/s]\n",
      "                 Class     Images  Instances      Box(P          R      mAP50  mAP50-95): 100%|██████████| 1009/1009 [04:04<00:00,  4.12it/s]\n"
     ]
    },
    {
     "name": "stdout",
     "output_type": "stream",
     "text": [
      "                   all      64575     138978       0.99      0.991      0.995      0.979\n",
      "\n",
      "      Epoch    GPU_mem   box_loss   cls_loss   dfl_loss  Instances       Size\n"
     ]
    },
    {
     "name": "stderr",
     "output_type": "stream",
     "text": [
      "     51/100      4.85G     0.3365     0.2013     0.8196         62        640: 100%|██████████| 3229/3229 [08:21<00:00,  6.44it/s]\n",
      "                 Class     Images  Instances      Box(P          R      mAP50  mAP50-95): 100%|██████████| 1009/1009 [04:04<00:00,  4.13it/s]\n"
     ]
    },
    {
     "name": "stdout",
     "output_type": "stream",
     "text": [
      "                   all      64575     138978       0.99      0.991      0.995       0.98\n",
      "\n",
      "      Epoch    GPU_mem   box_loss   cls_loss   dfl_loss  Instances       Size\n"
     ]
    },
    {
     "name": "stderr",
     "output_type": "stream",
     "text": [
      "     52/100      4.83G     0.3342     0.2003     0.8189         56        640: 100%|██████████| 3229/3229 [08:27<00:00,  6.36it/s]\n",
      "                 Class     Images  Instances      Box(P          R      mAP50  mAP50-95): 100%|██████████| 1009/1009 [04:15<00:00,  3.94it/s]\n"
     ]
    },
    {
     "name": "stdout",
     "output_type": "stream",
     "text": [
      "                   all      64575     138978       0.99      0.991      0.995       0.98\n",
      "\n",
      "      Epoch    GPU_mem   box_loss   cls_loss   dfl_loss  Instances       Size\n"
     ]
    },
    {
     "name": "stderr",
     "output_type": "stream",
     "text": [
      "     53/100      4.89G     0.3329     0.1986     0.8182         58        640: 100%|██████████| 3229/3229 [08:32<00:00,  6.29it/s]\n",
      "                 Class     Images  Instances      Box(P          R      mAP50  mAP50-95): 100%|██████████| 1009/1009 [04:15<00:00,  3.95it/s]\n"
     ]
    },
    {
     "name": "stdout",
     "output_type": "stream",
     "text": [
      "                   all      64575     138978       0.99      0.991      0.995       0.98\n",
      "\n",
      "      Epoch    GPU_mem   box_loss   cls_loss   dfl_loss  Instances       Size\n"
     ]
    },
    {
     "name": "stderr",
     "output_type": "stream",
     "text": [
      "     54/100      4.87G     0.3308     0.1974     0.8187         61        640: 100%|██████████| 3229/3229 [08:33<00:00,  6.29it/s]\n",
      "                 Class     Images  Instances      Box(P          R      mAP50  mAP50-95): 100%|██████████| 1009/1009 [04:11<00:00,  4.01it/s]\n"
     ]
    },
    {
     "name": "stdout",
     "output_type": "stream",
     "text": [
      "                   all      64575     138978       0.99      0.991      0.995      0.981\n",
      "\n",
      "      Epoch    GPU_mem   box_loss   cls_loss   dfl_loss  Instances       Size\n"
     ]
    },
    {
     "name": "stderr",
     "output_type": "stream",
     "text": [
      "     55/100      4.91G     0.3286     0.1965     0.8173         57        640: 100%|██████████| 3229/3229 [08:34<00:00,  6.28it/s]\n",
      "                 Class     Images  Instances      Box(P          R      mAP50  mAP50-95): 100%|██████████| 1009/1009 [04:14<00:00,  3.96it/s]\n"
     ]
    },
    {
     "name": "stdout",
     "output_type": "stream",
     "text": [
      "                   all      64575     138978      0.991      0.991      0.995      0.981\n",
      "\n",
      "      Epoch    GPU_mem   box_loss   cls_loss   dfl_loss  Instances       Size\n"
     ]
    },
    {
     "name": "stderr",
     "output_type": "stream",
     "text": [
      "     56/100      4.88G     0.3265      0.195     0.8173         67        640: 100%|██████████| 3229/3229 [08:33<00:00,  6.29it/s]\n",
      "                 Class     Images  Instances      Box(P          R      mAP50  mAP50-95): 100%|██████████| 1009/1009 [04:12<00:00,  3.99it/s]\n"
     ]
    },
    {
     "name": "stdout",
     "output_type": "stream",
     "text": [
      "                   all      64575     138978      0.991      0.991      0.995      0.981\n",
      "\n",
      "      Epoch    GPU_mem   box_loss   cls_loss   dfl_loss  Instances       Size\n"
     ]
    },
    {
     "name": "stderr",
     "output_type": "stream",
     "text": [
      "     57/100      4.87G     0.3244     0.1944     0.8167         72        640: 100%|██████████| 3229/3229 [08:22<00:00,  6.42it/s]\n",
      "                 Class     Images  Instances      Box(P          R      mAP50  mAP50-95): 100%|██████████| 1009/1009 [04:07<00:00,  4.08it/s]\n"
     ]
    },
    {
     "name": "stdout",
     "output_type": "stream",
     "text": [
      "                   all      64575     138978      0.991      0.991      0.995      0.981\n",
      "\n",
      "      Epoch    GPU_mem   box_loss   cls_loss   dfl_loss  Instances       Size\n"
     ]
    },
    {
     "name": "stderr",
     "output_type": "stream",
     "text": [
      "     58/100      4.84G     0.3232     0.1922     0.8166         64        640: 100%|██████████| 3229/3229 [08:25<00:00,  6.38it/s]\n",
      "                 Class     Images  Instances      Box(P          R      mAP50  mAP50-95): 100%|██████████| 1009/1009 [04:13<00:00,  3.98it/s]\n"
     ]
    },
    {
     "name": "stdout",
     "output_type": "stream",
     "text": [
      "                   all      64575     138978      0.991      0.991      0.995      0.981\n",
      "\n",
      "      Epoch    GPU_mem   box_loss   cls_loss   dfl_loss  Instances       Size\n"
     ]
    },
    {
     "name": "stderr",
     "output_type": "stream",
     "text": [
      "     59/100      4.87G     0.3206     0.1916      0.816         67        640: 100%|██████████| 3229/3229 [08:32<00:00,  6.30it/s]\n",
      "                 Class     Images  Instances      Box(P          R      mAP50  mAP50-95): 100%|██████████| 1009/1009 [04:07<00:00,  4.07it/s]\n"
     ]
    },
    {
     "name": "stdout",
     "output_type": "stream",
     "text": [
      "                   all      64575     138978      0.991      0.991      0.995      0.981\n",
      "\n",
      "      Epoch    GPU_mem   box_loss   cls_loss   dfl_loss  Instances       Size\n"
     ]
    },
    {
     "name": "stderr",
     "output_type": "stream",
     "text": [
      "     60/100      4.88G     0.3178     0.1897     0.8147         51        640: 100%|██████████| 3229/3229 [08:31<00:00,  6.31it/s]\n",
      "                 Class     Images  Instances      Box(P          R      mAP50  mAP50-95): 100%|██████████| 1009/1009 [04:12<00:00,  4.00it/s]\n"
     ]
    },
    {
     "name": "stdout",
     "output_type": "stream",
     "text": [
      "                   all      64575     138978      0.991      0.991      0.995      0.981\n",
      "\n",
      "      Epoch    GPU_mem   box_loss   cls_loss   dfl_loss  Instances       Size\n"
     ]
    },
    {
     "name": "stderr",
     "output_type": "stream",
     "text": [
      "     61/100      4.86G     0.3148     0.1885     0.8136         71        640: 100%|██████████| 3229/3229 [08:23<00:00,  6.41it/s]\n",
      "                 Class     Images  Instances      Box(P          R      mAP50  mAP50-95): 100%|██████████| 1009/1009 [04:06<00:00,  4.09it/s]\n"
     ]
    },
    {
     "name": "stdout",
     "output_type": "stream",
     "text": [
      "                   all      64575     138978      0.991      0.991      0.995      0.982\n",
      "\n",
      "      Epoch    GPU_mem   box_loss   cls_loss   dfl_loss  Instances       Size\n"
     ]
    },
    {
     "name": "stderr",
     "output_type": "stream",
     "text": [
      "     62/100      4.91G     0.3134      0.187     0.8142         74        640: 100%|██████████| 3229/3229 [08:21<00:00,  6.44it/s]\n",
      "                 Class     Images  Instances      Box(P          R      mAP50  mAP50-95): 100%|██████████| 1009/1009 [04:06<00:00,  4.10it/s]\n"
     ]
    },
    {
     "name": "stdout",
     "output_type": "stream",
     "text": [
      "                   all      64575     138978      0.991      0.991      0.995      0.982\n",
      "\n",
      "      Epoch    GPU_mem   box_loss   cls_loss   dfl_loss  Instances       Size\n"
     ]
    },
    {
     "name": "stderr",
     "output_type": "stream",
     "text": [
      "     63/100      4.91G     0.3106      0.185     0.8131         53        640: 100%|██████████| 3229/3229 [08:22<00:00,  6.42it/s]\n",
      "                 Class     Images  Instances      Box(P          R      mAP50  mAP50-95): 100%|██████████| 1009/1009 [04:06<00:00,  4.10it/s]\n"
     ]
    },
    {
     "name": "stdout",
     "output_type": "stream",
     "text": [
      "                   all      64575     138978      0.991      0.991      0.995      0.982\n",
      "\n",
      "      Epoch    GPU_mem   box_loss   cls_loss   dfl_loss  Instances       Size\n"
     ]
    },
    {
     "name": "stderr",
     "output_type": "stream",
     "text": [
      "     64/100      4.85G     0.3092     0.1842     0.8128         65        640: 100%|██████████| 3229/3229 [08:21<00:00,  6.44it/s]\n",
      "                 Class     Images  Instances      Box(P          R      mAP50  mAP50-95): 100%|██████████| 1009/1009 [04:06<00:00,  4.09it/s]\n"
     ]
    },
    {
     "name": "stdout",
     "output_type": "stream",
     "text": [
      "                   all      64575     138978      0.991      0.991      0.995      0.982\n",
      "\n",
      "      Epoch    GPU_mem   box_loss   cls_loss   dfl_loss  Instances       Size\n"
     ]
    },
    {
     "name": "stderr",
     "output_type": "stream",
     "text": [
      "     65/100      4.86G     0.3069     0.1826     0.8127         52        640: 100%|██████████| 3229/3229 [08:20<00:00,  6.46it/s]\n",
      "                 Class     Images  Instances      Box(P          R      mAP50  mAP50-95): 100%|██████████| 1009/1009 [04:06<00:00,  4.10it/s]\n"
     ]
    },
    {
     "name": "stdout",
     "output_type": "stream",
     "text": [
      "                   all      64575     138978      0.991      0.992      0.995      0.982\n",
      "\n",
      "      Epoch    GPU_mem   box_loss   cls_loss   dfl_loss  Instances       Size\n"
     ]
    },
    {
     "name": "stderr",
     "output_type": "stream",
     "text": [
      "     66/100      4.91G     0.3038     0.1803     0.8121         51        640: 100%|██████████| 3229/3229 [08:20<00:00,  6.45it/s]\n",
      "                 Class     Images  Instances      Box(P          R      mAP50  mAP50-95): 100%|██████████| 1009/1009 [04:06<00:00,  4.09it/s]\n"
     ]
    },
    {
     "name": "stdout",
     "output_type": "stream",
     "text": [
      "                   all      64575     138978      0.991      0.992      0.995      0.982\n",
      "\n",
      "      Epoch    GPU_mem   box_loss   cls_loss   dfl_loss  Instances       Size\n"
     ]
    },
    {
     "name": "stderr",
     "output_type": "stream",
     "text": [
      "     67/100      4.86G     0.3012     0.1795     0.8109         73        640: 100%|██████████| 3229/3229 [08:21<00:00,  6.44it/s]\n",
      "                 Class     Images  Instances      Box(P          R      mAP50  mAP50-95): 100%|██████████| 1009/1009 [04:06<00:00,  4.10it/s]\n"
     ]
    },
    {
     "name": "stdout",
     "output_type": "stream",
     "text": [
      "                   all      64575     138978      0.991      0.992      0.995      0.983\n",
      "\n",
      "      Epoch    GPU_mem   box_loss   cls_loss   dfl_loss  Instances       Size\n"
     ]
    },
    {
     "name": "stderr",
     "output_type": "stream",
     "text": [
      "     68/100      4.87G     0.2987     0.1779     0.8103         68        640: 100%|██████████| 3229/3229 [08:21<00:00,  6.44it/s]\n",
      "                 Class     Images  Instances      Box(P          R      mAP50  mAP50-95): 100%|██████████| 1009/1009 [04:06<00:00,  4.10it/s]\n"
     ]
    },
    {
     "name": "stdout",
     "output_type": "stream",
     "text": [
      "                   all      64575     138978      0.991      0.992      0.995      0.983\n",
      "\n",
      "      Epoch    GPU_mem   box_loss   cls_loss   dfl_loss  Instances       Size\n"
     ]
    },
    {
     "name": "stderr",
     "output_type": "stream",
     "text": [
      "     69/100      4.85G     0.2957     0.1761     0.8094         65        640: 100%|██████████| 3229/3229 [08:22<00:00,  6.42it/s]\n",
      "                 Class     Images  Instances      Box(P          R      mAP50  mAP50-95): 100%|██████████| 1009/1009 [04:06<00:00,  4.09it/s]\n"
     ]
    },
    {
     "name": "stdout",
     "output_type": "stream",
     "text": [
      "                   all      64575     138978      0.991      0.992      0.995      0.983\n",
      "\n",
      "      Epoch    GPU_mem   box_loss   cls_loss   dfl_loss  Instances       Size\n"
     ]
    },
    {
     "name": "stderr",
     "output_type": "stream",
     "text": [
      "     70/100      4.89G     0.2935     0.1744     0.8097         86        640: 100%|██████████| 3229/3229 [08:20<00:00,  6.45it/s]\n",
      "                 Class     Images  Instances      Box(P          R      mAP50  mAP50-95): 100%|██████████| 1009/1009 [04:06<00:00,  4.10it/s]\n"
     ]
    },
    {
     "name": "stdout",
     "output_type": "stream",
     "text": [
      "                   all      64575     138978      0.991      0.992      0.995      0.983\n",
      "\n",
      "      Epoch    GPU_mem   box_loss   cls_loss   dfl_loss  Instances       Size\n"
     ]
    },
    {
     "name": "stderr",
     "output_type": "stream",
     "text": [
      "     71/100      4.89G     0.2914     0.1729     0.8087         75        640: 100%|██████████| 3229/3229 [08:20<00:00,  6.45it/s]\n",
      "                 Class     Images  Instances      Box(P          R      mAP50  mAP50-95): 100%|██████████| 1009/1009 [04:06<00:00,  4.09it/s]\n"
     ]
    },
    {
     "name": "stdout",
     "output_type": "stream",
     "text": [
      "                   all      64575     138978      0.991      0.992      0.995      0.983\n",
      "\n",
      "      Epoch    GPU_mem   box_loss   cls_loss   dfl_loss  Instances       Size\n"
     ]
    },
    {
     "name": "stderr",
     "output_type": "stream",
     "text": [
      "     72/100      4.89G     0.2895     0.1719     0.8092         56        640: 100%|██████████| 3229/3229 [08:20<00:00,  6.45it/s]\n",
      "                 Class     Images  Instances      Box(P          R      mAP50  mAP50-95): 100%|██████████| 1009/1009 [04:06<00:00,  4.10it/s]\n"
     ]
    },
    {
     "name": "stdout",
     "output_type": "stream",
     "text": [
      "                   all      64575     138978      0.991      0.992      0.995      0.984\n",
      "\n",
      "      Epoch    GPU_mem   box_loss   cls_loss   dfl_loss  Instances       Size\n"
     ]
    },
    {
     "name": "stderr",
     "output_type": "stream",
     "text": [
      "     73/100      4.89G      0.286     0.1694      0.808         55        640: 100%|██████████| 3229/3229 [08:20<00:00,  6.45it/s]\n",
      "                 Class     Images  Instances      Box(P          R      mAP50  mAP50-95): 100%|██████████| 1009/1009 [04:06<00:00,  4.10it/s]\n"
     ]
    },
    {
     "name": "stdout",
     "output_type": "stream",
     "text": [
      "                   all      64575     138978      0.991      0.993      0.995      0.984\n",
      "\n",
      "      Epoch    GPU_mem   box_loss   cls_loss   dfl_loss  Instances       Size\n"
     ]
    },
    {
     "name": "stderr",
     "output_type": "stream",
     "text": [
      "     74/100      4.84G     0.2842     0.1682     0.8075         49        640: 100%|██████████| 3229/3229 [08:21<00:00,  6.44it/s]\n",
      "                 Class     Images  Instances      Box(P          R      mAP50  mAP50-95): 100%|██████████| 1009/1009 [04:06<00:00,  4.09it/s]\n"
     ]
    },
    {
     "name": "stdout",
     "output_type": "stream",
     "text": [
      "                   all      64575     138978      0.992      0.992      0.995      0.984\n",
      "\n",
      "      Epoch    GPU_mem   box_loss   cls_loss   dfl_loss  Instances       Size\n"
     ]
    },
    {
     "name": "stderr",
     "output_type": "stream",
     "text": [
      "     75/100      4.86G     0.2816     0.1664     0.8065         55        640: 100%|██████████| 3229/3229 [08:21<00:00,  6.44it/s]\n",
      "                 Class     Images  Instances      Box(P          R      mAP50  mAP50-95): 100%|██████████| 1009/1009 [04:06<00:00,  4.09it/s]\n"
     ]
    },
    {
     "name": "stdout",
     "output_type": "stream",
     "text": [
      "                   all      64575     138978      0.992      0.992      0.995      0.984\n",
      "\n",
      "      Epoch    GPU_mem   box_loss   cls_loss   dfl_loss  Instances       Size\n"
     ]
    },
    {
     "name": "stderr",
     "output_type": "stream",
     "text": [
      "     76/100      4.86G     0.2791     0.1651     0.8063         70        640: 100%|██████████| 3229/3229 [08:21<00:00,  6.44it/s]\n",
      "                 Class     Images  Instances      Box(P          R      mAP50  mAP50-95): 100%|██████████| 1009/1009 [04:06<00:00,  4.09it/s]\n"
     ]
    },
    {
     "name": "stdout",
     "output_type": "stream",
     "text": [
      "                   all      64575     138978      0.992      0.992      0.995      0.984\n",
      "\n",
      "      Epoch    GPU_mem   box_loss   cls_loss   dfl_loss  Instances       Size\n"
     ]
    },
    {
     "name": "stderr",
     "output_type": "stream",
     "text": [
      "     77/100      4.89G     0.2755     0.1626      0.805         88        640: 100%|██████████| 3229/3229 [08:21<00:00,  6.44it/s]\n",
      "                 Class     Images  Instances      Box(P          R      mAP50  mAP50-95): 100%|██████████| 1009/1009 [04:07<00:00,  4.08it/s]\n"
     ]
    },
    {
     "name": "stdout",
     "output_type": "stream",
     "text": [
      "                   all      64575     138978      0.992      0.992      0.995      0.984\n",
      "\n",
      "      Epoch    GPU_mem   box_loss   cls_loss   dfl_loss  Instances       Size\n"
     ]
    },
    {
     "name": "stderr",
     "output_type": "stream",
     "text": [
      "     78/100      4.83G     0.2736     0.1612     0.8051         85        640: 100%|██████████| 3229/3229 [08:22<00:00,  6.43it/s]\n",
      "                 Class     Images  Instances      Box(P          R      mAP50  mAP50-95): 100%|██████████| 1009/1009 [04:07<00:00,  4.08it/s]\n"
     ]
    },
    {
     "name": "stdout",
     "output_type": "stream",
     "text": [
      "                   all      64575     138978      0.992      0.993      0.995      0.984\n",
      "\n",
      "      Epoch    GPU_mem   box_loss   cls_loss   dfl_loss  Instances       Size\n"
     ]
    },
    {
     "name": "stderr",
     "output_type": "stream",
     "text": [
      "     79/100      4.91G     0.2715     0.1593     0.8055         53        640: 100%|██████████| 3229/3229 [08:22<00:00,  6.43it/s]\n",
      "                 Class     Images  Instances      Box(P          R      mAP50  mAP50-95): 100%|██████████| 1009/1009 [04:06<00:00,  4.09it/s]\n"
     ]
    },
    {
     "name": "stdout",
     "output_type": "stream",
     "text": [
      "                   all      64575     138978      0.992      0.993      0.995      0.985\n",
      "\n",
      "      Epoch    GPU_mem   box_loss   cls_loss   dfl_loss  Instances       Size\n"
     ]
    },
    {
     "name": "stderr",
     "output_type": "stream",
     "text": [
      "     80/100      4.87G     0.2693      0.158     0.8046         47        640: 100%|██████████| 3229/3229 [08:21<00:00,  6.43it/s]\n",
      "                 Class     Images  Instances      Box(P          R      mAP50  mAP50-95): 100%|██████████| 1009/1009 [04:05<00:00,  4.10it/s]\n"
     ]
    },
    {
     "name": "stdout",
     "output_type": "stream",
     "text": [
      "                   all      64575     138978      0.992      0.993      0.995      0.985\n",
      "\n",
      "      Epoch    GPU_mem   box_loss   cls_loss   dfl_loss  Instances       Size\n"
     ]
    },
    {
     "name": "stderr",
     "output_type": "stream",
     "text": [
      "     81/100      4.87G     0.2658     0.1563     0.8039         48        640: 100%|██████████| 3229/3229 [08:22<00:00,  6.42it/s]\n",
      "                 Class     Images  Instances      Box(P          R      mAP50  mAP50-95): 100%|██████████| 1009/1009 [04:06<00:00,  4.09it/s]\n"
     ]
    },
    {
     "name": "stdout",
     "output_type": "stream",
     "text": [
      "                   all      64575     138978      0.992      0.993      0.995      0.985\n",
      "\n",
      "      Epoch    GPU_mem   box_loss   cls_loss   dfl_loss  Instances       Size\n"
     ]
    },
    {
     "name": "stderr",
     "output_type": "stream",
     "text": [
      "     82/100      4.88G     0.2638     0.1548      0.803         58        640: 100%|██████████| 3229/3229 [08:22<00:00,  6.42it/s]\n",
      "                 Class     Images  Instances      Box(P          R      mAP50  mAP50-95): 100%|██████████| 1009/1009 [04:06<00:00,  4.09it/s]\n"
     ]
    },
    {
     "name": "stdout",
     "output_type": "stream",
     "text": [
      "                   all      64575     138978      0.992      0.993      0.995      0.985\n",
      "\n",
      "      Epoch    GPU_mem   box_loss   cls_loss   dfl_loss  Instances       Size\n"
     ]
    },
    {
     "name": "stderr",
     "output_type": "stream",
     "text": [
      "     83/100      4.87G     0.2619     0.1538     0.8024         55        640: 100%|██████████| 3229/3229 [08:22<00:00,  6.43it/s]\n",
      "                 Class     Images  Instances      Box(P          R      mAP50  mAP50-95): 100%|██████████| 1009/1009 [04:07<00:00,  4.08it/s]\n"
     ]
    },
    {
     "name": "stdout",
     "output_type": "stream",
     "text": [
      "                   all      64575     138978      0.992      0.993      0.995      0.985\n",
      "\n",
      "      Epoch    GPU_mem   box_loss   cls_loss   dfl_loss  Instances       Size\n"
     ]
    },
    {
     "name": "stderr",
     "output_type": "stream",
     "text": [
      "     84/100      4.88G     0.2584     0.1515     0.8012         53        640: 100%|██████████| 3229/3229 [08:22<00:00,  6.43it/s]\n",
      "                 Class     Images  Instances      Box(P          R      mAP50  mAP50-95): 100%|██████████| 1009/1009 [04:07<00:00,  4.07it/s]\n"
     ]
    },
    {
     "name": "stdout",
     "output_type": "stream",
     "text": [
      "                   all      64575     138978      0.992      0.993      0.995      0.985\n",
      "\n",
      "      Epoch    GPU_mem   box_loss   cls_loss   dfl_loss  Instances       Size\n"
     ]
    },
    {
     "name": "stderr",
     "output_type": "stream",
     "text": [
      "     85/100      4.91G     0.2564     0.1498     0.8018         56        640: 100%|██████████| 3229/3229 [08:22<00:00,  6.43it/s]\n",
      "                 Class     Images  Instances      Box(P          R      mAP50  mAP50-95): 100%|██████████| 1009/1009 [04:06<00:00,  4.10it/s]\n"
     ]
    },
    {
     "name": "stdout",
     "output_type": "stream",
     "text": [
      "                   all      64575     138978      0.992      0.993      0.995      0.985\n",
      "\n",
      "      Epoch    GPU_mem   box_loss   cls_loss   dfl_loss  Instances       Size\n"
     ]
    },
    {
     "name": "stderr",
     "output_type": "stream",
     "text": [
      "     86/100      4.84G     0.2537     0.1485     0.8007         79        640: 100%|██████████| 3229/3229 [08:21<00:00,  6.43it/s]\n",
      "                 Class     Images  Instances      Box(P          R      mAP50  mAP50-95): 100%|██████████| 1009/1009 [04:06<00:00,  4.10it/s]\n"
     ]
    },
    {
     "name": "stdout",
     "output_type": "stream",
     "text": [
      "                   all      64575     138978      0.992      0.993      0.995      0.985\n",
      "\n",
      "      Epoch    GPU_mem   box_loss   cls_loss   dfl_loss  Instances       Size\n"
     ]
    },
    {
     "name": "stderr",
     "output_type": "stream",
     "text": [
      "     87/100      4.89G     0.2519     0.1471     0.8005         69        640: 100%|██████████| 3229/3229 [08:21<00:00,  6.43it/s]\n",
      "                 Class     Images  Instances      Box(P          R      mAP50  mAP50-95): 100%|██████████| 1009/1009 [04:06<00:00,  4.10it/s]\n"
     ]
    },
    {
     "name": "stdout",
     "output_type": "stream",
     "text": [
      "                   all      64575     138978      0.992      0.993      0.995      0.986\n",
      "\n",
      "      Epoch    GPU_mem   box_loss   cls_loss   dfl_loss  Instances       Size\n"
     ]
    },
    {
     "name": "stderr",
     "output_type": "stream",
     "text": [
      "     88/100      4.84G     0.2506     0.1459     0.8002         90        640: 100%|██████████| 3229/3229 [08:22<00:00,  6.43it/s]\n",
      "                 Class     Images  Instances      Box(P          R      mAP50  mAP50-95): 100%|██████████| 1009/1009 [04:06<00:00,  4.10it/s]\n"
     ]
    },
    {
     "name": "stdout",
     "output_type": "stream",
     "text": [
      "                   all      64575     138978      0.992      0.993      0.995      0.986\n",
      "\n",
      "      Epoch    GPU_mem   box_loss   cls_loss   dfl_loss  Instances       Size\n"
     ]
    },
    {
     "name": "stderr",
     "output_type": "stream",
     "text": [
      "     89/100      4.91G     0.2481     0.1445     0.7993         47        640: 100%|██████████| 3229/3229 [08:22<00:00,  6.43it/s]\n",
      "                 Class     Images  Instances      Box(P          R      mAP50  mAP50-95): 100%|██████████| 1009/1009 [04:08<00:00,  4.06it/s]\n"
     ]
    },
    {
     "name": "stdout",
     "output_type": "stream",
     "text": [
      "                   all      64575     138978      0.992      0.993      0.995      0.986\n",
      "\n",
      "      Epoch    GPU_mem   box_loss   cls_loss   dfl_loss  Instances       Size\n"
     ]
    },
    {
     "name": "stderr",
     "output_type": "stream",
     "text": [
      "     90/100       4.9G      0.246     0.1428     0.7997         84        640: 100%|██████████| 3229/3229 [08:22<00:00,  6.43it/s]\n",
      "                 Class     Images  Instances      Box(P          R      mAP50  mAP50-95): 100%|██████████| 1009/1009 [04:05<00:00,  4.10it/s]\n"
     ]
    },
    {
     "name": "stdout",
     "output_type": "stream",
     "text": [
      "                   all      64575     138978      0.992      0.993      0.995      0.986\n",
      "Closing dataloader mosaic\n",
      "\n",
      "      Epoch    GPU_mem   box_loss   cls_loss   dfl_loss  Instances       Size\n"
     ]
    },
    {
     "name": "stderr",
     "output_type": "stream",
     "text": [
      "     91/100      4.89G     0.2311     0.1346     0.7955         45        640: 100%|██████████| 3229/3229 [08:16<00:00,  6.51it/s]\n",
      "                 Class     Images  Instances      Box(P          R      mAP50  mAP50-95): 100%|██████████| 1009/1009 [04:06<00:00,  4.09it/s]\n"
     ]
    },
    {
     "name": "stdout",
     "output_type": "stream",
     "text": [
      "                   all      64575     138978      0.992      0.993      0.995      0.986\n",
      "\n",
      "      Epoch    GPU_mem   box_loss   cls_loss   dfl_loss  Instances       Size\n"
     ]
    },
    {
     "name": "stderr",
     "output_type": "stream",
     "text": [
      "     92/100      4.87G     0.2295     0.1333     0.7953         63        640: 100%|██████████| 3229/3229 [08:13<00:00,  6.54it/s]\n",
      "                 Class     Images  Instances      Box(P          R      mAP50  mAP50-95): 100%|██████████| 1009/1009 [04:06<00:00,  4.10it/s]\n"
     ]
    },
    {
     "name": "stdout",
     "output_type": "stream",
     "text": [
      "                   all      64575     138978      0.992      0.993      0.995      0.986\n",
      "\n",
      "      Epoch    GPU_mem   box_loss   cls_loss   dfl_loss  Instances       Size\n"
     ]
    },
    {
     "name": "stderr",
     "output_type": "stream",
     "text": [
      "     93/100      4.87G     0.2281     0.1323     0.7948         54        640: 100%|██████████| 3229/3229 [08:15<00:00,  6.52it/s]\n",
      "                 Class     Images  Instances      Box(P          R      mAP50  mAP50-95): 100%|██████████| 1009/1009 [04:05<00:00,  4.11it/s]\n"
     ]
    },
    {
     "name": "stdout",
     "output_type": "stream",
     "text": [
      "                   all      64575     138978      0.992      0.993      0.995      0.986\n",
      "\n",
      "      Epoch    GPU_mem   box_loss   cls_loss   dfl_loss  Instances       Size\n"
     ]
    },
    {
     "name": "stderr",
     "output_type": "stream",
     "text": [
      "     94/100      4.85G     0.2266     0.1314     0.7949         62        640: 100%|██████████| 3229/3229 [08:12<00:00,  6.55it/s]\n",
      "                 Class     Images  Instances      Box(P          R      mAP50  mAP50-95): 100%|██████████| 1009/1009 [04:04<00:00,  4.12it/s]\n"
     ]
    },
    {
     "name": "stdout",
     "output_type": "stream",
     "text": [
      "                   all      64575     138978      0.992      0.993      0.995      0.986\n",
      "\n",
      "      Epoch    GPU_mem   box_loss   cls_loss   dfl_loss  Instances       Size\n"
     ]
    },
    {
     "name": "stderr",
     "output_type": "stream",
     "text": [
      "     95/100      4.87G     0.2252       0.13     0.7936         39        640: 100%|██████████| 3229/3229 [08:12<00:00,  6.56it/s]\n",
      "                 Class     Images  Instances      Box(P          R      mAP50  mAP50-95): 100%|██████████| 1009/1009 [04:05<00:00,  4.10it/s]\n"
     ]
    },
    {
     "name": "stdout",
     "output_type": "stream",
     "text": [
      "                   all      64575     138978      0.992      0.993      0.995      0.986\n",
      "\n",
      "      Epoch    GPU_mem   box_loss   cls_loss   dfl_loss  Instances       Size\n"
     ]
    },
    {
     "name": "stderr",
     "output_type": "stream",
     "text": [
      "     96/100      4.87G     0.2244     0.1293     0.7939         53        640: 100%|██████████| 3229/3229 [08:13<00:00,  6.55it/s]\n",
      "                 Class     Images  Instances      Box(P          R      mAP50  mAP50-95): 100%|██████████| 1009/1009 [04:07<00:00,  4.08it/s]\n"
     ]
    },
    {
     "name": "stdout",
     "output_type": "stream",
     "text": [
      "                   all      64575     138978      0.992      0.993      0.995      0.986\n",
      "\n",
      "      Epoch    GPU_mem   box_loss   cls_loss   dfl_loss  Instances       Size\n"
     ]
    },
    {
     "name": "stderr",
     "output_type": "stream",
     "text": [
      "     97/100      4.86G     0.2237     0.1288      0.794         52        640: 100%|██████████| 3229/3229 [08:13<00:00,  6.54it/s]\n",
      "                 Class     Images  Instances      Box(P          R      mAP50  mAP50-95): 100%|██████████| 1009/1009 [04:07<00:00,  4.07it/s]\n"
     ]
    },
    {
     "name": "stdout",
     "output_type": "stream",
     "text": [
      "                   all      64575     138978      0.992      0.993      0.995      0.986\n",
      "\n",
      "      Epoch    GPU_mem   box_loss   cls_loss   dfl_loss  Instances       Size\n"
     ]
    },
    {
     "name": "stderr",
     "output_type": "stream",
     "text": [
      "     98/100      4.87G     0.2227     0.1281     0.7936         40        640: 100%|██████████| 3229/3229 [08:13<00:00,  6.54it/s]\n",
      "                 Class     Images  Instances      Box(P          R      mAP50  mAP50-95): 100%|██████████| 1009/1009 [04:06<00:00,  4.09it/s]\n"
     ]
    },
    {
     "name": "stdout",
     "output_type": "stream",
     "text": [
      "                   all      64575     138978      0.992      0.993      0.995      0.986\n",
      "\n",
      "      Epoch    GPU_mem   box_loss   cls_loss   dfl_loss  Instances       Size\n"
     ]
    },
    {
     "name": "stderr",
     "output_type": "stream",
     "text": [
      "     99/100      4.91G     0.2217     0.1273      0.793         48        640: 100%|██████████| 3229/3229 [08:13<00:00,  6.54it/s]\n",
      "                 Class     Images  Instances      Box(P          R      mAP50  mAP50-95): 100%|██████████| 1009/1009 [04:06<00:00,  4.09it/s]\n"
     ]
    },
    {
     "name": "stdout",
     "output_type": "stream",
     "text": [
      "                   all      64575     138978      0.992      0.993      0.995      0.986\n",
      "\n",
      "      Epoch    GPU_mem   box_loss   cls_loss   dfl_loss  Instances       Size\n"
     ]
    },
    {
     "name": "stderr",
     "output_type": "stream",
     "text": [
      "    100/100      4.88G     0.2211     0.1273     0.7928         53        640: 100%|██████████| 3229/3229 [08:13<00:00,  6.55it/s]\n",
      "                 Class     Images  Instances      Box(P          R      mAP50  mAP50-95): 100%|██████████| 1009/1009 [04:06<00:00,  4.09it/s]\n"
     ]
    },
    {
     "name": "stdout",
     "output_type": "stream",
     "text": [
      "                   all      64575     138978      0.992      0.993      0.995      0.986\n",
      "\n",
      "100 epochs completed in 21.819 hours.\n",
      "Optimizer stripped from runs\\detect\\Single Class 100E (MR Slices)\\weights\\last.pt, 5.5MB\n",
      "Optimizer stripped from runs\\detect\\Single Class 100E (MR Slices)\\weights\\best.pt, 5.5MB\n",
      "\n",
      "Validating runs\\detect\\Single Class 100E (MR Slices)\\weights\\best.pt...\n",
      "Ultralytics 8.3.6  Python-3.11.10 torch-2.4.1+cu121 CUDA:0 (NVIDIA GeForce RTX 3080, 10240MiB)\n",
      "YOLO11n summary (fused): 238 layers, 2,589,952 parameters, 0 gradients, 6.4 GFLOPs\n"
     ]
    },
    {
     "name": "stderr",
     "output_type": "stream",
     "text": [
      "                 Class     Images  Instances      Box(P          R      mAP50  mAP50-95): 100%|██████████| 1009/1009 [04:39<00:00,  3.61it/s]\n"
     ]
    },
    {
     "name": "stdout",
     "output_type": "stream",
     "text": [
      "                   all      64575     138978      0.992      0.993      0.995      0.986\n",
      "       Gate Valve, N.O      48132     138978      0.992      0.993      0.995      0.986\n",
      "Speed: 0.1ms preprocess, 0.8ms inference, 0.0ms loss, 0.7ms postprocess per image\n",
      "Results saved to \u001b[1mruns\\detect\\Single Class 100E (MR Slices)\u001b[0m\n"
     ]
    },
    {
     "data": {
      "text/plain": [
       "ultralytics.utils.metrics.DetMetrics object with attributes:\n",
       "\n",
       "ap_class_index: array([0])\n",
       "box: ultralytics.utils.metrics.Metric object\n",
       "confusion_matrix: <ultralytics.utils.metrics.ConfusionMatrix object at 0x000002015EF10550>\n",
       "curves: ['Precision-Recall(B)', 'F1-Confidence(B)', 'Precision-Confidence(B)', 'Recall-Confidence(B)']\n",
       "curves_results: [[array([          0,    0.001001,    0.002002,    0.003003,    0.004004,    0.005005,    0.006006,    0.007007,    0.008008,    0.009009,     0.01001,    0.011011,    0.012012,    0.013013,    0.014014,    0.015015,    0.016016,    0.017017,    0.018018,    0.019019,     0.02002,    0.021021,    0.022022,    0.023023,\n",
       "          0.024024,    0.025025,    0.026026,    0.027027,    0.028028,    0.029029,     0.03003,    0.031031,    0.032032,    0.033033,    0.034034,    0.035035,    0.036036,    0.037037,    0.038038,    0.039039,     0.04004,    0.041041,    0.042042,    0.043043,    0.044044,    0.045045,    0.046046,    0.047047,\n",
       "          0.048048,    0.049049,     0.05005,    0.051051,    0.052052,    0.053053,    0.054054,    0.055055,    0.056056,    0.057057,    0.058058,    0.059059,     0.06006,    0.061061,    0.062062,    0.063063,    0.064064,    0.065065,    0.066066,    0.067067,    0.068068,    0.069069,     0.07007,    0.071071,\n",
       "          0.072072,    0.073073,    0.074074,    0.075075,    0.076076,    0.077077,    0.078078,    0.079079,     0.08008,    0.081081,    0.082082,    0.083083,    0.084084,    0.085085,    0.086086,    0.087087,    0.088088,    0.089089,     0.09009,    0.091091,    0.092092,    0.093093,    0.094094,    0.095095,\n",
       "          0.096096,    0.097097,    0.098098,    0.099099,      0.1001,      0.1011,      0.1021,      0.1031,      0.1041,     0.10511,     0.10611,     0.10711,     0.10811,     0.10911,     0.11011,     0.11111,     0.11211,     0.11311,     0.11411,     0.11512,     0.11612,     0.11712,     0.11812,     0.11912,\n",
       "           0.12012,     0.12112,     0.12212,     0.12312,     0.12412,     0.12513,     0.12613,     0.12713,     0.12813,     0.12913,     0.13013,     0.13113,     0.13213,     0.13313,     0.13413,     0.13514,     0.13614,     0.13714,     0.13814,     0.13914,     0.14014,     0.14114,     0.14214,     0.14314,\n",
       "           0.14414,     0.14515,     0.14615,     0.14715,     0.14815,     0.14915,     0.15015,     0.15115,     0.15215,     0.15315,     0.15415,     0.15516,     0.15616,     0.15716,     0.15816,     0.15916,     0.16016,     0.16116,     0.16216,     0.16316,     0.16416,     0.16517,     0.16617,     0.16717,\n",
       "           0.16817,     0.16917,     0.17017,     0.17117,     0.17217,     0.17317,     0.17417,     0.17518,     0.17618,     0.17718,     0.17818,     0.17918,     0.18018,     0.18118,     0.18218,     0.18318,     0.18418,     0.18519,     0.18619,     0.18719,     0.18819,     0.18919,     0.19019,     0.19119,\n",
       "           0.19219,     0.19319,     0.19419,      0.1952,      0.1962,      0.1972,      0.1982,      0.1992,      0.2002,      0.2012,      0.2022,      0.2032,      0.2042,     0.20521,     0.20621,     0.20721,     0.20821,     0.20921,     0.21021,     0.21121,     0.21221,     0.21321,     0.21421,     0.21522,\n",
       "           0.21622,     0.21722,     0.21822,     0.21922,     0.22022,     0.22122,     0.22222,     0.22322,     0.22422,     0.22523,     0.22623,     0.22723,     0.22823,     0.22923,     0.23023,     0.23123,     0.23223,     0.23323,     0.23423,     0.23524,     0.23624,     0.23724,     0.23824,     0.23924,\n",
       "           0.24024,     0.24124,     0.24224,     0.24324,     0.24424,     0.24525,     0.24625,     0.24725,     0.24825,     0.24925,     0.25025,     0.25125,     0.25225,     0.25325,     0.25425,     0.25526,     0.25626,     0.25726,     0.25826,     0.25926,     0.26026,     0.26126,     0.26226,     0.26326,\n",
       "           0.26426,     0.26527,     0.26627,     0.26727,     0.26827,     0.26927,     0.27027,     0.27127,     0.27227,     0.27327,     0.27427,     0.27528,     0.27628,     0.27728,     0.27828,     0.27928,     0.28028,     0.28128,     0.28228,     0.28328,     0.28428,     0.28529,     0.28629,     0.28729,\n",
       "           0.28829,     0.28929,     0.29029,     0.29129,     0.29229,     0.29329,     0.29429,      0.2953,      0.2963,      0.2973,      0.2983,      0.2993,      0.3003,      0.3013,      0.3023,      0.3033,      0.3043,     0.30531,     0.30631,     0.30731,     0.30831,     0.30931,     0.31031,     0.31131,\n",
       "           0.31231,     0.31331,     0.31431,     0.31532,     0.31632,     0.31732,     0.31832,     0.31932,     0.32032,     0.32132,     0.32232,     0.32332,     0.32432,     0.32533,     0.32633,     0.32733,     0.32833,     0.32933,     0.33033,     0.33133,     0.33233,     0.33333,     0.33433,     0.33534,\n",
       "           0.33634,     0.33734,     0.33834,     0.33934,     0.34034,     0.34134,     0.34234,     0.34334,     0.34434,     0.34535,     0.34635,     0.34735,     0.34835,     0.34935,     0.35035,     0.35135,     0.35235,     0.35335,     0.35435,     0.35536,     0.35636,     0.35736,     0.35836,     0.35936,\n",
       "           0.36036,     0.36136,     0.36236,     0.36336,     0.36436,     0.36537,     0.36637,     0.36737,     0.36837,     0.36937,     0.37037,     0.37137,     0.37237,     0.37337,     0.37437,     0.37538,     0.37638,     0.37738,     0.37838,     0.37938,     0.38038,     0.38138,     0.38238,     0.38338,\n",
       "           0.38438,     0.38539,     0.38639,     0.38739,     0.38839,     0.38939,     0.39039,     0.39139,     0.39239,     0.39339,     0.39439,      0.3954,      0.3964,      0.3974,      0.3984,      0.3994,      0.4004,      0.4014,      0.4024,      0.4034,      0.4044,     0.40541,     0.40641,     0.40741,\n",
       "           0.40841,     0.40941,     0.41041,     0.41141,     0.41241,     0.41341,     0.41441,     0.41542,     0.41642,     0.41742,     0.41842,     0.41942,     0.42042,     0.42142,     0.42242,     0.42342,     0.42442,     0.42543,     0.42643,     0.42743,     0.42843,     0.42943,     0.43043,     0.43143,\n",
       "           0.43243,     0.43343,     0.43443,     0.43544,     0.43644,     0.43744,     0.43844,     0.43944,     0.44044,     0.44144,     0.44244,     0.44344,     0.44444,     0.44545,     0.44645,     0.44745,     0.44845,     0.44945,     0.45045,     0.45145,     0.45245,     0.45345,     0.45445,     0.45546,\n",
       "           0.45646,     0.45746,     0.45846,     0.45946,     0.46046,     0.46146,     0.46246,     0.46346,     0.46446,     0.46547,     0.46647,     0.46747,     0.46847,     0.46947,     0.47047,     0.47147,     0.47247,     0.47347,     0.47447,     0.47548,     0.47648,     0.47748,     0.47848,     0.47948,\n",
       "           0.48048,     0.48148,     0.48248,     0.48348,     0.48448,     0.48549,     0.48649,     0.48749,     0.48849,     0.48949,     0.49049,     0.49149,     0.49249,     0.49349,     0.49449,      0.4955,      0.4965,      0.4975,      0.4985,      0.4995,      0.5005,      0.5015,      0.5025,      0.5035,\n",
       "            0.5045,     0.50551,     0.50651,     0.50751,     0.50851,     0.50951,     0.51051,     0.51151,     0.51251,     0.51351,     0.51451,     0.51552,     0.51652,     0.51752,     0.51852,     0.51952,     0.52052,     0.52152,     0.52252,     0.52352,     0.52452,     0.52553,     0.52653,     0.52753,\n",
       "           0.52853,     0.52953,     0.53053,     0.53153,     0.53253,     0.53353,     0.53453,     0.53554,     0.53654,     0.53754,     0.53854,     0.53954,     0.54054,     0.54154,     0.54254,     0.54354,     0.54454,     0.54555,     0.54655,     0.54755,     0.54855,     0.54955,     0.55055,     0.55155,\n",
       "           0.55255,     0.55355,     0.55455,     0.55556,     0.55656,     0.55756,     0.55856,     0.55956,     0.56056,     0.56156,     0.56256,     0.56356,     0.56456,     0.56557,     0.56657,     0.56757,     0.56857,     0.56957,     0.57057,     0.57157,     0.57257,     0.57357,     0.57457,     0.57558,\n",
       "           0.57658,     0.57758,     0.57858,     0.57958,     0.58058,     0.58158,     0.58258,     0.58358,     0.58458,     0.58559,     0.58659,     0.58759,     0.58859,     0.58959,     0.59059,     0.59159,     0.59259,     0.59359,     0.59459,      0.5956,      0.5966,      0.5976,      0.5986,      0.5996,\n",
       "            0.6006,      0.6016,      0.6026,      0.6036,      0.6046,     0.60561,     0.60661,     0.60761,     0.60861,     0.60961,     0.61061,     0.61161,     0.61261,     0.61361,     0.61461,     0.61562,     0.61662,     0.61762,     0.61862,     0.61962,     0.62062,     0.62162,     0.62262,     0.62362,\n",
       "           0.62462,     0.62563,     0.62663,     0.62763,     0.62863,     0.62963,     0.63063,     0.63163,     0.63263,     0.63363,     0.63463,     0.63564,     0.63664,     0.63764,     0.63864,     0.63964,     0.64064,     0.64164,     0.64264,     0.64364,     0.64464,     0.64565,     0.64665,     0.64765,\n",
       "           0.64865,     0.64965,     0.65065,     0.65165,     0.65265,     0.65365,     0.65465,     0.65566,     0.65666,     0.65766,     0.65866,     0.65966,     0.66066,     0.66166,     0.66266,     0.66366,     0.66466,     0.66567,     0.66667,     0.66767,     0.66867,     0.66967,     0.67067,     0.67167,\n",
       "           0.67267,     0.67367,     0.67467,     0.67568,     0.67668,     0.67768,     0.67868,     0.67968,     0.68068,     0.68168,     0.68268,     0.68368,     0.68468,     0.68569,     0.68669,     0.68769,     0.68869,     0.68969,     0.69069,     0.69169,     0.69269,     0.69369,     0.69469,      0.6957,\n",
       "            0.6967,      0.6977,      0.6987,      0.6997,      0.7007,      0.7017,      0.7027,      0.7037,      0.7047,     0.70571,     0.70671,     0.70771,     0.70871,     0.70971,     0.71071,     0.71171,     0.71271,     0.71371,     0.71471,     0.71572,     0.71672,     0.71772,     0.71872,     0.71972,\n",
       "           0.72072,     0.72172,     0.72272,     0.72372,     0.72472,     0.72573,     0.72673,     0.72773,     0.72873,     0.72973,     0.73073,     0.73173,     0.73273,     0.73373,     0.73473,     0.73574,     0.73674,     0.73774,     0.73874,     0.73974,     0.74074,     0.74174,     0.74274,     0.74374,\n",
       "           0.74474,     0.74575,     0.74675,     0.74775,     0.74875,     0.74975,     0.75075,     0.75175,     0.75275,     0.75375,     0.75475,     0.75576,     0.75676,     0.75776,     0.75876,     0.75976,     0.76076,     0.76176,     0.76276,     0.76376,     0.76476,     0.76577,     0.76677,     0.76777,\n",
       "           0.76877,     0.76977,     0.77077,     0.77177,     0.77277,     0.77377,     0.77477,     0.77578,     0.77678,     0.77778,     0.77878,     0.77978,     0.78078,     0.78178,     0.78278,     0.78378,     0.78478,     0.78579,     0.78679,     0.78779,     0.78879,     0.78979,     0.79079,     0.79179,\n",
       "           0.79279,     0.79379,     0.79479,      0.7958,      0.7968,      0.7978,      0.7988,      0.7998,      0.8008,      0.8018,      0.8028,      0.8038,      0.8048,     0.80581,     0.80681,     0.80781,     0.80881,     0.80981,     0.81081,     0.81181,     0.81281,     0.81381,     0.81481,     0.81582,\n",
       "           0.81682,     0.81782,     0.81882,     0.81982,     0.82082,     0.82182,     0.82282,     0.82382,     0.82482,     0.82583,     0.82683,     0.82783,     0.82883,     0.82983,     0.83083,     0.83183,     0.83283,     0.83383,     0.83483,     0.83584,     0.83684,     0.83784,     0.83884,     0.83984,\n",
       "           0.84084,     0.84184,     0.84284,     0.84384,     0.84484,     0.84585,     0.84685,     0.84785,     0.84885,     0.84985,     0.85085,     0.85185,     0.85285,     0.85385,     0.85485,     0.85586,     0.85686,     0.85786,     0.85886,     0.85986,     0.86086,     0.86186,     0.86286,     0.86386,\n",
       "           0.86486,     0.86587,     0.86687,     0.86787,     0.86887,     0.86987,     0.87087,     0.87187,     0.87287,     0.87387,     0.87487,     0.87588,     0.87688,     0.87788,     0.87888,     0.87988,     0.88088,     0.88188,     0.88288,     0.88388,     0.88488,     0.88589,     0.88689,     0.88789,\n",
       "           0.88889,     0.88989,     0.89089,     0.89189,     0.89289,     0.89389,     0.89489,      0.8959,      0.8969,      0.8979,      0.8989,      0.8999,      0.9009,      0.9019,      0.9029,      0.9039,      0.9049,     0.90591,     0.90691,     0.90791,     0.90891,     0.90991,     0.91091,     0.91191,\n",
       "           0.91291,     0.91391,     0.91491,     0.91592,     0.91692,     0.91792,     0.91892,     0.91992,     0.92092,     0.92192,     0.92292,     0.92392,     0.92492,     0.92593,     0.92693,     0.92793,     0.92893,     0.92993,     0.93093,     0.93193,     0.93293,     0.93393,     0.93493,     0.93594,\n",
       "           0.93694,     0.93794,     0.93894,     0.93994,     0.94094,     0.94194,     0.94294,     0.94394,     0.94494,     0.94595,     0.94695,     0.94795,     0.94895,     0.94995,     0.95095,     0.95195,     0.95295,     0.95395,     0.95495,     0.95596,     0.95696,     0.95796,     0.95896,     0.95996,\n",
       "           0.96096,     0.96196,     0.96296,     0.96396,     0.96496,     0.96597,     0.96697,     0.96797,     0.96897,     0.96997,     0.97097,     0.97197,     0.97297,     0.97397,     0.97497,     0.97598,     0.97698,     0.97798,     0.97898,     0.97998,     0.98098,     0.98198,     0.98298,     0.98398,\n",
       "           0.98498,     0.98599,     0.98699,     0.98799,     0.98899,     0.98999,     0.99099,     0.99199,     0.99299,     0.99399,     0.99499,       0.996,       0.997,       0.998,       0.999,           1]), array([[          1,           1,           1,           1,           1,           1,           1,           1,           1,           1,           1,           1,           1,           1,           1,           1,           1,           1,           1,           1,           1,           1,           1,\n",
       "                  1,           1,           1,           1,           1,           1,           1,           1,           1,           1,           1,           1,           1,           1,           1,           1,           1,           1,           1,           1,           1,           1,           1,\n",
       "                  1,           1,           1,           1,           1,           1,           1,           1,           1,           1,           1,           1,           1,           1,           1,           1,           1,           1,           1,           1,           1,           1,           1,\n",
       "                  1,           1,           1,           1,           1,           1,           1,           1,           1,           1,           1,           1,           1,           1,           1,           1,           1,           1,           1,           1,           1,           1,           1,\n",
       "                  1,           1,           1,           1,           1,           1,           1,           1,           1,           1,           1,           1,           1,           1,           1,           1,           1,           1,           1,           1,           1,           1,           1,\n",
       "                  1,           1,           1,           1,           1,           1,           1,           1,           1,           1,           1,           1,           1,           1,           1,           1,           1,           1,           1,           1,           1,           1,           1,\n",
       "                  1,           1,           1,           1,           1,           1,           1,           1,           1,           1,           1,           1,           1,           1,           1,           1,           1,           1,           1,           1,           1,           1,           1,\n",
       "                  1,           1,           1,           1,           1,           1,           1,           1,           1,           1,           1,           1,           1,           1,           1,           1,           1,           1,           1,           1,           1,           1,           1,\n",
       "                  1,           1,           1,           1,           1,           1,           1,           1,           1,           1,           1,           1,           1,           1,           1,           1,           1,           1,           1,           1,           1,           1,           1,\n",
       "                  1,           1,           1,           1,           1,           1,           1,           1,           1,           1,           1,           1,           1,           1,           1,           1,           1,           1,           1,           1,           1,           1,           1,\n",
       "                  1,           1,           1,           1,           1,           1,           1,           1,           1,           1,           1,           1,           1,           1,           1,           1,           1,           1,           1,           1,           1,           1,           1,\n",
       "                  1,           1,           1,           1,           1,           1,           1,           1,           1,           1,           1,           1,           1,           1,           1,           1,           1,           1,           1,           1,           1,           1,           1,\n",
       "                  1,           1,           1,           1,           1,           1,           1,           1,           1,           1,           1,           1,           1,           1,           1,           1,           1,           1,           1,           1,           1,           1,           1,\n",
       "                  1,           1,           1,           1,           1,           1,           1,           1,           1,           1,           1,           1,           1,           1,           1,           1,           1,           1,           1,           1,           1,           1,           1,\n",
       "                  1,           1,           1,           1,           1,           1,           1,           1,           1,           1,           1,           1,           1,           1,           1,           1,           1,           1,           1,           1,           1,           1,           1,\n",
       "                  1,           1,           1,           1,           1,           1,           1,           1,           1,           1,           1,           1,           1,           1,           1,           1,           1,           1,           1,           1,           1,           1,           1,\n",
       "                  1,           1,           1,           1,           1,           1,           1,           1,           1,           1,           1,           1,           1,           1,           1,           1,           1,           1,           1,           1,           1,           1,           1,\n",
       "                  1,           1,           1,           1,           1,           1,           1,           1,           1,           1,           1,           1,           1,           1,           1,           1,           1,           1,           1,           1,           1,           1,           1,\n",
       "                  1,           1,           1,           1,           1,           1,           1,           1,           1,           1,           1,           1,           1,           1,           1,           1,           1,           1,           1,           1,           1,           1,           1,\n",
       "                  1,           1,           1,           1,           1,           1,           1,           1,           1,           1,           1,           1,           1,           1,           1,           1,           1,           1,           1,           1,           1,           1,           1,\n",
       "                  1,           1,           1,           1,           1,           1,           1,           1,           1,           1,           1,           1,           1,           1,           1,           1,           1,           1,           1,           1,           1,           1,           1,\n",
       "                  1,           1,           1,           1,           1,           1,           1,           1,           1,           1,           1,           1,           1,           1,           1,           1,           1,           1,           1,           1,           1,           1,           1,\n",
       "                  1,           1,           1,           1,           1,           1,           1,           1,           1,           1,           1,           1,           1,           1,           1,           1,           1,           1,           1,           1,           1,           1,           1,\n",
       "                  1,           1,           1,     0.99999,     0.99999,     0.99999,     0.99999,     0.99999,     0.99999,     0.99999,     0.99999,     0.99999,     0.99999,     0.99999,     0.99999,     0.99999,     0.99999,     0.99999,     0.99999,     0.99999,     0.99999,     0.99999,     0.99999,\n",
       "            0.99999,     0.99999,     0.99999,     0.99999,     0.99999,     0.99999,     0.99999,     0.99999,     0.99999,     0.99999,     0.99999,     0.99999,     0.99999,     0.99999,     0.99999,     0.99999,     0.99999,     0.99999,     0.99999,     0.99999,     0.99999,     0.99999,     0.99999,\n",
       "            0.99999,     0.99999,     0.99999,     0.99999,     0.99999,     0.99999,     0.99999,     0.99999,     0.99999,     0.99999,     0.99999,     0.99999,     0.99999,     0.99999,     0.99999,     0.99999,     0.99999,     0.99999,     0.99999,     0.99999,     0.99999,     0.99999,     0.99999,\n",
       "            0.99999,     0.99999,     0.99999,     0.99999,     0.99999,     0.99999,     0.99999,     0.99999,     0.99999,     0.99999,     0.99999,     0.99998,     0.99998,     0.99998,     0.99998,     0.99998,     0.99998,     0.99998,     0.99998,     0.99998,     0.99998,     0.99998,     0.99998,\n",
       "            0.99998,     0.99998,     0.99998,     0.99998,     0.99998,     0.99998,     0.99998,     0.99998,     0.99998,     0.99998,     0.99998,     0.99998,     0.99998,     0.99998,     0.99998,     0.99998,     0.99998,     0.99998,     0.99997,     0.99997,     0.99997,     0.99997,     0.99997,\n",
       "            0.99996,     0.99996,     0.99996,     0.99996,     0.99996,     0.99996,     0.99996,     0.99996,     0.99996,     0.99996,     0.99996,     0.99996,     0.99996,     0.99995,     0.99995,     0.99995,     0.99995,     0.99995,     0.99995,     0.99995,     0.99995,     0.99995,     0.99995,\n",
       "            0.99995,     0.99995,     0.99995,     0.99995,     0.99995,     0.99995,     0.99994,     0.99994,     0.99993,     0.99993,     0.99993,     0.99993,     0.99993,     0.99993,     0.99993,     0.99993,     0.99993,     0.99993,     0.99993,     0.99993,     0.99993,     0.99993,     0.99993,\n",
       "            0.99993,     0.99993,     0.99993,     0.99993,     0.99993,     0.99993,     0.99993,     0.99993,     0.99993,     0.99993,     0.99993,     0.99993,     0.99993,     0.99993,     0.99992,     0.99992,     0.99992,     0.99992,     0.99992,     0.99992,     0.99992,     0.99992,     0.99992,\n",
       "            0.99992,     0.99992,     0.99992,     0.99992,     0.99992,     0.99992,     0.99992,     0.99992,     0.99992,     0.99992,     0.99992,     0.99991,     0.99991,      0.9999,     0.99989,     0.99989,     0.99989,     0.99988,     0.99988,     0.99988,     0.99988,     0.99988,     0.99988,\n",
       "            0.99988,     0.99988,     0.99988,     0.99988,     0.99988,     0.99987,     0.99987,     0.99987,     0.99987,     0.99987,     0.99987,     0.99987,     0.99987,     0.99987,     0.99986,     0.99986,     0.99986,     0.99986,     0.99986,     0.99985,     0.99985,     0.99985,     0.99984,\n",
       "            0.99984,     0.99984,     0.99983,     0.99982,     0.99982,     0.99982,     0.99979,     0.99978,     0.99978,     0.99976,     0.99975,     0.99975,     0.99974,     0.99974,     0.99974,     0.99972,     0.99971,      0.9997,      0.9997,      0.9997,     0.99969,     0.99969,     0.99967,\n",
       "            0.99967,     0.99964,     0.99963,     0.99962,      0.9996,      0.9996,     0.99956,     0.99955,     0.99955,     0.99953,      0.9995,      0.9995,     0.99949,     0.99949,     0.99949,     0.99946,     0.99946,     0.99946,     0.99946,     0.99945,     0.99945,     0.99944,     0.99942,\n",
       "            0.99941,      0.9994,     0.99938,     0.99938,     0.99936,     0.99934,     0.99933,     0.99933,     0.99932,     0.99929,     0.99929,     0.99929,     0.99928,     0.99928,     0.99927,     0.99926,     0.99925,     0.99924,     0.99924,     0.99924,     0.99923,     0.99923,     0.99922,\n",
       "             0.9992,     0.99919,     0.99919,     0.99918,     0.99915,     0.99913,     0.99912,     0.99912,     0.99912,     0.99912,     0.99912,     0.99911,      0.9991,      0.9991,     0.99909,     0.99907,     0.99907,     0.99906,     0.99903,     0.99903,     0.99903,     0.99903,     0.99903,\n",
       "            0.99903,     0.99903,     0.99903,     0.99903,     0.99903,     0.99903,     0.99903,     0.99903,     0.99903,     0.99903,     0.99903,     0.99903,     0.99903,     0.99903,     0.99903,     0.99903,     0.99903,     0.99903,     0.99903,     0.99903,     0.99903,     0.99903,     0.99903,\n",
       "            0.99903,     0.99903,     0.99903,     0.99903,     0.99903,     0.99903,     0.99903,     0.99903,     0.99903,     0.99903,     0.99903,     0.99903,     0.99903,     0.99903,     0.99902,     0.99902,     0.99902,     0.99902,     0.99902,     0.99902,     0.99902,     0.99902,     0.99902,\n",
       "            0.99902,     0.99901,     0.99901,     0.99901,     0.99901,     0.99901,     0.99901,     0.99901,     0.99901,     0.99901,     0.99901,     0.99901,     0.99901,     0.99901,       0.999,       0.999,       0.999,       0.999,       0.999,       0.999,       0.999,       0.999,       0.999,\n",
       "            0.99899,     0.99897,     0.99896,     0.99896,     0.99894,     0.99894,     0.99893,     0.99892,     0.99892,     0.99891,     0.99888,     0.99887,     0.99886,     0.99885,     0.99885,     0.99884,     0.99884,     0.99884,     0.99884,     0.99884,     0.99882,     0.99882,     0.99882,\n",
       "            0.99881,     0.99879,     0.99879,     0.99878,     0.99876,     0.99875,     0.99874,     0.99873,     0.99872,     0.99869,     0.99868,     0.99867,     0.99866,     0.99865,     0.99861,     0.99858,     0.99857,     0.99854,     0.99853,     0.99852,     0.99849,     0.99839,     0.99836,\n",
       "            0.99831,     0.99828,     0.99826,     0.99822,     0.99818,     0.99814,     0.99807,     0.99799,     0.99795,      0.9979,     0.99782,      0.9977,     0.99757,     0.99748,     0.99732,     0.99714,     0.99695,      0.9968,     0.99656,     0.99625,     0.99601,     0.99564,     0.99526,\n",
       "             0.9949,     0.99431,     0.99335,     0.99248,     0.99139,     0.98983,     0.98766,     0.98391,     0.97621,     0.82714,           0]]), 'Recall', 'Precision'], [array([          0,    0.001001,    0.002002,    0.003003,    0.004004,    0.005005,    0.006006,    0.007007,    0.008008,    0.009009,     0.01001,    0.011011,    0.012012,    0.013013,    0.014014,    0.015015,    0.016016,    0.017017,    0.018018,    0.019019,     0.02002,    0.021021,    0.022022,    0.023023,\n",
       "          0.024024,    0.025025,    0.026026,    0.027027,    0.028028,    0.029029,     0.03003,    0.031031,    0.032032,    0.033033,    0.034034,    0.035035,    0.036036,    0.037037,    0.038038,    0.039039,     0.04004,    0.041041,    0.042042,    0.043043,    0.044044,    0.045045,    0.046046,    0.047047,\n",
       "          0.048048,    0.049049,     0.05005,    0.051051,    0.052052,    0.053053,    0.054054,    0.055055,    0.056056,    0.057057,    0.058058,    0.059059,     0.06006,    0.061061,    0.062062,    0.063063,    0.064064,    0.065065,    0.066066,    0.067067,    0.068068,    0.069069,     0.07007,    0.071071,\n",
       "          0.072072,    0.073073,    0.074074,    0.075075,    0.076076,    0.077077,    0.078078,    0.079079,     0.08008,    0.081081,    0.082082,    0.083083,    0.084084,    0.085085,    0.086086,    0.087087,    0.088088,    0.089089,     0.09009,    0.091091,    0.092092,    0.093093,    0.094094,    0.095095,\n",
       "          0.096096,    0.097097,    0.098098,    0.099099,      0.1001,      0.1011,      0.1021,      0.1031,      0.1041,     0.10511,     0.10611,     0.10711,     0.10811,     0.10911,     0.11011,     0.11111,     0.11211,     0.11311,     0.11411,     0.11512,     0.11612,     0.11712,     0.11812,     0.11912,\n",
       "           0.12012,     0.12112,     0.12212,     0.12312,     0.12412,     0.12513,     0.12613,     0.12713,     0.12813,     0.12913,     0.13013,     0.13113,     0.13213,     0.13313,     0.13413,     0.13514,     0.13614,     0.13714,     0.13814,     0.13914,     0.14014,     0.14114,     0.14214,     0.14314,\n",
       "           0.14414,     0.14515,     0.14615,     0.14715,     0.14815,     0.14915,     0.15015,     0.15115,     0.15215,     0.15315,     0.15415,     0.15516,     0.15616,     0.15716,     0.15816,     0.15916,     0.16016,     0.16116,     0.16216,     0.16316,     0.16416,     0.16517,     0.16617,     0.16717,\n",
       "           0.16817,     0.16917,     0.17017,     0.17117,     0.17217,     0.17317,     0.17417,     0.17518,     0.17618,     0.17718,     0.17818,     0.17918,     0.18018,     0.18118,     0.18218,     0.18318,     0.18418,     0.18519,     0.18619,     0.18719,     0.18819,     0.18919,     0.19019,     0.19119,\n",
       "           0.19219,     0.19319,     0.19419,      0.1952,      0.1962,      0.1972,      0.1982,      0.1992,      0.2002,      0.2012,      0.2022,      0.2032,      0.2042,     0.20521,     0.20621,     0.20721,     0.20821,     0.20921,     0.21021,     0.21121,     0.21221,     0.21321,     0.21421,     0.21522,\n",
       "           0.21622,     0.21722,     0.21822,     0.21922,     0.22022,     0.22122,     0.22222,     0.22322,     0.22422,     0.22523,     0.22623,     0.22723,     0.22823,     0.22923,     0.23023,     0.23123,     0.23223,     0.23323,     0.23423,     0.23524,     0.23624,     0.23724,     0.23824,     0.23924,\n",
       "           0.24024,     0.24124,     0.24224,     0.24324,     0.24424,     0.24525,     0.24625,     0.24725,     0.24825,     0.24925,     0.25025,     0.25125,     0.25225,     0.25325,     0.25425,     0.25526,     0.25626,     0.25726,     0.25826,     0.25926,     0.26026,     0.26126,     0.26226,     0.26326,\n",
       "           0.26426,     0.26527,     0.26627,     0.26727,     0.26827,     0.26927,     0.27027,     0.27127,     0.27227,     0.27327,     0.27427,     0.27528,     0.27628,     0.27728,     0.27828,     0.27928,     0.28028,     0.28128,     0.28228,     0.28328,     0.28428,     0.28529,     0.28629,     0.28729,\n",
       "           0.28829,     0.28929,     0.29029,     0.29129,     0.29229,     0.29329,     0.29429,      0.2953,      0.2963,      0.2973,      0.2983,      0.2993,      0.3003,      0.3013,      0.3023,      0.3033,      0.3043,     0.30531,     0.30631,     0.30731,     0.30831,     0.30931,     0.31031,     0.31131,\n",
       "           0.31231,     0.31331,     0.31431,     0.31532,     0.31632,     0.31732,     0.31832,     0.31932,     0.32032,     0.32132,     0.32232,     0.32332,     0.32432,     0.32533,     0.32633,     0.32733,     0.32833,     0.32933,     0.33033,     0.33133,     0.33233,     0.33333,     0.33433,     0.33534,\n",
       "           0.33634,     0.33734,     0.33834,     0.33934,     0.34034,     0.34134,     0.34234,     0.34334,     0.34434,     0.34535,     0.34635,     0.34735,     0.34835,     0.34935,     0.35035,     0.35135,     0.35235,     0.35335,     0.35435,     0.35536,     0.35636,     0.35736,     0.35836,     0.35936,\n",
       "           0.36036,     0.36136,     0.36236,     0.36336,     0.36436,     0.36537,     0.36637,     0.36737,     0.36837,     0.36937,     0.37037,     0.37137,     0.37237,     0.37337,     0.37437,     0.37538,     0.37638,     0.37738,     0.37838,     0.37938,     0.38038,     0.38138,     0.38238,     0.38338,\n",
       "           0.38438,     0.38539,     0.38639,     0.38739,     0.38839,     0.38939,     0.39039,     0.39139,     0.39239,     0.39339,     0.39439,      0.3954,      0.3964,      0.3974,      0.3984,      0.3994,      0.4004,      0.4014,      0.4024,      0.4034,      0.4044,     0.40541,     0.40641,     0.40741,\n",
       "           0.40841,     0.40941,     0.41041,     0.41141,     0.41241,     0.41341,     0.41441,     0.41542,     0.41642,     0.41742,     0.41842,     0.41942,     0.42042,     0.42142,     0.42242,     0.42342,     0.42442,     0.42543,     0.42643,     0.42743,     0.42843,     0.42943,     0.43043,     0.43143,\n",
       "           0.43243,     0.43343,     0.43443,     0.43544,     0.43644,     0.43744,     0.43844,     0.43944,     0.44044,     0.44144,     0.44244,     0.44344,     0.44444,     0.44545,     0.44645,     0.44745,     0.44845,     0.44945,     0.45045,     0.45145,     0.45245,     0.45345,     0.45445,     0.45546,\n",
       "           0.45646,     0.45746,     0.45846,     0.45946,     0.46046,     0.46146,     0.46246,     0.46346,     0.46446,     0.46547,     0.46647,     0.46747,     0.46847,     0.46947,     0.47047,     0.47147,     0.47247,     0.47347,     0.47447,     0.47548,     0.47648,     0.47748,     0.47848,     0.47948,\n",
       "           0.48048,     0.48148,     0.48248,     0.48348,     0.48448,     0.48549,     0.48649,     0.48749,     0.48849,     0.48949,     0.49049,     0.49149,     0.49249,     0.49349,     0.49449,      0.4955,      0.4965,      0.4975,      0.4985,      0.4995,      0.5005,      0.5015,      0.5025,      0.5035,\n",
       "            0.5045,     0.50551,     0.50651,     0.50751,     0.50851,     0.50951,     0.51051,     0.51151,     0.51251,     0.51351,     0.51451,     0.51552,     0.51652,     0.51752,     0.51852,     0.51952,     0.52052,     0.52152,     0.52252,     0.52352,     0.52452,     0.52553,     0.52653,     0.52753,\n",
       "           0.52853,     0.52953,     0.53053,     0.53153,     0.53253,     0.53353,     0.53453,     0.53554,     0.53654,     0.53754,     0.53854,     0.53954,     0.54054,     0.54154,     0.54254,     0.54354,     0.54454,     0.54555,     0.54655,     0.54755,     0.54855,     0.54955,     0.55055,     0.55155,\n",
       "           0.55255,     0.55355,     0.55455,     0.55556,     0.55656,     0.55756,     0.55856,     0.55956,     0.56056,     0.56156,     0.56256,     0.56356,     0.56456,     0.56557,     0.56657,     0.56757,     0.56857,     0.56957,     0.57057,     0.57157,     0.57257,     0.57357,     0.57457,     0.57558,\n",
       "           0.57658,     0.57758,     0.57858,     0.57958,     0.58058,     0.58158,     0.58258,     0.58358,     0.58458,     0.58559,     0.58659,     0.58759,     0.58859,     0.58959,     0.59059,     0.59159,     0.59259,     0.59359,     0.59459,      0.5956,      0.5966,      0.5976,      0.5986,      0.5996,\n",
       "            0.6006,      0.6016,      0.6026,      0.6036,      0.6046,     0.60561,     0.60661,     0.60761,     0.60861,     0.60961,     0.61061,     0.61161,     0.61261,     0.61361,     0.61461,     0.61562,     0.61662,     0.61762,     0.61862,     0.61962,     0.62062,     0.62162,     0.62262,     0.62362,\n",
       "           0.62462,     0.62563,     0.62663,     0.62763,     0.62863,     0.62963,     0.63063,     0.63163,     0.63263,     0.63363,     0.63463,     0.63564,     0.63664,     0.63764,     0.63864,     0.63964,     0.64064,     0.64164,     0.64264,     0.64364,     0.64464,     0.64565,     0.64665,     0.64765,\n",
       "           0.64865,     0.64965,     0.65065,     0.65165,     0.65265,     0.65365,     0.65465,     0.65566,     0.65666,     0.65766,     0.65866,     0.65966,     0.66066,     0.66166,     0.66266,     0.66366,     0.66466,     0.66567,     0.66667,     0.66767,     0.66867,     0.66967,     0.67067,     0.67167,\n",
       "           0.67267,     0.67367,     0.67467,     0.67568,     0.67668,     0.67768,     0.67868,     0.67968,     0.68068,     0.68168,     0.68268,     0.68368,     0.68468,     0.68569,     0.68669,     0.68769,     0.68869,     0.68969,     0.69069,     0.69169,     0.69269,     0.69369,     0.69469,      0.6957,\n",
       "            0.6967,      0.6977,      0.6987,      0.6997,      0.7007,      0.7017,      0.7027,      0.7037,      0.7047,     0.70571,     0.70671,     0.70771,     0.70871,     0.70971,     0.71071,     0.71171,     0.71271,     0.71371,     0.71471,     0.71572,     0.71672,     0.71772,     0.71872,     0.71972,\n",
       "           0.72072,     0.72172,     0.72272,     0.72372,     0.72472,     0.72573,     0.72673,     0.72773,     0.72873,     0.72973,     0.73073,     0.73173,     0.73273,     0.73373,     0.73473,     0.73574,     0.73674,     0.73774,     0.73874,     0.73974,     0.74074,     0.74174,     0.74274,     0.74374,\n",
       "           0.74474,     0.74575,     0.74675,     0.74775,     0.74875,     0.74975,     0.75075,     0.75175,     0.75275,     0.75375,     0.75475,     0.75576,     0.75676,     0.75776,     0.75876,     0.75976,     0.76076,     0.76176,     0.76276,     0.76376,     0.76476,     0.76577,     0.76677,     0.76777,\n",
       "           0.76877,     0.76977,     0.77077,     0.77177,     0.77277,     0.77377,     0.77477,     0.77578,     0.77678,     0.77778,     0.77878,     0.77978,     0.78078,     0.78178,     0.78278,     0.78378,     0.78478,     0.78579,     0.78679,     0.78779,     0.78879,     0.78979,     0.79079,     0.79179,\n",
       "           0.79279,     0.79379,     0.79479,      0.7958,      0.7968,      0.7978,      0.7988,      0.7998,      0.8008,      0.8018,      0.8028,      0.8038,      0.8048,     0.80581,     0.80681,     0.80781,     0.80881,     0.80981,     0.81081,     0.81181,     0.81281,     0.81381,     0.81481,     0.81582,\n",
       "           0.81682,     0.81782,     0.81882,     0.81982,     0.82082,     0.82182,     0.82282,     0.82382,     0.82482,     0.82583,     0.82683,     0.82783,     0.82883,     0.82983,     0.83083,     0.83183,     0.83283,     0.83383,     0.83483,     0.83584,     0.83684,     0.83784,     0.83884,     0.83984,\n",
       "           0.84084,     0.84184,     0.84284,     0.84384,     0.84484,     0.84585,     0.84685,     0.84785,     0.84885,     0.84985,     0.85085,     0.85185,     0.85285,     0.85385,     0.85485,     0.85586,     0.85686,     0.85786,     0.85886,     0.85986,     0.86086,     0.86186,     0.86286,     0.86386,\n",
       "           0.86486,     0.86587,     0.86687,     0.86787,     0.86887,     0.86987,     0.87087,     0.87187,     0.87287,     0.87387,     0.87487,     0.87588,     0.87688,     0.87788,     0.87888,     0.87988,     0.88088,     0.88188,     0.88288,     0.88388,     0.88488,     0.88589,     0.88689,     0.88789,\n",
       "           0.88889,     0.88989,     0.89089,     0.89189,     0.89289,     0.89389,     0.89489,      0.8959,      0.8969,      0.8979,      0.8989,      0.8999,      0.9009,      0.9019,      0.9029,      0.9039,      0.9049,     0.90591,     0.90691,     0.90791,     0.90891,     0.90991,     0.91091,     0.91191,\n",
       "           0.91291,     0.91391,     0.91491,     0.91592,     0.91692,     0.91792,     0.91892,     0.91992,     0.92092,     0.92192,     0.92292,     0.92392,     0.92492,     0.92593,     0.92693,     0.92793,     0.92893,     0.92993,     0.93093,     0.93193,     0.93293,     0.93393,     0.93493,     0.93594,\n",
       "           0.93694,     0.93794,     0.93894,     0.93994,     0.94094,     0.94194,     0.94294,     0.94394,     0.94494,     0.94595,     0.94695,     0.94795,     0.94895,     0.94995,     0.95095,     0.95195,     0.95295,     0.95395,     0.95495,     0.95596,     0.95696,     0.95796,     0.95896,     0.95996,\n",
       "           0.96096,     0.96196,     0.96296,     0.96396,     0.96496,     0.96597,     0.96697,     0.96797,     0.96897,     0.96997,     0.97097,     0.97197,     0.97297,     0.97397,     0.97497,     0.97598,     0.97698,     0.97798,     0.97898,     0.97998,     0.98098,     0.98198,     0.98298,     0.98398,\n",
       "           0.98498,     0.98599,     0.98699,     0.98799,     0.98899,     0.98999,     0.99099,     0.99199,     0.99299,     0.99399,     0.99499,       0.996,       0.997,       0.998,       0.999,           1]), array([[    0.94235,     0.94235,     0.95717,     0.96343,     0.96717,      0.9699,     0.97184,     0.97328,     0.97459,     0.97557,     0.97639,     0.97712,     0.97777,     0.97834,      0.9789,     0.97933,     0.97976,      0.9802,     0.98067,     0.98108,     0.98141,     0.98173,     0.98201,\n",
       "            0.98229,     0.98255,     0.98277,     0.98303,     0.98326,     0.98339,     0.98357,     0.98377,     0.98399,     0.98411,     0.98429,     0.98445,     0.98463,     0.98475,     0.98489,     0.98503,     0.98517,     0.98528,      0.9854,     0.98553,     0.98568,     0.98575,     0.98584,\n",
       "            0.98596,     0.98604,     0.98613,     0.98625,      0.9863,     0.98637,     0.98645,     0.98654,     0.98663,     0.98672,     0.98677,     0.98686,     0.98695,     0.98699,     0.98706,     0.98713,      0.9872,     0.98727,     0.98735,     0.98743,     0.98747,      0.9875,     0.98756,\n",
       "            0.98765,     0.98771,     0.98777,      0.9878,     0.98786,     0.98792,     0.98797,     0.98799,     0.98803,     0.98809,     0.98813,     0.98817,     0.98821,     0.98828,     0.98835,     0.98841,     0.98846,     0.98849,     0.98853,     0.98857,     0.98864,     0.98871,     0.98874,\n",
       "            0.98879,     0.98883,     0.98886,     0.98889,     0.98891,     0.98897,       0.989,     0.98902,     0.98907,     0.98911,     0.98913,     0.98918,     0.98922,     0.98924,     0.98929,      0.9893,     0.98932,     0.98937,     0.98939,      0.9894,     0.98942,     0.98944,     0.98946,\n",
       "            0.98949,     0.98951,     0.98952,     0.98956,     0.98957,     0.98962,     0.98964,     0.98967,     0.98971,     0.98974,     0.98977,     0.98979,     0.98982,     0.98986,     0.98989,     0.98989,     0.98993,     0.98994,     0.98997,        0.99,     0.99003,     0.99004,     0.99007,\n",
       "            0.99008,     0.99011,     0.99013,     0.99015,     0.99017,     0.99022,     0.99023,     0.99027,     0.99027,     0.99029,     0.99032,     0.99036,     0.99038,     0.99041,     0.99043,     0.99046,     0.99048,     0.99049,     0.99052,     0.99053,     0.99054,     0.99057,     0.99059,\n",
       "            0.99061,     0.99063,     0.99066,     0.99067,     0.99069,     0.99071,     0.99073,     0.99074,     0.99076,     0.99076,     0.99078,     0.99078,      0.9908,     0.99081,     0.99084,     0.99084,     0.99086,     0.99087,     0.99088,      0.9909,     0.99092,     0.99094,     0.99096,\n",
       "            0.99097,     0.99098,       0.991,     0.99102,     0.99102,     0.99103,     0.99103,     0.99104,     0.99105,     0.99106,     0.99106,     0.99109,     0.99111,     0.99113,     0.99114,     0.99115,     0.99116,     0.99118,     0.99119,     0.99121,      0.9912,     0.99122,     0.99123,\n",
       "            0.99124,     0.99126,     0.99127,     0.99131,     0.99134,     0.99136,     0.99136,     0.99138,     0.99138,     0.99139,      0.9914,     0.99142,     0.99143,     0.99147,     0.99148,     0.99151,     0.99151,     0.99153,     0.99155,     0.99156,     0.99157,     0.99159,     0.99161,\n",
       "            0.99163,     0.99164,     0.99164,     0.99166,     0.99167,     0.99167,     0.99168,     0.99169,     0.99171,     0.99172,     0.99174,     0.99175,     0.99176,     0.99177,     0.99178,     0.99179,      0.9918,     0.99182,     0.99182,     0.99184,     0.99185,     0.99186,     0.99187,\n",
       "            0.99188,     0.99187,     0.99188,      0.9919,      0.9919,      0.9919,     0.99191,     0.99192,     0.99192,     0.99194,     0.99194,     0.99196,     0.99197,     0.99197,     0.99198,     0.99198,     0.99199,     0.99198,     0.99199,     0.99201,     0.99203,     0.99203,     0.99205,\n",
       "            0.99207,     0.99207,     0.99207,     0.99209,      0.9921,     0.99211,     0.99211,      0.9921,     0.99211,     0.99212,     0.99212,     0.99214,     0.99215,     0.99215,     0.99217,     0.99219,      0.9922,     0.99219,     0.99222,     0.99222,     0.99224,     0.99224,     0.99224,\n",
       "            0.99224,     0.99224,     0.99224,     0.99225,     0.99224,     0.99225,     0.99225,     0.99226,     0.99226,     0.99226,     0.99226,     0.99228,     0.99228,      0.9923,     0.99231,     0.99231,     0.99232,     0.99232,     0.99233,     0.99234,     0.99234,     0.99235,     0.99236,\n",
       "            0.99237,     0.99238,     0.99238,     0.99238,     0.99237,     0.99238,     0.99238,     0.99239,     0.99239,     0.99239,      0.9924,      0.9924,     0.99241,     0.99241,     0.99241,     0.99243,     0.99243,     0.99245,     0.99246,     0.99246,     0.99247,     0.99249,     0.99248,\n",
       "            0.99248,     0.99248,     0.99249,     0.99249,      0.9925,     0.99249,     0.99248,     0.99247,     0.99247,     0.99247,     0.99247,     0.99247,     0.99247,     0.99248,     0.99248,     0.99248,     0.99249,      0.9925,      0.9925,     0.99249,      0.9925,      0.9925,      0.9925,\n",
       "             0.9925,     0.99251,     0.99252,     0.99253,     0.99253,     0.99253,     0.99253,     0.99254,     0.99255,     0.99255,     0.99255,     0.99255,     0.99257,     0.99257,     0.99257,     0.99258,     0.99258,      0.9926,      0.9926,     0.99261,     0.99261,      0.9926,     0.99261,\n",
       "            0.99262,     0.99263,     0.99263,     0.99263,     0.99262,     0.99263,     0.99264,     0.99264,     0.99264,     0.99265,     0.99266,     0.99267,     0.99268,     0.99267,     0.99268,     0.99269,     0.99269,     0.99268,     0.99269,     0.99269,      0.9927,      0.9927,      0.9927,\n",
       "            0.99269,     0.99269,      0.9927,     0.99272,     0.99272,     0.99272,     0.99272,     0.99272,     0.99273,     0.99273,     0.99272,     0.99271,     0.99272,     0.99272,     0.99272,     0.99273,     0.99273,     0.99274,     0.99274,     0.99274,     0.99273,     0.99273,     0.99274,\n",
       "            0.99274,     0.99275,     0.99275,     0.99275,     0.99276,     0.99276,     0.99276,     0.99276,     0.99276,     0.99274,     0.99275,     0.99276,     0.99277,     0.99275,     0.99276,     0.99275,     0.99276,     0.99277,     0.99275,     0.99275,     0.99275,     0.99275,     0.99275,\n",
       "            0.99275,     0.99274,     0.99275,     0.99274,     0.99273,     0.99274,     0.99274,     0.99273,     0.99275,     0.99273,     0.99273,     0.99271,     0.99271,     0.99272,     0.99272,     0.99272,     0.99271,     0.99274,     0.99274,     0.99275,     0.99274,     0.99275,     0.99276,\n",
       "            0.99276,     0.99277,     0.99277,     0.99277,     0.99276,     0.99277,     0.99277,     0.99278,     0.99278,     0.99277,     0.99277,     0.99277,     0.99278,     0.99277,     0.99276,     0.99275,     0.99276,     0.99276,     0.99276,     0.99276,     0.99276,     0.99275,     0.99275,\n",
       "            0.99274,     0.99273,     0.99273,     0.99273,     0.99273,     0.99273,     0.99273,     0.99272,     0.99271,     0.99269,     0.99271,     0.99271,     0.99269,      0.9927,     0.99269,     0.99269,     0.99269,     0.99269,     0.99269,     0.99268,     0.99268,     0.99267,     0.99267,\n",
       "            0.99267,     0.99267,     0.99268,     0.99269,      0.9927,     0.99269,     0.99267,     0.99267,     0.99268,     0.99268,     0.99268,     0.99268,     0.99268,     0.99268,     0.99268,     0.99269,     0.99269,     0.99269,     0.99269,      0.9927,     0.99271,     0.99271,     0.99271,\n",
       "            0.99271,     0.99271,     0.99271,      0.9927,     0.99268,     0.99267,     0.99266,     0.99267,     0.99266,     0.99266,     0.99265,     0.99265,     0.99264,     0.99264,     0.99264,     0.99264,     0.99265,     0.99266,     0.99266,     0.99267,     0.99267,     0.99267,     0.99265,\n",
       "            0.99265,     0.99264,     0.99264,     0.99264,     0.99266,     0.99265,     0.99263,     0.99263,     0.99262,     0.99262,     0.99259,     0.99259,     0.99258,     0.99258,     0.99258,     0.99257,     0.99255,     0.99255,     0.99254,     0.99253,     0.99253,     0.99254,     0.99252,\n",
       "            0.99252,     0.99251,     0.99251,     0.99251,     0.99252,     0.99251,      0.9925,      0.9925,     0.99249,     0.99247,     0.99247,     0.99246,     0.99245,     0.99244,     0.99244,     0.99243,     0.99244,     0.99244,     0.99245,     0.99245,     0.99244,     0.99242,     0.99242,\n",
       "            0.99241,      0.9924,     0.99239,     0.99239,     0.99238,     0.99235,     0.99234,     0.99232,     0.99233,      0.9923,     0.99228,     0.99227,     0.99225,     0.99226,     0.99226,     0.99226,     0.99224,     0.99224,     0.99222,     0.99218,     0.99218,     0.99217,     0.99217,\n",
       "            0.99215,     0.99215,     0.99214,     0.99214,     0.99214,     0.99212,     0.99211,     0.99211,     0.99211,      0.9921,      0.9921,     0.99208,     0.99208,     0.99208,     0.99206,     0.99206,     0.99205,     0.99204,     0.99202,       0.992,     0.99199,     0.99198,     0.99197,\n",
       "            0.99196,     0.99196,     0.99195,     0.99193,     0.99193,     0.99189,     0.99187,     0.99185,     0.99184,     0.99182,      0.9918,     0.99179,     0.99179,     0.99177,     0.99176,     0.99175,     0.99175,     0.99174,     0.99174,     0.99173,     0.99172,     0.99168,     0.99168,\n",
       "            0.99166,     0.99166,     0.99165,     0.99165,     0.99161,      0.9916,     0.99159,     0.99158,     0.99156,     0.99155,     0.99151,      0.9915,     0.99148,     0.99148,     0.99145,     0.99141,     0.99141,     0.99139,     0.99138,     0.99137,     0.99133,     0.99133,     0.99132,\n",
       "            0.99132,     0.99129,     0.99127,     0.99127,     0.99123,     0.99123,      0.9912,     0.99118,     0.99111,     0.99111,     0.99107,     0.99106,     0.99102,     0.99099,     0.99099,     0.99096,     0.99091,      0.9909,     0.99089,     0.99087,     0.99087,     0.99085,     0.99085,\n",
       "            0.99084,      0.9908,      0.9908,     0.99079,     0.99076,     0.99074,     0.99074,     0.99072,     0.99068,     0.99067,     0.99061,     0.99057,     0.99056,     0.99055,     0.99054,     0.99054,     0.99048,     0.99045,     0.99045,     0.99039,     0.99038,     0.99037,     0.99033,\n",
       "            0.99028,     0.99025,     0.99024,     0.99019,     0.99011,     0.99006,     0.99006,     0.98999,     0.98995,     0.98994,      0.9899,     0.98984,     0.98984,     0.98978,     0.98974,     0.98971,      0.9897,     0.98963,      0.9896,      0.9896,     0.98956,      0.9895,     0.98946,\n",
       "            0.98941,      0.9894,     0.98936,     0.98929,     0.98924,     0.98925,     0.98919,     0.98914,     0.98907,     0.98906,     0.98899,     0.98891,     0.98885,     0.98885,      0.9888,     0.98875,     0.98871,     0.98865,     0.98859,     0.98854,     0.98853,     0.98845,     0.98836,\n",
       "            0.98827,      0.9882,     0.98819,     0.98814,     0.98806,     0.98798,      0.9879,      0.9879,     0.98783,     0.98776,     0.98771,     0.98766,      0.9876,      0.9876,      0.9875,     0.98736,     0.98736,     0.98726,     0.98722,     0.98713,     0.98703,     0.98692,     0.98683,\n",
       "            0.98682,     0.98673,     0.98661,     0.98649,     0.98637,     0.98623,     0.98614,     0.98603,     0.98591,     0.98579,     0.98579,     0.98567,     0.98547,     0.98538,     0.98524,      0.9851,       0.985,     0.98484,     0.98484,     0.98474,     0.98458,     0.98442,     0.98425,\n",
       "            0.98412,     0.98394,     0.98382,     0.98364,     0.98345,     0.98325,     0.98307,     0.98291,     0.98278,     0.98248,     0.98225,     0.98211,     0.98195,     0.98174,     0.98153,     0.98131,     0.98114,     0.98078,     0.98057,     0.98036,     0.98009,     0.97984,     0.97955,\n",
       "            0.97931,     0.97904,     0.97852,     0.97828,     0.97798,     0.97769,     0.97715,     0.97684,     0.97655,     0.97621,      0.9756,     0.97532,     0.97502,      0.9747,     0.97413,     0.97383,     0.97351,     0.97293,     0.97259,     0.97224,     0.97192,     0.97122,     0.97084,\n",
       "            0.97014,     0.96974,     0.96932,     0.96861,     0.96787,     0.96747,     0.96664,     0.96621,     0.96537,     0.96493,     0.96441,     0.96348,     0.96247,     0.96201,     0.96105,     0.96052,     0.95956,     0.95907,     0.95806,     0.95704,      0.9564,     0.95531,     0.95406,\n",
       "            0.95276,      0.9516,     0.95021,     0.94949,      0.9481,      0.9467,     0.94506,     0.94346,      0.9418,     0.94073,     0.93876,     0.93667,     0.93443,     0.93191,     0.92914,     0.92612,       0.921,     0.91723,     0.91306,     0.90816,     0.90072,     0.89327,     0.88834,\n",
       "            0.88326,     0.87591,     0.87044,     0.86263,     0.85711,     0.84892,     0.84311,     0.83427,      0.8245,     0.81692,     0.80481,     0.79044,     0.77562,     0.75844,     0.73948,     0.71954,     0.69828,      0.6555,     0.61091,     0.56948,     0.50934,      0.4607,     0.40351,\n",
       "             0.3532,     0.31261,      0.2762,     0.24264,     0.20173,     0.16749,     0.12895,    0.088629,    0.049093,    0.019102,   0.0059995,   0.0017269,  0.00060496,  0.00021585,  2.8075e-05,           0,           0,           0,           0,           0,           0,           0,           0,\n",
       "                  0,           0,           0,           0,           0,           0,           0,           0,           0,           0,           0]]), 'Confidence', 'F1'], [array([          0,    0.001001,    0.002002,    0.003003,    0.004004,    0.005005,    0.006006,    0.007007,    0.008008,    0.009009,     0.01001,    0.011011,    0.012012,    0.013013,    0.014014,    0.015015,    0.016016,    0.017017,    0.018018,    0.019019,     0.02002,    0.021021,    0.022022,    0.023023,\n",
       "          0.024024,    0.025025,    0.026026,    0.027027,    0.028028,    0.029029,     0.03003,    0.031031,    0.032032,    0.033033,    0.034034,    0.035035,    0.036036,    0.037037,    0.038038,    0.039039,     0.04004,    0.041041,    0.042042,    0.043043,    0.044044,    0.045045,    0.046046,    0.047047,\n",
       "          0.048048,    0.049049,     0.05005,    0.051051,    0.052052,    0.053053,    0.054054,    0.055055,    0.056056,    0.057057,    0.058058,    0.059059,     0.06006,    0.061061,    0.062062,    0.063063,    0.064064,    0.065065,    0.066066,    0.067067,    0.068068,    0.069069,     0.07007,    0.071071,\n",
       "          0.072072,    0.073073,    0.074074,    0.075075,    0.076076,    0.077077,    0.078078,    0.079079,     0.08008,    0.081081,    0.082082,    0.083083,    0.084084,    0.085085,    0.086086,    0.087087,    0.088088,    0.089089,     0.09009,    0.091091,    0.092092,    0.093093,    0.094094,    0.095095,\n",
       "          0.096096,    0.097097,    0.098098,    0.099099,      0.1001,      0.1011,      0.1021,      0.1031,      0.1041,     0.10511,     0.10611,     0.10711,     0.10811,     0.10911,     0.11011,     0.11111,     0.11211,     0.11311,     0.11411,     0.11512,     0.11612,     0.11712,     0.11812,     0.11912,\n",
       "           0.12012,     0.12112,     0.12212,     0.12312,     0.12412,     0.12513,     0.12613,     0.12713,     0.12813,     0.12913,     0.13013,     0.13113,     0.13213,     0.13313,     0.13413,     0.13514,     0.13614,     0.13714,     0.13814,     0.13914,     0.14014,     0.14114,     0.14214,     0.14314,\n",
       "           0.14414,     0.14515,     0.14615,     0.14715,     0.14815,     0.14915,     0.15015,     0.15115,     0.15215,     0.15315,     0.15415,     0.15516,     0.15616,     0.15716,     0.15816,     0.15916,     0.16016,     0.16116,     0.16216,     0.16316,     0.16416,     0.16517,     0.16617,     0.16717,\n",
       "           0.16817,     0.16917,     0.17017,     0.17117,     0.17217,     0.17317,     0.17417,     0.17518,     0.17618,     0.17718,     0.17818,     0.17918,     0.18018,     0.18118,     0.18218,     0.18318,     0.18418,     0.18519,     0.18619,     0.18719,     0.18819,     0.18919,     0.19019,     0.19119,\n",
       "           0.19219,     0.19319,     0.19419,      0.1952,      0.1962,      0.1972,      0.1982,      0.1992,      0.2002,      0.2012,      0.2022,      0.2032,      0.2042,     0.20521,     0.20621,     0.20721,     0.20821,     0.20921,     0.21021,     0.21121,     0.21221,     0.21321,     0.21421,     0.21522,\n",
       "           0.21622,     0.21722,     0.21822,     0.21922,     0.22022,     0.22122,     0.22222,     0.22322,     0.22422,     0.22523,     0.22623,     0.22723,     0.22823,     0.22923,     0.23023,     0.23123,     0.23223,     0.23323,     0.23423,     0.23524,     0.23624,     0.23724,     0.23824,     0.23924,\n",
       "           0.24024,     0.24124,     0.24224,     0.24324,     0.24424,     0.24525,     0.24625,     0.24725,     0.24825,     0.24925,     0.25025,     0.25125,     0.25225,     0.25325,     0.25425,     0.25526,     0.25626,     0.25726,     0.25826,     0.25926,     0.26026,     0.26126,     0.26226,     0.26326,\n",
       "           0.26426,     0.26527,     0.26627,     0.26727,     0.26827,     0.26927,     0.27027,     0.27127,     0.27227,     0.27327,     0.27427,     0.27528,     0.27628,     0.27728,     0.27828,     0.27928,     0.28028,     0.28128,     0.28228,     0.28328,     0.28428,     0.28529,     0.28629,     0.28729,\n",
       "           0.28829,     0.28929,     0.29029,     0.29129,     0.29229,     0.29329,     0.29429,      0.2953,      0.2963,      0.2973,      0.2983,      0.2993,      0.3003,      0.3013,      0.3023,      0.3033,      0.3043,     0.30531,     0.30631,     0.30731,     0.30831,     0.30931,     0.31031,     0.31131,\n",
       "           0.31231,     0.31331,     0.31431,     0.31532,     0.31632,     0.31732,     0.31832,     0.31932,     0.32032,     0.32132,     0.32232,     0.32332,     0.32432,     0.32533,     0.32633,     0.32733,     0.32833,     0.32933,     0.33033,     0.33133,     0.33233,     0.33333,     0.33433,     0.33534,\n",
       "           0.33634,     0.33734,     0.33834,     0.33934,     0.34034,     0.34134,     0.34234,     0.34334,     0.34434,     0.34535,     0.34635,     0.34735,     0.34835,     0.34935,     0.35035,     0.35135,     0.35235,     0.35335,     0.35435,     0.35536,     0.35636,     0.35736,     0.35836,     0.35936,\n",
       "           0.36036,     0.36136,     0.36236,     0.36336,     0.36436,     0.36537,     0.36637,     0.36737,     0.36837,     0.36937,     0.37037,     0.37137,     0.37237,     0.37337,     0.37437,     0.37538,     0.37638,     0.37738,     0.37838,     0.37938,     0.38038,     0.38138,     0.38238,     0.38338,\n",
       "           0.38438,     0.38539,     0.38639,     0.38739,     0.38839,     0.38939,     0.39039,     0.39139,     0.39239,     0.39339,     0.39439,      0.3954,      0.3964,      0.3974,      0.3984,      0.3994,      0.4004,      0.4014,      0.4024,      0.4034,      0.4044,     0.40541,     0.40641,     0.40741,\n",
       "           0.40841,     0.40941,     0.41041,     0.41141,     0.41241,     0.41341,     0.41441,     0.41542,     0.41642,     0.41742,     0.41842,     0.41942,     0.42042,     0.42142,     0.42242,     0.42342,     0.42442,     0.42543,     0.42643,     0.42743,     0.42843,     0.42943,     0.43043,     0.43143,\n",
       "           0.43243,     0.43343,     0.43443,     0.43544,     0.43644,     0.43744,     0.43844,     0.43944,     0.44044,     0.44144,     0.44244,     0.44344,     0.44444,     0.44545,     0.44645,     0.44745,     0.44845,     0.44945,     0.45045,     0.45145,     0.45245,     0.45345,     0.45445,     0.45546,\n",
       "           0.45646,     0.45746,     0.45846,     0.45946,     0.46046,     0.46146,     0.46246,     0.46346,     0.46446,     0.46547,     0.46647,     0.46747,     0.46847,     0.46947,     0.47047,     0.47147,     0.47247,     0.47347,     0.47447,     0.47548,     0.47648,     0.47748,     0.47848,     0.47948,\n",
       "           0.48048,     0.48148,     0.48248,     0.48348,     0.48448,     0.48549,     0.48649,     0.48749,     0.48849,     0.48949,     0.49049,     0.49149,     0.49249,     0.49349,     0.49449,      0.4955,      0.4965,      0.4975,      0.4985,      0.4995,      0.5005,      0.5015,      0.5025,      0.5035,\n",
       "            0.5045,     0.50551,     0.50651,     0.50751,     0.50851,     0.50951,     0.51051,     0.51151,     0.51251,     0.51351,     0.51451,     0.51552,     0.51652,     0.51752,     0.51852,     0.51952,     0.52052,     0.52152,     0.52252,     0.52352,     0.52452,     0.52553,     0.52653,     0.52753,\n",
       "           0.52853,     0.52953,     0.53053,     0.53153,     0.53253,     0.53353,     0.53453,     0.53554,     0.53654,     0.53754,     0.53854,     0.53954,     0.54054,     0.54154,     0.54254,     0.54354,     0.54454,     0.54555,     0.54655,     0.54755,     0.54855,     0.54955,     0.55055,     0.55155,\n",
       "           0.55255,     0.55355,     0.55455,     0.55556,     0.55656,     0.55756,     0.55856,     0.55956,     0.56056,     0.56156,     0.56256,     0.56356,     0.56456,     0.56557,     0.56657,     0.56757,     0.56857,     0.56957,     0.57057,     0.57157,     0.57257,     0.57357,     0.57457,     0.57558,\n",
       "           0.57658,     0.57758,     0.57858,     0.57958,     0.58058,     0.58158,     0.58258,     0.58358,     0.58458,     0.58559,     0.58659,     0.58759,     0.58859,     0.58959,     0.59059,     0.59159,     0.59259,     0.59359,     0.59459,      0.5956,      0.5966,      0.5976,      0.5986,      0.5996,\n",
       "            0.6006,      0.6016,      0.6026,      0.6036,      0.6046,     0.60561,     0.60661,     0.60761,     0.60861,     0.60961,     0.61061,     0.61161,     0.61261,     0.61361,     0.61461,     0.61562,     0.61662,     0.61762,     0.61862,     0.61962,     0.62062,     0.62162,     0.62262,     0.62362,\n",
       "           0.62462,     0.62563,     0.62663,     0.62763,     0.62863,     0.62963,     0.63063,     0.63163,     0.63263,     0.63363,     0.63463,     0.63564,     0.63664,     0.63764,     0.63864,     0.63964,     0.64064,     0.64164,     0.64264,     0.64364,     0.64464,     0.64565,     0.64665,     0.64765,\n",
       "           0.64865,     0.64965,     0.65065,     0.65165,     0.65265,     0.65365,     0.65465,     0.65566,     0.65666,     0.65766,     0.65866,     0.65966,     0.66066,     0.66166,     0.66266,     0.66366,     0.66466,     0.66567,     0.66667,     0.66767,     0.66867,     0.66967,     0.67067,     0.67167,\n",
       "           0.67267,     0.67367,     0.67467,     0.67568,     0.67668,     0.67768,     0.67868,     0.67968,     0.68068,     0.68168,     0.68268,     0.68368,     0.68468,     0.68569,     0.68669,     0.68769,     0.68869,     0.68969,     0.69069,     0.69169,     0.69269,     0.69369,     0.69469,      0.6957,\n",
       "            0.6967,      0.6977,      0.6987,      0.6997,      0.7007,      0.7017,      0.7027,      0.7037,      0.7047,     0.70571,     0.70671,     0.70771,     0.70871,     0.70971,     0.71071,     0.71171,     0.71271,     0.71371,     0.71471,     0.71572,     0.71672,     0.71772,     0.71872,     0.71972,\n",
       "           0.72072,     0.72172,     0.72272,     0.72372,     0.72472,     0.72573,     0.72673,     0.72773,     0.72873,     0.72973,     0.73073,     0.73173,     0.73273,     0.73373,     0.73473,     0.73574,     0.73674,     0.73774,     0.73874,     0.73974,     0.74074,     0.74174,     0.74274,     0.74374,\n",
       "           0.74474,     0.74575,     0.74675,     0.74775,     0.74875,     0.74975,     0.75075,     0.75175,     0.75275,     0.75375,     0.75475,     0.75576,     0.75676,     0.75776,     0.75876,     0.75976,     0.76076,     0.76176,     0.76276,     0.76376,     0.76476,     0.76577,     0.76677,     0.76777,\n",
       "           0.76877,     0.76977,     0.77077,     0.77177,     0.77277,     0.77377,     0.77477,     0.77578,     0.77678,     0.77778,     0.77878,     0.77978,     0.78078,     0.78178,     0.78278,     0.78378,     0.78478,     0.78579,     0.78679,     0.78779,     0.78879,     0.78979,     0.79079,     0.79179,\n",
       "           0.79279,     0.79379,     0.79479,      0.7958,      0.7968,      0.7978,      0.7988,      0.7998,      0.8008,      0.8018,      0.8028,      0.8038,      0.8048,     0.80581,     0.80681,     0.80781,     0.80881,     0.80981,     0.81081,     0.81181,     0.81281,     0.81381,     0.81481,     0.81582,\n",
       "           0.81682,     0.81782,     0.81882,     0.81982,     0.82082,     0.82182,     0.82282,     0.82382,     0.82482,     0.82583,     0.82683,     0.82783,     0.82883,     0.82983,     0.83083,     0.83183,     0.83283,     0.83383,     0.83483,     0.83584,     0.83684,     0.83784,     0.83884,     0.83984,\n",
       "           0.84084,     0.84184,     0.84284,     0.84384,     0.84484,     0.84585,     0.84685,     0.84785,     0.84885,     0.84985,     0.85085,     0.85185,     0.85285,     0.85385,     0.85485,     0.85586,     0.85686,     0.85786,     0.85886,     0.85986,     0.86086,     0.86186,     0.86286,     0.86386,\n",
       "           0.86486,     0.86587,     0.86687,     0.86787,     0.86887,     0.86987,     0.87087,     0.87187,     0.87287,     0.87387,     0.87487,     0.87588,     0.87688,     0.87788,     0.87888,     0.87988,     0.88088,     0.88188,     0.88288,     0.88388,     0.88488,     0.88589,     0.88689,     0.88789,\n",
       "           0.88889,     0.88989,     0.89089,     0.89189,     0.89289,     0.89389,     0.89489,      0.8959,      0.8969,      0.8979,      0.8989,      0.8999,      0.9009,      0.9019,      0.9029,      0.9039,      0.9049,     0.90591,     0.90691,     0.90791,     0.90891,     0.90991,     0.91091,     0.91191,\n",
       "           0.91291,     0.91391,     0.91491,     0.91592,     0.91692,     0.91792,     0.91892,     0.91992,     0.92092,     0.92192,     0.92292,     0.92392,     0.92492,     0.92593,     0.92693,     0.92793,     0.92893,     0.92993,     0.93093,     0.93193,     0.93293,     0.93393,     0.93493,     0.93594,\n",
       "           0.93694,     0.93794,     0.93894,     0.93994,     0.94094,     0.94194,     0.94294,     0.94394,     0.94494,     0.94595,     0.94695,     0.94795,     0.94895,     0.94995,     0.95095,     0.95195,     0.95295,     0.95395,     0.95495,     0.95596,     0.95696,     0.95796,     0.95896,     0.95996,\n",
       "           0.96096,     0.96196,     0.96296,     0.96396,     0.96496,     0.96597,     0.96697,     0.96797,     0.96897,     0.96997,     0.97097,     0.97197,     0.97297,     0.97397,     0.97497,     0.97598,     0.97698,     0.97798,     0.97898,     0.97998,     0.98098,     0.98198,     0.98298,     0.98398,\n",
       "           0.98498,     0.98599,     0.98699,     0.98799,     0.98899,     0.98999,     0.99099,     0.99199,     0.99299,     0.99399,     0.99499,       0.996,       0.997,       0.998,       0.999,           1]), array([[    0.89185,     0.89185,     0.91879,     0.93043,     0.93744,     0.94261,      0.9463,     0.94903,     0.95154,     0.95343,     0.95504,     0.95645,     0.95771,     0.95883,     0.95993,     0.96078,     0.96163,     0.96248,     0.96339,     0.96419,     0.96484,     0.96548,     0.96604,\n",
       "            0.96657,     0.96709,     0.96756,     0.96807,     0.96851,     0.96881,     0.96918,     0.96958,     0.97002,     0.97027,     0.97062,     0.97095,     0.97131,     0.97155,     0.97183,     0.97212,      0.9724,     0.97263,     0.97287,     0.97313,     0.97345,     0.97361,     0.97381,\n",
       "            0.97405,     0.97422,     0.97441,     0.97464,     0.97474,     0.97491,     0.97511,     0.97529,     0.97548,     0.97566,     0.97578,     0.97594,     0.97612,     0.97624,     0.97639,     0.97654,     0.97668,     0.97683,     0.97698,     0.97716,     0.97725,     0.97734,     0.97745,\n",
       "            0.97765,     0.97777,     0.97788,     0.97796,     0.97808,      0.9782,      0.9783,     0.97834,     0.97843,     0.97856,     0.97864,     0.97873,      0.9788,     0.97894,      0.9791,     0.97924,     0.97933,     0.97941,      0.9795,     0.97957,     0.97973,     0.97989,     0.97995,\n",
       "            0.98007,     0.98014,     0.98023,      0.9803,     0.98037,     0.98049,     0.98056,     0.98063,     0.98072,      0.9808,     0.98084,     0.98095,     0.98103,     0.98109,     0.98118,     0.98122,     0.98128,     0.98138,     0.98143,     0.98147,     0.98154,     0.98158,     0.98164,\n",
       "            0.98171,     0.98177,      0.9818,     0.98189,     0.98192,     0.98202,     0.98205,     0.98211,      0.9822,     0.98227,     0.98234,      0.9824,     0.98247,     0.98257,     0.98262,     0.98266,     0.98273,      0.9828,     0.98287,     0.98293,       0.983,     0.98304,      0.9831,\n",
       "            0.98313,     0.98321,     0.98325,     0.98331,     0.98336,     0.98345,      0.9835,     0.98358,      0.9836,     0.98366,     0.98372,     0.98379,     0.98385,     0.98392,     0.98397,     0.98404,     0.98409,     0.98411,     0.98418,     0.98422,     0.98424,     0.98432,     0.98437,\n",
       "            0.98443,      0.9845,     0.98455,     0.98459,     0.98465,     0.98471,     0.98474,     0.98477,     0.98482,     0.98482,     0.98486,     0.98488,     0.98491,     0.98497,     0.98502,     0.98506,     0.98509,     0.98512,     0.98515,     0.98521,     0.98525,     0.98529,     0.98535,\n",
       "            0.98537,     0.98542,     0.98547,     0.98552,     0.98555,     0.98558,     0.98561,     0.98564,     0.98568,      0.9857,     0.98571,     0.98579,     0.98583,     0.98587,      0.9859,     0.98594,     0.98597,     0.98602,     0.98605,     0.98611,     0.98612,     0.98616,     0.98618,\n",
       "            0.98622,     0.98628,      0.9863,     0.98639,     0.98644,     0.98649,     0.98651,     0.98655,     0.98657,     0.98659,     0.98663,     0.98668,     0.98672,     0.98679,     0.98682,     0.98688,      0.9869,     0.98695,     0.98698,     0.98702,     0.98704,     0.98707,     0.98712,\n",
       "            0.98719,     0.98722,     0.98723,     0.98727,      0.9873,     0.98731,     0.98733,     0.98738,     0.98741,     0.98744,     0.98749,     0.98751,     0.98754,     0.98756,     0.98758,     0.98761,     0.98762,     0.98766,     0.98769,     0.98773,     0.98778,      0.9878,     0.98782,\n",
       "            0.98786,     0.98787,     0.98789,     0.98793,     0.98795,     0.98796,     0.98799,     0.98801,     0.98804,     0.98808,     0.98809,     0.98815,     0.98816,     0.98817,      0.9882,     0.98823,     0.98825,     0.98825,     0.98828,      0.9883,     0.98837,     0.98837,     0.98843,\n",
       "            0.98847,     0.98848,     0.98851,     0.98855,     0.98859,     0.98861,     0.98863,     0.98863,     0.98866,     0.98868,     0.98872,     0.98874,     0.98878,     0.98881,     0.98886,      0.9889,     0.98893,     0.98893,     0.98899,     0.98901,     0.98906,     0.98906,     0.98908,\n",
       "            0.98909,     0.98909,     0.98912,     0.98913,     0.98915,     0.98917,     0.98918,     0.98921,     0.98922,     0.98924,     0.98925,     0.98928,     0.98931,     0.98936,     0.98937,     0.98941,     0.98942,     0.98945,     0.98946,      0.9895,     0.98953,     0.98956,     0.98959,\n",
       "            0.98961,     0.98962,     0.98965,     0.98966,     0.98967,     0.98969,     0.98972,     0.98974,     0.98976,     0.98977,     0.98979,     0.98981,     0.98983,     0.98985,     0.98986,      0.9899,     0.98992,     0.98997,     0.98999,        0.99,     0.99003,     0.99008,     0.99009,\n",
       "            0.99009,      0.9901,     0.99012,     0.99014,     0.99017,     0.99018,     0.99018,      0.9902,     0.99021,     0.99024,     0.99025,     0.99026,     0.99027,      0.9903,     0.99031,     0.99032,     0.99035,     0.99037,     0.99038,     0.99038,     0.99039,     0.99041,     0.99045,\n",
       "            0.99046,     0.99049,     0.99053,     0.99054,     0.99056,     0.99056,     0.99058,      0.9906,     0.99064,     0.99066,     0.99067,     0.99068,     0.99071,     0.99073,     0.99075,      0.9908,      0.9908,     0.99084,     0.99085,     0.99089,     0.99089,     0.99091,     0.99094,\n",
       "            0.99096,     0.99097,     0.99099,     0.99099,       0.991,     0.99104,     0.99106,     0.99108,     0.99108,     0.99111,     0.99113,     0.99117,     0.99119,     0.99119,     0.99121,     0.99124,     0.99127,     0.99129,     0.99131,     0.99132,     0.99136,     0.99136,     0.99139,\n",
       "            0.99139,     0.99142,     0.99144,     0.99147,     0.99149,     0.99149,      0.9915,     0.99151,     0.99152,     0.99157,     0.99159,     0.99159,     0.99162,     0.99163,     0.99165,     0.99167,     0.99171,     0.99172,     0.99174,     0.99175,     0.99176,     0.99177,     0.99181,\n",
       "            0.99182,     0.99183,     0.99184,     0.99188,     0.99188,     0.99191,     0.99192,     0.99194,     0.99194,     0.99194,     0.99196,     0.99198,     0.99201,     0.99202,     0.99205,     0.99206,     0.99208,     0.99213,     0.99214,     0.99215,     0.99217,     0.99218,     0.99221,\n",
       "            0.99222,     0.99222,     0.99225,     0.99227,     0.99227,     0.99229,     0.99229,     0.99231,     0.99234,     0.99234,     0.99236,     0.99236,     0.99238,     0.99239,      0.9924,     0.99242,     0.99242,     0.99247,     0.99248,     0.99251,     0.99255,     0.99256,      0.9926,\n",
       "            0.99261,     0.99263,     0.99264,     0.99268,     0.99268,     0.99271,     0.99271,     0.99274,     0.99275,     0.99276,     0.99278,     0.99281,     0.99283,     0.99284,     0.99285,     0.99285,     0.99287,     0.99289,      0.9929,     0.99292,     0.99292,     0.99296,     0.99298,\n",
       "              0.993,     0.99301,     0.99305,     0.99305,     0.99307,     0.99308,     0.99311,     0.99311,     0.99312,     0.99312,     0.99316,     0.99317,     0.99318,      0.9932,     0.99323,     0.99324,     0.99326,     0.99328,     0.99329,     0.99333,     0.99334,     0.99334,     0.99335,\n",
       "            0.99338,     0.99339,     0.99342,     0.99344,     0.99346,     0.99347,     0.99347,     0.99349,     0.99353,     0.99355,     0.99358,      0.9936,     0.99362,     0.99363,     0.99367,      0.9937,     0.99372,     0.99372,     0.99373,     0.99376,      0.9938,     0.99381,     0.99383,\n",
       "            0.99383,     0.99386,     0.99386,     0.99386,     0.99387,     0.99389,      0.9939,     0.99392,     0.99394,     0.99395,     0.99397,     0.99398,     0.99401,     0.99403,     0.99404,     0.99405,     0.99407,      0.9941,     0.99414,     0.99416,     0.99418,     0.99419,     0.99419,\n",
       "            0.99421,     0.99423,     0.99423,     0.99426,      0.9943,     0.99431,     0.99432,     0.99433,     0.99434,     0.99435,     0.99437,     0.99438,      0.9944,      0.9944,     0.99443,     0.99443,     0.99444,     0.99445,     0.99445,     0.99446,     0.99449,     0.99452,     0.99453,\n",
       "            0.99454,     0.99456,     0.99459,      0.9946,     0.99462,     0.99462,     0.99465,     0.99466,     0.99467,     0.99469,     0.99471,     0.99474,     0.99474,     0.99477,     0.99478,      0.9948,     0.99481,     0.99484,     0.99486,     0.99489,      0.9949,      0.9949,     0.99492,\n",
       "            0.99493,     0.99496,     0.99496,     0.99497,     0.99497,     0.99497,     0.99497,     0.99498,     0.99499,     0.99501,     0.99502,     0.99504,     0.99504,     0.99507,     0.99509,     0.99509,      0.9951,     0.99511,     0.99514,     0.99514,     0.99515,     0.99515,     0.99516,\n",
       "            0.99518,     0.99518,      0.9952,     0.99521,     0.99522,     0.99526,     0.99527,     0.99527,     0.99528,     0.99529,      0.9953,     0.99532,     0.99533,     0.99535,     0.99539,      0.9954,     0.99541,     0.99541,     0.99543,     0.99543,     0.99543,     0.99544,     0.99544,\n",
       "            0.99547,     0.99548,     0.99551,     0.99553,     0.99554,     0.99554,     0.99554,     0.99555,     0.99556,     0.99557,      0.9956,     0.99561,     0.99562,     0.99564,     0.99566,     0.99568,     0.99568,     0.99573,     0.99575,     0.99575,     0.99579,     0.99579,      0.9958,\n",
       "            0.99581,     0.99581,     0.99585,     0.99586,     0.99587,     0.99588,     0.99588,     0.99588,     0.99593,     0.99594,     0.99597,     0.99598,       0.996,       0.996,     0.99602,     0.99603,     0.99603,     0.99606,     0.99606,     0.99608,     0.99608,     0.99608,     0.99612,\n",
       "            0.99612,     0.99614,     0.99619,     0.99619,      0.9962,      0.9962,     0.99621,     0.99623,     0.99625,     0.99625,     0.99626,     0.99626,     0.99628,     0.99631,     0.99631,     0.99633,     0.99634,     0.99634,     0.99638,      0.9964,      0.9964,     0.99645,     0.99645,\n",
       "            0.99649,     0.99651,     0.99651,     0.99653,     0.99655,     0.99659,     0.99659,     0.99661,     0.99663,     0.99663,     0.99664,     0.99665,     0.99665,     0.99669,     0.99671,     0.99671,     0.99673,     0.99675,     0.99675,     0.99676,     0.99679,     0.99679,     0.99681,\n",
       "            0.99683,     0.99684,     0.99684,     0.99686,     0.99689,      0.9969,      0.9969,      0.9969,     0.99694,     0.99694,     0.99696,     0.99698,     0.99698,     0.99701,     0.99705,     0.99708,     0.99708,     0.99709,     0.99712,     0.99712,     0.99714,     0.99715,     0.99716,\n",
       "            0.99719,     0.99719,     0.99722,     0.99724,     0.99726,     0.99726,     0.99728,     0.99729,     0.99732,     0.99732,     0.99735,     0.99738,     0.99739,     0.99739,     0.99741,     0.99744,     0.99746,     0.99748,     0.99749,      0.9975,      0.9975,     0.99751,     0.99753,\n",
       "            0.99756,     0.99757,     0.99757,     0.99759,      0.9976,     0.99762,     0.99764,     0.99764,     0.99768,      0.9977,     0.99771,     0.99772,     0.99774,     0.99774,     0.99776,     0.99782,     0.99782,     0.99782,     0.99785,     0.99788,     0.99787,     0.99789,      0.9979,\n",
       "             0.9979,     0.99792,     0.99794,     0.99795,     0.99795,     0.99796,     0.99796,     0.99797,     0.99798,     0.99799,       0.998,     0.99802,     0.99805,     0.99807,     0.99807,     0.99808,     0.99812,     0.99815,     0.99815,     0.99816,     0.99817,     0.99817,      0.9982,\n",
       "            0.99821,     0.99822,     0.99824,     0.99824,     0.99826,     0.99826,     0.99828,     0.99828,     0.99829,     0.99831,     0.99832,     0.99834,     0.99836,     0.99836,     0.99838,     0.99839,     0.99843,      0.9985,     0.99852,     0.99852,     0.99852,     0.99853,     0.99853,\n",
       "            0.99854,     0.99856,     0.99857,     0.99858,     0.99861,     0.99861,     0.99865,     0.99865,     0.99867,     0.99868,     0.99868,     0.99869,      0.9987,     0.99872,     0.99873,     0.99874,     0.99874,     0.99876,     0.99876,     0.99877,     0.99879,     0.99879,     0.99881,\n",
       "            0.99881,     0.99882,     0.99882,     0.99884,     0.99884,     0.99884,     0.99884,     0.99884,     0.99885,     0.99886,     0.99887,      0.9989,     0.99892,     0.99892,     0.99894,     0.99894,     0.99896,     0.99897,       0.999,       0.999,       0.999,       0.999,       0.999,\n",
       "            0.99901,       0.999,       0.999,     0.99901,     0.99901,     0.99901,     0.99902,     0.99902,     0.99902,     0.99902,     0.99903,     0.99902,     0.99903,     0.99903,     0.99902,     0.99902,     0.99902,     0.99903,      0.9991,     0.99916,     0.99927,     0.99938,     0.99946,\n",
       "            0.99954,      0.9997,     0.99975,     0.99985,     0.99987,     0.99988,     0.99989,     0.99992,     0.99993,     0.99993,     0.99994,     0.99996,     0.99998,     0.99998,     0.99999,     0.99999,     0.99999,           1,           1,           1,           1,           1,           1,\n",
       "                  1,           1,           1,           1,           1,           1,           1,           1,           1,           1,           1,           1,           1,           1,           1,           1,           1,           1,           1,           1,           1,           1,           1,\n",
       "                  1,           1,           1,           1,           1,           1,           1,           1,           1,           1,           1]]), 'Confidence', 'Precision'], [array([          0,    0.001001,    0.002002,    0.003003,    0.004004,    0.005005,    0.006006,    0.007007,    0.008008,    0.009009,     0.01001,    0.011011,    0.012012,    0.013013,    0.014014,    0.015015,    0.016016,    0.017017,    0.018018,    0.019019,     0.02002,    0.021021,    0.022022,    0.023023,\n",
       "          0.024024,    0.025025,    0.026026,    0.027027,    0.028028,    0.029029,     0.03003,    0.031031,    0.032032,    0.033033,    0.034034,    0.035035,    0.036036,    0.037037,    0.038038,    0.039039,     0.04004,    0.041041,    0.042042,    0.043043,    0.044044,    0.045045,    0.046046,    0.047047,\n",
       "          0.048048,    0.049049,     0.05005,    0.051051,    0.052052,    0.053053,    0.054054,    0.055055,    0.056056,    0.057057,    0.058058,    0.059059,     0.06006,    0.061061,    0.062062,    0.063063,    0.064064,    0.065065,    0.066066,    0.067067,    0.068068,    0.069069,     0.07007,    0.071071,\n",
       "          0.072072,    0.073073,    0.074074,    0.075075,    0.076076,    0.077077,    0.078078,    0.079079,     0.08008,    0.081081,    0.082082,    0.083083,    0.084084,    0.085085,    0.086086,    0.087087,    0.088088,    0.089089,     0.09009,    0.091091,    0.092092,    0.093093,    0.094094,    0.095095,\n",
       "          0.096096,    0.097097,    0.098098,    0.099099,      0.1001,      0.1011,      0.1021,      0.1031,      0.1041,     0.10511,     0.10611,     0.10711,     0.10811,     0.10911,     0.11011,     0.11111,     0.11211,     0.11311,     0.11411,     0.11512,     0.11612,     0.11712,     0.11812,     0.11912,\n",
       "           0.12012,     0.12112,     0.12212,     0.12312,     0.12412,     0.12513,     0.12613,     0.12713,     0.12813,     0.12913,     0.13013,     0.13113,     0.13213,     0.13313,     0.13413,     0.13514,     0.13614,     0.13714,     0.13814,     0.13914,     0.14014,     0.14114,     0.14214,     0.14314,\n",
       "           0.14414,     0.14515,     0.14615,     0.14715,     0.14815,     0.14915,     0.15015,     0.15115,     0.15215,     0.15315,     0.15415,     0.15516,     0.15616,     0.15716,     0.15816,     0.15916,     0.16016,     0.16116,     0.16216,     0.16316,     0.16416,     0.16517,     0.16617,     0.16717,\n",
       "           0.16817,     0.16917,     0.17017,     0.17117,     0.17217,     0.17317,     0.17417,     0.17518,     0.17618,     0.17718,     0.17818,     0.17918,     0.18018,     0.18118,     0.18218,     0.18318,     0.18418,     0.18519,     0.18619,     0.18719,     0.18819,     0.18919,     0.19019,     0.19119,\n",
       "           0.19219,     0.19319,     0.19419,      0.1952,      0.1962,      0.1972,      0.1982,      0.1992,      0.2002,      0.2012,      0.2022,      0.2032,      0.2042,     0.20521,     0.20621,     0.20721,     0.20821,     0.20921,     0.21021,     0.21121,     0.21221,     0.21321,     0.21421,     0.21522,\n",
       "           0.21622,     0.21722,     0.21822,     0.21922,     0.22022,     0.22122,     0.22222,     0.22322,     0.22422,     0.22523,     0.22623,     0.22723,     0.22823,     0.22923,     0.23023,     0.23123,     0.23223,     0.23323,     0.23423,     0.23524,     0.23624,     0.23724,     0.23824,     0.23924,\n",
       "           0.24024,     0.24124,     0.24224,     0.24324,     0.24424,     0.24525,     0.24625,     0.24725,     0.24825,     0.24925,     0.25025,     0.25125,     0.25225,     0.25325,     0.25425,     0.25526,     0.25626,     0.25726,     0.25826,     0.25926,     0.26026,     0.26126,     0.26226,     0.26326,\n",
       "           0.26426,     0.26527,     0.26627,     0.26727,     0.26827,     0.26927,     0.27027,     0.27127,     0.27227,     0.27327,     0.27427,     0.27528,     0.27628,     0.27728,     0.27828,     0.27928,     0.28028,     0.28128,     0.28228,     0.28328,     0.28428,     0.28529,     0.28629,     0.28729,\n",
       "           0.28829,     0.28929,     0.29029,     0.29129,     0.29229,     0.29329,     0.29429,      0.2953,      0.2963,      0.2973,      0.2983,      0.2993,      0.3003,      0.3013,      0.3023,      0.3033,      0.3043,     0.30531,     0.30631,     0.30731,     0.30831,     0.30931,     0.31031,     0.31131,\n",
       "           0.31231,     0.31331,     0.31431,     0.31532,     0.31632,     0.31732,     0.31832,     0.31932,     0.32032,     0.32132,     0.32232,     0.32332,     0.32432,     0.32533,     0.32633,     0.32733,     0.32833,     0.32933,     0.33033,     0.33133,     0.33233,     0.33333,     0.33433,     0.33534,\n",
       "           0.33634,     0.33734,     0.33834,     0.33934,     0.34034,     0.34134,     0.34234,     0.34334,     0.34434,     0.34535,     0.34635,     0.34735,     0.34835,     0.34935,     0.35035,     0.35135,     0.35235,     0.35335,     0.35435,     0.35536,     0.35636,     0.35736,     0.35836,     0.35936,\n",
       "           0.36036,     0.36136,     0.36236,     0.36336,     0.36436,     0.36537,     0.36637,     0.36737,     0.36837,     0.36937,     0.37037,     0.37137,     0.37237,     0.37337,     0.37437,     0.37538,     0.37638,     0.37738,     0.37838,     0.37938,     0.38038,     0.38138,     0.38238,     0.38338,\n",
       "           0.38438,     0.38539,     0.38639,     0.38739,     0.38839,     0.38939,     0.39039,     0.39139,     0.39239,     0.39339,     0.39439,      0.3954,      0.3964,      0.3974,      0.3984,      0.3994,      0.4004,      0.4014,      0.4024,      0.4034,      0.4044,     0.40541,     0.40641,     0.40741,\n",
       "           0.40841,     0.40941,     0.41041,     0.41141,     0.41241,     0.41341,     0.41441,     0.41542,     0.41642,     0.41742,     0.41842,     0.41942,     0.42042,     0.42142,     0.42242,     0.42342,     0.42442,     0.42543,     0.42643,     0.42743,     0.42843,     0.42943,     0.43043,     0.43143,\n",
       "           0.43243,     0.43343,     0.43443,     0.43544,     0.43644,     0.43744,     0.43844,     0.43944,     0.44044,     0.44144,     0.44244,     0.44344,     0.44444,     0.44545,     0.44645,     0.44745,     0.44845,     0.44945,     0.45045,     0.45145,     0.45245,     0.45345,     0.45445,     0.45546,\n",
       "           0.45646,     0.45746,     0.45846,     0.45946,     0.46046,     0.46146,     0.46246,     0.46346,     0.46446,     0.46547,     0.46647,     0.46747,     0.46847,     0.46947,     0.47047,     0.47147,     0.47247,     0.47347,     0.47447,     0.47548,     0.47648,     0.47748,     0.47848,     0.47948,\n",
       "           0.48048,     0.48148,     0.48248,     0.48348,     0.48448,     0.48549,     0.48649,     0.48749,     0.48849,     0.48949,     0.49049,     0.49149,     0.49249,     0.49349,     0.49449,      0.4955,      0.4965,      0.4975,      0.4985,      0.4995,      0.5005,      0.5015,      0.5025,      0.5035,\n",
       "            0.5045,     0.50551,     0.50651,     0.50751,     0.50851,     0.50951,     0.51051,     0.51151,     0.51251,     0.51351,     0.51451,     0.51552,     0.51652,     0.51752,     0.51852,     0.51952,     0.52052,     0.52152,     0.52252,     0.52352,     0.52452,     0.52553,     0.52653,     0.52753,\n",
       "           0.52853,     0.52953,     0.53053,     0.53153,     0.53253,     0.53353,     0.53453,     0.53554,     0.53654,     0.53754,     0.53854,     0.53954,     0.54054,     0.54154,     0.54254,     0.54354,     0.54454,     0.54555,     0.54655,     0.54755,     0.54855,     0.54955,     0.55055,     0.55155,\n",
       "           0.55255,     0.55355,     0.55455,     0.55556,     0.55656,     0.55756,     0.55856,     0.55956,     0.56056,     0.56156,     0.56256,     0.56356,     0.56456,     0.56557,     0.56657,     0.56757,     0.56857,     0.56957,     0.57057,     0.57157,     0.57257,     0.57357,     0.57457,     0.57558,\n",
       "           0.57658,     0.57758,     0.57858,     0.57958,     0.58058,     0.58158,     0.58258,     0.58358,     0.58458,     0.58559,     0.58659,     0.58759,     0.58859,     0.58959,     0.59059,     0.59159,     0.59259,     0.59359,     0.59459,      0.5956,      0.5966,      0.5976,      0.5986,      0.5996,\n",
       "            0.6006,      0.6016,      0.6026,      0.6036,      0.6046,     0.60561,     0.60661,     0.60761,     0.60861,     0.60961,     0.61061,     0.61161,     0.61261,     0.61361,     0.61461,     0.61562,     0.61662,     0.61762,     0.61862,     0.61962,     0.62062,     0.62162,     0.62262,     0.62362,\n",
       "           0.62462,     0.62563,     0.62663,     0.62763,     0.62863,     0.62963,     0.63063,     0.63163,     0.63263,     0.63363,     0.63463,     0.63564,     0.63664,     0.63764,     0.63864,     0.63964,     0.64064,     0.64164,     0.64264,     0.64364,     0.64464,     0.64565,     0.64665,     0.64765,\n",
       "           0.64865,     0.64965,     0.65065,     0.65165,     0.65265,     0.65365,     0.65465,     0.65566,     0.65666,     0.65766,     0.65866,     0.65966,     0.66066,     0.66166,     0.66266,     0.66366,     0.66466,     0.66567,     0.66667,     0.66767,     0.66867,     0.66967,     0.67067,     0.67167,\n",
       "           0.67267,     0.67367,     0.67467,     0.67568,     0.67668,     0.67768,     0.67868,     0.67968,     0.68068,     0.68168,     0.68268,     0.68368,     0.68468,     0.68569,     0.68669,     0.68769,     0.68869,     0.68969,     0.69069,     0.69169,     0.69269,     0.69369,     0.69469,      0.6957,\n",
       "            0.6967,      0.6977,      0.6987,      0.6997,      0.7007,      0.7017,      0.7027,      0.7037,      0.7047,     0.70571,     0.70671,     0.70771,     0.70871,     0.70971,     0.71071,     0.71171,     0.71271,     0.71371,     0.71471,     0.71572,     0.71672,     0.71772,     0.71872,     0.71972,\n",
       "           0.72072,     0.72172,     0.72272,     0.72372,     0.72472,     0.72573,     0.72673,     0.72773,     0.72873,     0.72973,     0.73073,     0.73173,     0.73273,     0.73373,     0.73473,     0.73574,     0.73674,     0.73774,     0.73874,     0.73974,     0.74074,     0.74174,     0.74274,     0.74374,\n",
       "           0.74474,     0.74575,     0.74675,     0.74775,     0.74875,     0.74975,     0.75075,     0.75175,     0.75275,     0.75375,     0.75475,     0.75576,     0.75676,     0.75776,     0.75876,     0.75976,     0.76076,     0.76176,     0.76276,     0.76376,     0.76476,     0.76577,     0.76677,     0.76777,\n",
       "           0.76877,     0.76977,     0.77077,     0.77177,     0.77277,     0.77377,     0.77477,     0.77578,     0.77678,     0.77778,     0.77878,     0.77978,     0.78078,     0.78178,     0.78278,     0.78378,     0.78478,     0.78579,     0.78679,     0.78779,     0.78879,     0.78979,     0.79079,     0.79179,\n",
       "           0.79279,     0.79379,     0.79479,      0.7958,      0.7968,      0.7978,      0.7988,      0.7998,      0.8008,      0.8018,      0.8028,      0.8038,      0.8048,     0.80581,     0.80681,     0.80781,     0.80881,     0.80981,     0.81081,     0.81181,     0.81281,     0.81381,     0.81481,     0.81582,\n",
       "           0.81682,     0.81782,     0.81882,     0.81982,     0.82082,     0.82182,     0.82282,     0.82382,     0.82482,     0.82583,     0.82683,     0.82783,     0.82883,     0.82983,     0.83083,     0.83183,     0.83283,     0.83383,     0.83483,     0.83584,     0.83684,     0.83784,     0.83884,     0.83984,\n",
       "           0.84084,     0.84184,     0.84284,     0.84384,     0.84484,     0.84585,     0.84685,     0.84785,     0.84885,     0.84985,     0.85085,     0.85185,     0.85285,     0.85385,     0.85485,     0.85586,     0.85686,     0.85786,     0.85886,     0.85986,     0.86086,     0.86186,     0.86286,     0.86386,\n",
       "           0.86486,     0.86587,     0.86687,     0.86787,     0.86887,     0.86987,     0.87087,     0.87187,     0.87287,     0.87387,     0.87487,     0.87588,     0.87688,     0.87788,     0.87888,     0.87988,     0.88088,     0.88188,     0.88288,     0.88388,     0.88488,     0.88589,     0.88689,     0.88789,\n",
       "           0.88889,     0.88989,     0.89089,     0.89189,     0.89289,     0.89389,     0.89489,      0.8959,      0.8969,      0.8979,      0.8989,      0.8999,      0.9009,      0.9019,      0.9029,      0.9039,      0.9049,     0.90591,     0.90691,     0.90791,     0.90891,     0.90991,     0.91091,     0.91191,\n",
       "           0.91291,     0.91391,     0.91491,     0.91592,     0.91692,     0.91792,     0.91892,     0.91992,     0.92092,     0.92192,     0.92292,     0.92392,     0.92492,     0.92593,     0.92693,     0.92793,     0.92893,     0.92993,     0.93093,     0.93193,     0.93293,     0.93393,     0.93493,     0.93594,\n",
       "           0.93694,     0.93794,     0.93894,     0.93994,     0.94094,     0.94194,     0.94294,     0.94394,     0.94494,     0.94595,     0.94695,     0.94795,     0.94895,     0.94995,     0.95095,     0.95195,     0.95295,     0.95395,     0.95495,     0.95596,     0.95696,     0.95796,     0.95896,     0.95996,\n",
       "           0.96096,     0.96196,     0.96296,     0.96396,     0.96496,     0.96597,     0.96697,     0.96797,     0.96897,     0.96997,     0.97097,     0.97197,     0.97297,     0.97397,     0.97497,     0.97598,     0.97698,     0.97798,     0.97898,     0.97998,     0.98098,     0.98198,     0.98298,     0.98398,\n",
       "           0.98498,     0.98599,     0.98699,     0.98799,     0.98899,     0.98999,     0.99099,     0.99199,     0.99299,     0.99399,     0.99499,       0.996,       0.997,       0.998,       0.999,           1]), array([[    0.99892,     0.99892,     0.99889,     0.99886,     0.99883,     0.99882,     0.99881,     0.99881,     0.99879,     0.99876,     0.99872,      0.9987,     0.99868,     0.99867,     0.99865,     0.99861,      0.9986,      0.9986,     0.99858,     0.99857,     0.99856,     0.99855,     0.99852,\n",
       "            0.99852,      0.9985,     0.99847,     0.99847,     0.99846,     0.99842,      0.9984,     0.99838,     0.99837,     0.99836,     0.99835,     0.99834,     0.99832,     0.99831,     0.99831,     0.99829,     0.99828,     0.99827,     0.99827,     0.99825,     0.99822,      0.9982,     0.99817,\n",
       "            0.99816,     0.99815,     0.99814,     0.99814,     0.99813,      0.9981,     0.99805,     0.99805,     0.99804,     0.99804,     0.99802,     0.99802,     0.99802,     0.99799,     0.99797,     0.99796,     0.99795,     0.99793,     0.99793,     0.99791,      0.9979,     0.99788,     0.99788,\n",
       "            0.99786,     0.99786,     0.99786,     0.99784,     0.99784,     0.99784,     0.99783,     0.99783,     0.99782,     0.99782,     0.99781,     0.99781,     0.99781,      0.9978,     0.99778,     0.99776,     0.99776,     0.99774,     0.99773,     0.99773,      0.9977,      0.9977,     0.99768,\n",
       "            0.99767,     0.99766,     0.99765,     0.99763,     0.99761,      0.9976,     0.99759,     0.99757,     0.99756,     0.99756,     0.99756,     0.99756,     0.99755,     0.99753,     0.99752,      0.9975,      0.9975,     0.99749,     0.99747,     0.99746,     0.99744,     0.99743,      0.9974,\n",
       "             0.9974,     0.99738,     0.99736,     0.99734,     0.99734,     0.99734,     0.99734,     0.99734,     0.99733,     0.99733,     0.99732,      0.9973,     0.99729,     0.99727,     0.99727,     0.99724,     0.99723,     0.99719,     0.99718,     0.99717,     0.99717,     0.99714,     0.99713,\n",
       "            0.99712,     0.99711,      0.9971,     0.99709,     0.99709,     0.99708,     0.99705,     0.99705,     0.99703,     0.99702,     0.99702,     0.99702,       0.997,     0.99699,     0.99698,     0.99697,     0.99696,     0.99695,     0.99695,     0.99693,     0.99692,     0.99689,     0.99688,\n",
       "            0.99686,     0.99684,     0.99684,     0.99682,     0.99681,     0.99679,     0.99679,     0.99678,     0.99678,     0.99677,     0.99677,     0.99676,     0.99675,     0.99673,     0.99673,      0.9967,     0.99669,     0.99668,     0.99667,     0.99666,     0.99666,     0.99665,     0.99663,\n",
       "            0.99663,     0.99661,      0.9966,     0.99657,     0.99656,     0.99654,     0.99651,     0.99649,     0.99648,     0.99647,     0.99647,     0.99645,     0.99645,     0.99645,     0.99644,     0.99642,     0.99641,      0.9964,     0.99638,     0.99637,     0.99634,     0.99633,     0.99633,\n",
       "            0.99632,     0.99629,     0.99628,     0.99628,     0.99628,     0.99627,     0.99627,     0.99625,     0.99624,     0.99624,     0.99622,      0.9962,     0.99619,     0.99619,     0.99619,     0.99618,     0.99617,     0.99616,     0.99616,     0.99615,     0.99615,     0.99614,     0.99614,\n",
       "            0.99611,      0.9961,     0.99609,     0.99608,     0.99608,     0.99607,     0.99606,     0.99604,     0.99604,     0.99604,     0.99603,     0.99603,     0.99602,     0.99602,     0.99602,     0.99601,     0.99601,     0.99601,     0.99598,     0.99598,     0.99596,     0.99595,     0.99594,\n",
       "            0.99593,     0.99591,     0.99591,      0.9959,     0.99589,     0.99588,     0.99586,     0.99586,     0.99584,     0.99583,     0.99582,     0.99581,     0.99581,     0.99579,     0.99578,     0.99576,     0.99576,     0.99574,     0.99573,     0.99573,     0.99573,     0.99572,      0.9957,\n",
       "             0.9957,     0.99568,     0.99567,     0.99566,     0.99565,     0.99564,     0.99562,     0.99559,     0.99559,     0.99558,     0.99555,     0.99555,     0.99553,     0.99552,     0.99551,      0.9955,     0.99549,     0.99547,     0.99547,     0.99545,     0.99544,     0.99543,     0.99542,\n",
       "            0.99541,      0.9954,     0.99538,     0.99538,     0.99535,     0.99535,     0.99534,     0.99534,     0.99533,      0.9953,     0.99529,     0.99529,     0.99527,     0.99526,     0.99526,     0.99524,     0.99523,     0.99522,     0.99521,     0.99519,     0.99517,     0.99516,     0.99516,\n",
       "            0.99515,     0.99515,     0.99513,     0.99512,     0.99509,     0.99507,     0.99506,     0.99505,     0.99503,     0.99502,     0.99501,       0.995,       0.995,     0.99498,     0.99498,     0.99496,     0.99496,     0.99496,     0.99494,     0.99494,     0.99493,     0.99491,     0.99489,\n",
       "            0.99488,     0.99487,     0.99486,     0.99486,     0.99484,     0.99482,      0.9948,     0.99474,     0.99474,     0.99471,      0.9947,      0.9947,     0.99468,     0.99466,     0.99466,     0.99465,     0.99464,     0.99464,     0.99462,     0.99461,     0.99461,     0.99459,     0.99456,\n",
       "            0.99455,     0.99453,     0.99452,     0.99452,     0.99451,      0.9945,      0.9945,     0.99449,     0.99447,     0.99445,     0.99444,     0.99443,     0.99443,     0.99441,      0.9944,     0.99437,     0.99437,     0.99436,     0.99435,     0.99433,     0.99433,      0.9943,     0.99429,\n",
       "            0.99429,     0.99429,     0.99428,     0.99427,     0.99426,     0.99422,     0.99422,     0.99421,     0.99421,     0.99419,     0.99419,     0.99418,     0.99417,     0.99416,     0.99416,     0.99414,     0.99411,     0.99408,     0.99407,     0.99406,     0.99405,     0.99404,     0.99402,\n",
       "              0.994,     0.99397,     0.99397,     0.99396,     0.99396,     0.99395,     0.99395,     0.99393,     0.99393,     0.99388,     0.99385,     0.99384,     0.99383,     0.99382,      0.9938,     0.99379,     0.99376,     0.99375,     0.99374,     0.99372,      0.9937,     0.99369,     0.99368,\n",
       "            0.99367,     0.99366,     0.99366,     0.99363,     0.99363,     0.99362,      0.9936,     0.99359,     0.99358,     0.99355,     0.99355,     0.99354,     0.99352,     0.99348,     0.99346,     0.99345,     0.99343,     0.99341,     0.99337,     0.99334,     0.99334,     0.99332,      0.9933,\n",
       "            0.99328,     0.99325,     0.99324,     0.99322,      0.9932,     0.99319,     0.99318,     0.99316,     0.99315,     0.99312,     0.99311,     0.99307,     0.99305,     0.99304,     0.99304,     0.99301,     0.99301,     0.99301,       0.993,     0.99298,     0.99294,     0.99294,     0.99292,\n",
       "            0.99292,      0.9929,     0.99289,     0.99286,     0.99285,     0.99284,     0.99283,     0.99281,      0.9928,     0.99278,     0.99277,     0.99274,     0.99274,     0.99271,     0.99266,     0.99265,     0.99264,     0.99263,     0.99261,     0.99261,     0.99259,     0.99254,     0.99252,\n",
       "            0.99248,     0.99245,     0.99242,      0.9924,     0.99239,     0.99237,     0.99236,     0.99233,      0.9923,     0.99227,     0.99225,     0.99225,     0.99221,     0.99219,     0.99216,     0.99213,     0.99212,     0.99211,     0.99209,     0.99204,     0.99203,       0.992,       0.992,\n",
       "            0.99196,     0.99195,     0.99195,     0.99194,     0.99193,     0.99191,     0.99188,     0.99185,     0.99182,     0.99182,     0.99178,     0.99176,     0.99174,     0.99172,     0.99169,     0.99168,     0.99167,     0.99166,     0.99165,     0.99165,     0.99163,     0.99161,      0.9916,\n",
       "            0.99159,     0.99156,     0.99155,     0.99153,      0.9915,     0.99146,     0.99143,     0.99142,     0.99139,     0.99138,     0.99133,     0.99132,     0.99127,     0.99126,     0.99125,     0.99123,     0.99123,     0.99122,     0.99119,     0.99118,     0.99117,     0.99116,     0.99112,\n",
       "             0.9911,     0.99106,     0.99106,     0.99103,     0.99102,     0.99099,     0.99096,     0.99093,     0.99092,     0.99091,     0.99083,     0.99081,     0.99077,     0.99077,     0.99073,     0.99071,     0.99067,     0.99065,     0.99063,     0.99061,     0.99057,     0.99056,     0.99053,\n",
       "             0.9905,     0.99048,     0.99045,     0.99043,     0.99042,      0.9904,     0.99035,     0.99034,     0.99032,     0.99026,     0.99024,     0.99019,     0.99017,     0.99013,     0.99011,     0.99008,     0.99007,     0.99006,     0.99006,     0.99003,        0.99,     0.98995,     0.98992,\n",
       "             0.9899,     0.98986,     0.98983,     0.98982,     0.98979,     0.98973,     0.98972,     0.98968,     0.98967,      0.9896,     0.98957,     0.98952,     0.98948,     0.98947,     0.98945,     0.98944,     0.98939,     0.98938,     0.98933,     0.98924,     0.98924,      0.9892,     0.98919,\n",
       "            0.98914,     0.98913,      0.9891,      0.9891,     0.98908,       0.989,     0.98898,     0.98897,     0.98895,     0.98893,     0.98892,     0.98887,     0.98885,     0.98883,     0.98876,     0.98874,      0.9887,     0.98868,     0.98864,     0.98859,     0.98858,     0.98854,     0.98852,\n",
       "            0.98848,     0.98847,     0.98842,     0.98836,     0.98834,     0.98826,     0.98822,     0.98819,     0.98815,     0.98809,     0.98803,     0.98801,     0.98799,     0.98792,      0.9879,     0.98786,     0.98785,     0.98778,     0.98777,     0.98774,     0.98767,     0.98761,     0.98759,\n",
       "            0.98755,     0.98753,     0.98749,     0.98746,     0.98739,     0.98737,     0.98733,     0.98731,     0.98722,      0.9872,     0.98709,     0.98706,     0.98701,       0.987,     0.98693,     0.98683,     0.98683,     0.98676,     0.98675,      0.9867,     0.98663,     0.98663,     0.98657,\n",
       "            0.98657,     0.98649,      0.9864,     0.98639,     0.98631,     0.98631,     0.98624,     0.98617,     0.98603,     0.98603,     0.98593,     0.98593,      0.9858,     0.98573,     0.98573,     0.98564,     0.98553,     0.98552,     0.98547,     0.98541,      0.9854,     0.98532,     0.98531,\n",
       "            0.98525,     0.98516,     0.98516,     0.98511,     0.98503,     0.98497,     0.98496,      0.9849,      0.9848,     0.98479,     0.98465,     0.98456,     0.98455,     0.98448,     0.98444,     0.98444,      0.9843,     0.98423,     0.98422,     0.98411,     0.98404,     0.98403,     0.98394,\n",
       "            0.98382,     0.98374,     0.98373,     0.98361,     0.98343,     0.98332,      0.9833,     0.98317,     0.98305,     0.98305,     0.98294,      0.9828,      0.9828,     0.98266,     0.98254,     0.98244,     0.98243,     0.98229,     0.98219,     0.98218,      0.9821,     0.98196,     0.98188,\n",
       "            0.98174,     0.98173,     0.98163,     0.98148,     0.98136,     0.98136,     0.98123,     0.98112,     0.98096,     0.98094,     0.98076,     0.98059,     0.98046,     0.98045,     0.98034,     0.98021,      0.9801,     0.97997,     0.97985,     0.97973,     0.97972,     0.97956,     0.97937,\n",
       "            0.97916,       0.979,     0.97899,     0.97886,      0.9787,     0.97852,     0.97835,     0.97834,     0.97817,     0.97803,     0.97791,     0.97781,     0.97767,     0.97766,     0.97744,     0.97713,     0.97712,     0.97692,     0.97681,     0.97661,     0.97642,     0.97618,     0.97599,\n",
       "            0.97599,     0.97578,     0.97553,      0.9753,     0.97505,     0.97478,      0.9746,     0.97437,     0.97412,     0.97388,     0.97387,     0.97362,      0.9732,     0.97301,     0.97274,     0.97245,     0.97222,     0.97189,     0.97189,     0.97167,     0.97136,     0.97106,     0.97069,\n",
       "            0.97043,     0.97007,     0.96982,     0.96946,     0.96908,     0.96869,     0.96832,     0.96801,     0.96775,     0.96714,     0.96668,      0.9664,     0.96607,     0.96566,     0.96524,      0.9648,     0.96444,     0.96368,     0.96326,     0.96285,     0.96234,     0.96183,     0.96128,\n",
       "             0.9608,     0.96027,     0.95925,     0.95879,      0.9582,     0.95763,     0.95655,     0.95596,     0.95538,     0.95474,     0.95357,     0.95303,     0.95244,     0.95181,     0.95071,     0.95013,     0.94953,     0.94839,     0.94775,     0.94707,     0.94646,     0.94513,     0.94439,\n",
       "            0.94308,      0.9423,     0.94152,     0.94016,     0.93877,     0.93801,     0.93646,     0.93565,     0.93407,     0.93323,     0.93226,     0.93048,     0.92859,     0.92774,     0.92593,     0.92494,     0.92315,     0.92223,     0.92035,     0.91846,     0.91728,     0.91527,     0.91299,\n",
       "            0.91061,      0.9085,     0.90596,     0.90465,     0.90212,     0.89959,     0.89664,     0.89376,     0.89077,     0.88886,     0.88536,     0.88164,     0.87767,     0.87323,     0.86839,     0.86313,     0.85428,      0.8478,     0.84066,     0.83235,     0.81986,     0.80754,     0.79945,\n",
       "            0.79121,     0.77941,     0.77075,     0.75853,     0.75003,     0.73757,     0.72882,     0.71571,     0.70144,     0.69054,      0.6734,     0.65352,     0.63349,     0.61088,     0.58665,     0.56195,     0.53644,     0.48754,      0.4398,     0.39809,     0.34169,     0.29929,     0.25275,\n",
       "            0.21448,     0.18526,     0.16023,     0.13807,     0.11218,    0.091399,     0.06892,    0.046369,    0.025164,   0.0096433,   0.0030088,  0.00086417,  0.00030257,  0.00010794,  1.4038e-05,           0,           0,           0,           0,           0,           0,           0,           0,\n",
       "                  0,           0,           0,           0,           0,           0,           0,           0,           0,           0,           0]]), 'Confidence', 'Recall']]\n",
       "fitness: 0.9869225292625916\n",
       "keys: ['metrics/precision(B)', 'metrics/recall(B)', 'metrics/mAP50(B)', 'metrics/mAP50-95(B)']\n",
       "maps: array([    0.98606,     0.98606,     0.98606,     0.98606,     0.98606,     0.98606,     0.98606,     0.98606,     0.98606,     0.98606,     0.98606,     0.98606,     0.98606,     0.98606,     0.98606,     0.98606,     0.98606,     0.98606,     0.98606,     0.98606,     0.98606,     0.98606,     0.98606,     0.98606,\n",
       "           0.98606,     0.98606,     0.98606,     0.98606,     0.98606,     0.98606,     0.98606,     0.98606,     0.98606,     0.98606,     0.98606,     0.98606,     0.98606,     0.98606,     0.98606,     0.98606])\n",
       "names: {0: 'Gate Valve, N.O', 1: 'Ball Valve', 2: 'Globe Valve, N.O.', 3: 'Gate Valve, N.O.', 4: \"Ball Valve'\", 5: 'Butterfly Valve', 6: 'Gate Valve, Manually Actuated', 7: 'Check Valve', 8: 'Diaphragm Valve', 9: 'Needle Valve', 10: 'Gate Valve, P.C.', 11: 'Gate Valve, N.C.', 12: 'Globe Valve, N.C', 13: 'Gate Valve, Pneumatic', 14: 'Rotary Valve, N.O.', 15: 'Rotary Valve, N.C.', 16: 'Open Spacer', 17: 'Spectacle Blind, N.C.', 18: 'Spectacle Blind, N.O.', 19: 'Reducer', 20: 'Flange', 21: 'Heat Exchanger', 22: 'Insulation', 23: 'Flow Arrow', 24: 'Circle Valve', 25: 'Inline Indicator', 26: 'Inline Flow Meter', 27: 'Shared Display, Local', 28: 'Shared Display, Remote', 29: 'Control Panel', 30: 'Non-Inline Flow Meter', 31: 'Control Measurement Point', 32: 'Gauge', 33: 'Swinging Disk Check Valve', 34: 'Hose Bib', 35: 'Pressure Vessel', 36: 'Centrifugal Pump', 37: 'Motor', 38: 'Coupling', 39: 'Continuation Arrow'}\n",
       "plot: True\n",
       "results_dict: {'metrics/precision(B)': 0.9923124252087844, 'metrics/recall(B)': 0.9931571903466736, 'metrics/mAP50(B)': 0.9947195415723311, 'metrics/mAP50-95(B)': 0.9860561945615094, 'fitness': 0.9869225292625916}\n",
       "save_dir: WindowsPath('runs/detect/Single Class 100E (MR Slices)')\n",
       "speed: {'preprocess': 0.07889383945915528, 'inference': 0.7845455890379347, 'loss': 0.00012401827444090567, 'postprocess': 0.702339128796278}\n",
       "task: 'detect'\n",
       "training: {'epochs': 100, 'seconds': 78549.90055203438}"
      ]
     },
     "execution_count": 5,
     "metadata": {},
     "output_type": "execute_result"
    }
   ],
   "source": [
    "# Pre-Trained Yolo v 11\n",
    "model = YOLO('yolo11n.pt')\n",
    "\n",
    "model.train(\n",
    "        data = 'YAML/data_cropped_segmented.yaml',\n",
    "        epochs = 100,\n",
    "        patience = 10,\n",
    "        batch = 32,\n",
    "        imgsz = 640, # og image size 7,168, cropped 5,668\n",
    "        name = 'Single Class 100E (MR Slices, 90 deg)',\n",
    "        device = 0,\n",
    "        verbose = True,\n",
    "        seed = 510,\n",
    "        fraction = 0.3, \n",
    "        cos_lr = True,\n",
    "        single_cls = True,\n",
    "        dropout = 0.3,\n",
    "        plots = True,\n",
    "\n",
    "        # Augmentation Parameters #\n",
    "        hsv_h = 0, # P&IDs will be b/w, don't modify hue\n",
    "        hsv_s = 0, # or saturation\n",
    "        hsv_v = 0.3, # Brightness Augmentation (counterract gray mean borders introduced by rotation/shearing augms)\n",
    "        degrees = 90,\n",
    "        translate = 0,\n",
    "        scale = 0.2, \n",
    "        shear = 10,\n",
    "        flipud = 0.5,\n",
    "        fliplr = 0.5, \n",
    "        mosaic = 0, # Disable mosaic, larger P&ID crops already mosaic like\n",
    "        mixup = 0,  \n",
    "        erasing = 0.3, # Erases portion of images\n",
    "        crop_fraction = 1.0, # Disable cropping, reduce gray borders during training\n",
    ")"
   ]
  }
 ],
 "metadata": {
  "kernelspec": {
   "display_name": "capstone",
   "language": "python",
   "name": "python3"
  },
  "language_info": {
   "codemirror_mode": {
    "name": "ipython",
    "version": 3
   },
   "file_extension": ".py",
   "mimetype": "text/x-python",
   "name": "python",
   "nbconvert_exporter": "python",
   "pygments_lexer": "ipython3",
   "version": "3.11.10"
  }
 },
 "nbformat": 4,
 "nbformat_minor": 2
}
